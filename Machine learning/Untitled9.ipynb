{
 "cells": [
  {
   "cell_type": "code",
   "execution_count": 1,
   "id": "36e29017",
   "metadata": {},
   "outputs": [],
   "source": [
    "import cv2  #(BGR)"
   ]
  },
  {
   "cell_type": "code",
   "execution_count": 2,
   "id": "feb8d40e",
   "metadata": {},
   "outputs": [],
   "source": [
    "cap = cv2.VideoCapture(0) # 0 meanswant to use default camera device av.on sys"
   ]
  },
  {
   "cell_type": "code",
   "execution_count": 3,
   "id": "e1201d02",
   "metadata": {},
   "outputs": [],
   "source": [
    "status,photo = cap.read() #photo is variable"
   ]
  },
  {
   "cell_type": "code",
   "execution_count": 4,
   "id": "47af0b78",
   "metadata": {},
   "outputs": [
    {
     "data": {
      "text/plain": [
       "True"
      ]
     },
     "execution_count": 4,
     "metadata": {},
     "output_type": "execute_result"
    }
   ],
   "source": [
    "status"
   ]
  },
  {
   "cell_type": "code",
   "execution_count": 11,
   "id": "b9290df6",
   "metadata": {},
   "outputs": [
    {
     "data": {
      "text/plain": [
       "True"
      ]
     },
     "execution_count": 11,
     "metadata": {},
     "output_type": "execute_result"
    }
   ],
   "source": [
    "cv2.imwrite(\"anjali1.png\",photo)  #shifttab"
   ]
  },
  {
   "cell_type": "code",
   "execution_count": 12,
   "id": "9a4c5f4a",
   "metadata": {},
   "outputs": [],
   "source": [
    "cv2.imshow (\"my photo\", photo)  #display the resulting photo\n",
    "\n",
    "cv2.waitKey(5000)\n",
    "cv2.destroyAllWindows()\n"
   ]
  },
  {
   "cell_type": "code",
   "execution_count": null,
   "id": "2c7f36b6",
   "metadata": {},
   "outputs": [],
   "source": []
  }
 ],
 "metadata": {
  "kernelspec": {
   "display_name": "Python 3 (ipykernel)",
   "language": "python",
   "name": "python3"
  },
  "language_info": {
   "codemirror_mode": {
    "name": "ipython",
    "version": 3
   },
   "file_extension": ".py",
   "mimetype": "text/x-python",
   "name": "python",
   "nbconvert_exporter": "python",
   "pygments_lexer": "ipython3",
   "version": "3.10.9"
  }
 },
 "nbformat": 4,
 "nbformat_minor": 5
}
