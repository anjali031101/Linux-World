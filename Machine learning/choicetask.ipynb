{
 "cells": [
  {
   "cell_type": "code",
   "execution_count": null,
   "id": "9d9a77a5",
   "metadata": {},
   "outputs": [
    {
     "name": "stdout",
     "output_type": "stream",
     "text": [
      "welcome to lw\n",
      "---------------------\n",
      "\n",
      "press 1:to open brave\n",
      "press 2:to open word\n",
      "press 3:to open whatsapp\n",
      "press 4:to open vlc\n",
      "\n"
     ]
    }
   ],
   "source": [
    "import os\n",
    "\n",
    "os.system(\"tput setaf 1\")\n",
    "print(\"welcome to lw\")\n",
    "\n",
    "os.system(\"tput setaf 7\")\n",
    "print(\"---------------------\")\n",
    "\n",
    "print(\n",
    "\"\"\"\n",
    "press 1:to open brave\n",
    "press 2:to open word\n",
    "press 3:to open whatsapp\n",
    "press 4:to open vlc\n",
    "\"\"\"\n",
    ")\n",
    "ch=input(\"enter your choice:\")\n",
    "if ch == \"1\":\n",
    "\tos.system(\"start brave\")\n",
    "elif ch == \"2\":\n",
    "\tos.system(\"start word\")\n",
    "elif ch == \"3\":\n",
    "\tos.system(\"start whatsapp\")\n",
    "elif ch == \"4\":\n",
    "\tos.system(\"start vlc\")"
   ]
  },
  {
   "cell_type": "code",
   "execution_count": null,
   "id": "c09644db",
   "metadata": {},
   "outputs": [],
   "source": []
  }
 ],
 "metadata": {
  "kernelspec": {
   "display_name": "Python 3 (ipykernel)",
   "language": "python",
   "name": "python3"
  },
  "language_info": {
   "codemirror_mode": {
    "name": "ipython",
    "version": 3
   },
   "file_extension": ".py",
   "mimetype": "text/x-python",
   "name": "python",
   "nbconvert_exporter": "python",
   "pygments_lexer": "ipython3",
   "version": "3.10.9"
  }
 },
 "nbformat": 4,
 "nbformat_minor": 5
}
