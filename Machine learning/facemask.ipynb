{
 "cells": [
  {
   "cell_type": "code",
   "execution_count": 1,
   "id": "6462fa15",
   "metadata": {},
   "outputs": [],
   "source": [
    "import cv2"
   ]
  },
  {
   "cell_type": "code",
   "execution_count": 2,
   "id": "bb0274f9",
   "metadata": {},
   "outputs": [],
   "source": [
    "cap= cv2.VideoCapture(0)"
   ]
  },
  {
   "cell_type": "code",
   "execution_count": 3,
   "id": "068e1b80",
   "metadata": {},
   "outputs": [],
   "source": [
    "status ,photo = cap.read() "
   ]
  },
  {
   "cell_type": "code",
   "execution_count": 4,
   "id": "2bda0a86",
   "metadata": {},
   "outputs": [
    {
     "name": "stdout",
     "output_type": "stream",
     "text": [
      "Error: Failed to load the face detection model.\n"
     ]
    },
    {
     "ename": "error",
     "evalue": "OpenCV(4.7.0) D:\\a\\opencv-python\\opencv-python\\opencv\\modules\\objdetect\\src\\cascadedetect.cpp:1689: error: (-215:Assertion failed) !empty() in function 'cv::CascadeClassifier::detectMultiScale'\n",
     "output_type": "error",
     "traceback": [
      "\u001b[1;31m---------------------------------------------------------------------------\u001b[0m",
      "\u001b[1;31merror\u001b[0m                                     Traceback (most recent call last)",
      "Cell \u001b[1;32mIn[4], line 64\u001b[0m\n\u001b[0;32m     62\u001b[0m \u001b[38;5;66;03m# Detect faces in the frame\u001b[39;00m\n\u001b[0;32m     63\u001b[0m gray \u001b[38;5;241m=\u001b[39m cv2\u001b[38;5;241m.\u001b[39mcvtColor(frame, cv2\u001b[38;5;241m.\u001b[39mCOLOR_BGR2GRAY)\n\u001b[1;32m---> 64\u001b[0m faces \u001b[38;5;241m=\u001b[39m \u001b[43mface_cascade\u001b[49m\u001b[38;5;241;43m.\u001b[39;49m\u001b[43mdetectMultiScale\u001b[49m\u001b[43m(\u001b[49m\u001b[43mgray\u001b[49m\u001b[43m,\u001b[49m\u001b[43m \u001b[49m\u001b[43mscaleFactor\u001b[49m\u001b[38;5;241;43m=\u001b[39;49m\u001b[38;5;241;43m1.1\u001b[39;49m\u001b[43m,\u001b[49m\u001b[43m \u001b[49m\u001b[43mminNeighbors\u001b[49m\u001b[38;5;241;43m=\u001b[39;49m\u001b[38;5;241;43m5\u001b[39;49m\u001b[43m,\u001b[49m\u001b[43m \u001b[49m\u001b[43mminSize\u001b[49m\u001b[38;5;241;43m=\u001b[39;49m\u001b[43m(\u001b[49m\u001b[38;5;241;43m30\u001b[39;49m\u001b[43m,\u001b[49m\u001b[43m \u001b[49m\u001b[38;5;241;43m30\u001b[39;49m\u001b[43m)\u001b[49m\u001b[43m)\u001b[49m\n\u001b[0;32m     66\u001b[0m \u001b[38;5;66;03m# Remove the background of the frame\u001b[39;00m\n\u001b[0;32m     67\u001b[0m frame_rgb \u001b[38;5;241m=\u001b[39m remove_background(frame_rgb)\n",
      "\u001b[1;31merror\u001b[0m: OpenCV(4.7.0) D:\\a\\opencv-python\\opencv-python\\opencv\\modules\\objdetect\\src\\cascadedetect.cpp:1689: error: (-215:Assertion failed) !empty() in function 'cv::CascadeClassifier::detectMultiScale'\n"
     ]
    }
   ],
   "source": [
    "import cv2\n",
    "\n",
    "# Load the face detection model\n",
    "face_cascade = cv2.CascadeClassifier(cv2.data.haarcascades + 'haarcascase.xml')\n",
    "\n",
    "# Verify if the face detection model is loaded successfully\n",
    "if face_cascade.empty():\n",
    "    print(\"Error: Failed to load the face detection model.\")\n",
    "    exit(1)\n",
    "\n",
    "# Load the party mask image with transparent background\n",
    "mask = cv2.imread('mask.png', cv2.IMREAD_UNCHANGED)\n",
    "\n",
    "# Function to remove the background of an image\n",
    "def remove_background(image):\n",
    "    gray = cv2.cvtColor(image, cv2.COLOR_BGR2GRAY)\n",
    "    _, mask = cv2.threshold(gray, 1, 255, cv2.THRESH_BINARY_INV)\n",
    "    masked_image = cv2.bitwise_and(image, image, mask=mask)\n",
    "    return masked_image\n",
    "\n",
    "# Function to add the party mask overlay on faces\n",
    "def add_mask(image, faces):\n",
    "    for (x, y, w, h) in faces:\n",
    "        resized_mask = cv2.resize(mask, (w, h))\n",
    "        mask_h, mask_w, _ = resized_mask.shape\n",
    "\n",
    "        # Adjust the mask position based on face coordinates\n",
    "        y1, y2 = y, y + mask_h\n",
    "        x1, x2 = x, x + mask_w\n",
    "\n",
    "        # Ensure the mask is within the image boundaries\n",
    "        if x2 > image.shape[1] or y2 > image.shape[0]:\n",
    "            continue\n",
    "\n",
    "        # Apply the mask on the face region\n",
    "        mask_alpha = resized_mask[:, :, 3] / 255.0\n",
    "        mask_rgb = resized_mask[:, :, :3]\n",
    "        masked_face = image[y1:y2, x1:x2]\n",
    "        masked_face = cv2.cvtColor(masked_face, cv2.COLOR_BGR2RGB)\n",
    "        masked_face = cv2.addWeighted(masked_face, 1.0, mask_rgb, mask_alpha, 0.0)\n",
    "        masked_face = cv2.cvtColor(masked_face, cv2.COLOR_RGB2BGR)\n",
    "        image[y1:y2, x1:x2] = masked_face\n",
    "\n",
    "    return image\n",
    "\n",
    "# Open the video capture\n",
    "video_capture = cv2.VideoCapture(0)  # Change to 1 or 2 if you have multiple cameras\n",
    "\n",
    "# Loop over frames from the video stream\n",
    "while True:\n",
    "    # Read the next frame from the video stream\n",
    "    ret, frame = video_capture.read()\n",
    "\n",
    "    # Verify if the frame was read successfully\n",
    "    if not ret:\n",
    "        print(\"Error: Failed to read the frame from the video stream.\")\n",
    "        break\n",
    "\n",
    "    # Convert the frame to RGB (OpenCV uses BGR by default)\n",
    "    frame_rgb = cv2.cvtColor(frame, cv2.COLOR_BGR2RGB)\n",
    "\n",
    "    # Detect faces in the frame\n",
    "    gray = cv2.cvtColor(frame, cv2.COLOR_BGR2GRAY)\n",
    "    faces = face_cascade.detectMultiScale(gray, scaleFactor=1.1, minNeighbors=5, minSize=(30, 30))\n",
    "\n",
    "    # Remove the background of the frame\n",
    "    frame_rgb = remove_background(frame_rgb)\n",
    "\n",
    "    # Add the party mask overlay on the detected faces\n",
    "    frame_with_mask = add_mask(frame_rgb, faces)\n",
    "\n",
    "    # Convert the frame back to BGR for displaying\n",
    "    frame_bgr = cv2.cvtColor(frame_with_mask, cv2.COLOR_RGB2BGR)\n",
    "\n",
    "    # Display the resulting frame\n",
    "    cv2.imshow('Party Mask', frame_bgr)\n",
    "\n",
    "    # Break the loop if 'q' is pressed\n",
    "    if cv2.waitKey(1) & 0xFF == ord('q'):\n",
    "        break\n",
    "\n",
    "# Release the video capture and close all windows\n",
    "video_capture.release()\n",
    "cv2.destroyAllWindows()\n"
   ]
  },
  {
   "cell_type": "code",
   "execution_count": null,
   "id": "87db4544",
   "metadata": {},
   "outputs": [],
   "source": []
  }
 ],
 "metadata": {
  "kernelspec": {
   "display_name": "Python 3 (ipykernel)",
   "language": "python",
   "name": "python3"
  },
  "language_info": {
   "codemirror_mode": {
    "name": "ipython",
    "version": 3
   },
   "file_extension": ".py",
   "mimetype": "text/x-python",
   "name": "python",
   "nbconvert_exporter": "python",
   "pygments_lexer": "ipython3",
   "version": "3.10.9"
  }
 },
 "nbformat": 4,
 "nbformat_minor": 5
}
