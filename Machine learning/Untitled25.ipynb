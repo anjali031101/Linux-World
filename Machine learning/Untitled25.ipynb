{
 "cells": [
  {
   "cell_type": "code",
   "execution_count": 1,
   "id": "cfc85b19",
   "metadata": {},
   "outputs": [],
   "source": [
    "import cv2"
   ]
  },
  {
   "cell_type": "code",
   "execution_count": 2,
   "id": "50dc25f3",
   "metadata": {},
   "outputs": [],
   "source": [
    "cap= cv2.VideoCapture(0)"
   ]
  },
  {
   "cell_type": "code",
   "execution_count": 3,
   "id": "c7915160",
   "metadata": {},
   "outputs": [],
   "source": [
    "status ,photo = cap.read() "
   ]
  },
  {
   "cell_type": "code",
   "execution_count": 4,
   "id": "0985d120",
   "metadata": {},
   "outputs": [
    {
     "ename": "RuntimeError",
     "evalue": "Failed to load the cascade classifier.",
     "output_type": "error",
     "traceback": [
      "\u001b[1;31m---------------------------------------------------------------------------\u001b[0m",
      "\u001b[1;31mRuntimeError\u001b[0m                              Traceback (most recent call last)",
      "Cell \u001b[1;32mIn[4], line 17\u001b[0m\n\u001b[0;32m     15\u001b[0m \u001b[38;5;66;03m# Check if the cascade classifier loaded successfully\u001b[39;00m\n\u001b[0;32m     16\u001b[0m \u001b[38;5;28;01mif\u001b[39;00m face_cascade\u001b[38;5;241m.\u001b[39mempty():\n\u001b[1;32m---> 17\u001b[0m     \u001b[38;5;28;01mraise\u001b[39;00m \u001b[38;5;167;01mRuntimeError\u001b[39;00m(\u001b[38;5;124m'\u001b[39m\u001b[38;5;124mFailed to load the cascade classifier.\u001b[39m\u001b[38;5;124m'\u001b[39m)\n\u001b[0;32m     19\u001b[0m \u001b[38;5;66;03m# Initialize the video stream capture\u001b[39;00m\n\u001b[0;32m     20\u001b[0m cap \u001b[38;5;241m=\u001b[39m cv2\u001b[38;5;241m.\u001b[39mVideoCapture(\u001b[38;5;241m0\u001b[39m)  \u001b[38;5;66;03m# Use 0 for the default camera, or specify the video file path\u001b[39;00m\n",
      "\u001b[1;31mRuntimeError\u001b[0m: Failed to load the cascade classifier."
     ]
    }
   ],
   "source": [
    "import cv2\n",
    "import math\n",
    "\n",
    "# Constants for camera calibration\n",
    "KNOWN_DISTANCE = 100  # Known distance from the camera to the object (in any unit)\n",
    "KNOWN_FACE_WIDTH = 20  # Known width of the face (in the same unit as the distance)\n",
    "\n",
    "# Function to calculate distance based on face width in the image\n",
    "def calculate_distance(focal_length, face_width, pixel_width):\n",
    "    return (KNOWN_DISTANCE * face_width) / (2 * focal_length * math.tan(pixel_width / 2))\n",
    "\n",
    "# Load the pre-trained face cascade classifier provided by OpenCV\n",
    "face_cascade = cv2.CascadeClassifier(cv2.data.haarcascades + 'haarcascase.xml')\n",
    "\n",
    "# Check if the cascade classifier loaded successfully\n",
    "if face_cascade.empty():\n",
    "    raise RuntimeError('Failed to load the cascade classifier.')\n",
    "\n",
    "# Initialize the video stream capture\n",
    "cap = cv2.VideoCapture(0)  # Use 0 for the default camera, or specify the video file path\n",
    "\n",
    "# Obtain the focal length of the camera by calibrating it\n",
    "# ...\n",
    "# You'll need to implement the camera calibration step to calculate the focal length\n",
    "\n",
    "while True:\n",
    "    ret, frame = cap.read()\n",
    "\n",
    "    if not ret:\n",
    "        break\n",
    "\n",
    "    # Convert the frame to grayscale for face detection\n",
    "    gray = cv2.cvtColor(frame, cv2.COLOR_BGR2GRAY)\n",
    "\n",
    "    # Detect faces in the grayscale frame\n",
    "    faces = face_cascade.detectMultiScale(gray, scaleFactor=1.1, minNeighbors=5, minSize=(30, 30))\n",
    "\n",
    "    for (x, y, w, h) in faces:\n",
    "        # Calculate the distance to the detected face\n",
    "        distance = calculate_distance(focal_length, KNOWN_FACE_WIDTH, w)\n",
    "\n",
    "        # Draw a rectangle around the detected face\n",
    "        cv2.rectangle(frame, (x, y), (x + w, y + h), (0, 255, 0), 2)\n",
    "\n",
    "        # Display the distance on the frame\n",
    "        cv2.putText(frame, f\"Distance: {distance:.2f} units\", (x, y - 10), cv2.FONT_HERSHEY_SIMPLEX, 0.9, (0, 255, 0), 2)\n",
    "\n",
    "    # Display the frame\n",
    "    cv2.imshow('Face Detection', frame)\n",
    "\n",
    "    # Break the loop when 'q' is pressed\n",
    "    if cv2.waitKey(1) & 0xFF == ord('q'):\n",
    "        break\n",
    "\n",
    "# Release the video stream and close all windows\n",
    "cap.release()\n",
    "cv2.destroyAllWindows()\n"
   ]
  },
  {
   "cell_type": "code",
   "execution_count": null,
   "id": "d17cc7b7",
   "metadata": {},
   "outputs": [],
   "source": []
  }
 ],
 "metadata": {
  "kernelspec": {
   "display_name": "Python 3 (ipykernel)",
   "language": "python",
   "name": "python3"
  },
  "language_info": {
   "codemirror_mode": {
    "name": "ipython",
    "version": 3
   },
   "file_extension": ".py",
   "mimetype": "text/x-python",
   "name": "python",
   "nbconvert_exporter": "python",
   "pygments_lexer": "ipython3",
   "version": "3.10.9"
  }
 },
 "nbformat": 4,
 "nbformat_minor": 5
}
