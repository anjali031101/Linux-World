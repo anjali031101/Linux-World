{
 "cells": [
  {
   "cell_type": "code",
   "execution_count": null,
   "id": "70dcd220",
   "metadata": {},
   "outputs": [],
   "source": [
    "import dist\n",
    "import heartgoggle\n",
    "# Menu loop\n",
    "while True:\n",
    "    print(\"Menu:\"     print(\"Invalid choice. Please try again.\")\n",
    "\n",
    "print(\"Exiting the program.\"))\n",
    "    print(\"1. distance\")\n",
    "    print(\"2. glass\")\n",
    "    print(\"0. Exit\")\n",
    "\n",
    "    choice = input(\"Enter your choice: \")\n",
    "\n",
    "    if choice == \"1\":\n",
    "        dist.run()\n",
    "    elif choice == \"2\":\n",
    "        heartgoggle.run()\n",
    "    elif choice == \"0\":\n",
    "        break\n",
    "    else:"
   ]
  },
  {
   "cell_type": "code",
   "execution_count": null,
   "id": "1284544a",
   "metadata": {},
   "outputs": [],
   "source": [
    "import dist\n",
    "import heartgoggle\n",
    "\n",
    "\n",
    "# Menu loop\n",
    "while True:\n",
    "    print(\"Menu:\")\n",
    "    print(\"1. Program One\")\n",
    "    print(\"2. Program Two\")\n",
    "    print(\"0. Exit\")\n",
    "\n",
    "    choice = input(\"Enter your choice: \")\n",
    "\n",
    "    if choice == \"1\":\n",
    "        dist.run()\n",
    "    elif choice == \"2\":\n",
    "        heartgoggle.run()\n",
    "    elif choice == \"0\":\n",
    "        break\n",
    "    else:\n",
    "        print(\"Invalid choice. Please try again.\")\n",
    "\n",
    "print(\"Exiting the program.\")"
   ]
  },
  {
   "cell_type": "code",
   "execution_count": null,
   "id": "5741e978",
   "metadata": {},
   "outputs": [],
   "source": []
  }
 ],
 "metadata": {
  "kernelspec": {
   "display_name": "Python 3 (ipykernel)",
   "language": "python",
   "name": "python3"
  },
  "language_info": {
   "codemirror_mode": {
    "name": "ipython",
    "version": 3
   },
   "file_extension": ".py",
   "mimetype": "text/x-python",
   "name": "python",
   "nbconvert_exporter": "python",
   "pygments_lexer": "ipython3",
   "version": "3.10.9"
  }
 },
 "nbformat": 4,
 "nbformat_minor": 5
}
