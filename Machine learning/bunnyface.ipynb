{
 "cells": [
  {
   "cell_type": "code",
   "execution_count": null,
   "id": "139091ed",
   "metadata": {},
   "outputs": [],
   "source": [
    "import cv2"
   ]
  },
  {
   "cell_type": "code",
   "execution_count": null,
   "id": "d85de097",
   "metadata": {},
   "outputs": [],
   "source": [
    "cap= cv2.VideoCapture(0)"
   ]
  },
  {
   "cell_type": "code",
   "execution_count": null,
   "id": "e25a01ae",
   "metadata": {},
   "outputs": [],
   "source": [
    "status ,photo = cap.read() "
   ]
  },
  {
   "cell_type": "code",
   "execution_count": null,
   "id": "140d0196",
   "metadata": {},
   "outputs": [],
   "source": [
    "import cv2\n",
    "cap= cv2.VideoCapture(0)\n",
    "status ,photo = cap.read() \n",
    "\n",
    "# Load the cascade for face detection\n",
    "face_cascade = cv2.CascadeClassifier('haarcascase.xml')\n",
    "\n",
    "# Load the bunny face image with an alpha channel\n",
    "bunny_face = cv2.imread('bunny.png', cv2.IMREAD_UNCHANGED)\n",
    "\n",
    "# Extract the bunny face and the alpha channel\n",
    "bunny_face_image = bunny_face[:, :, :3]\n",
    "bunny_face_mask = bunny_face[:, :, 3]\n",
    "\n",
    "# Initialize the video capture\n",
    "cap = cv2.VideoCapture(0)\n",
    "\n",
    "while True:\n",
    "    # Read the frame from the video capture\n",
    "    ret, frame = cap.read()\n",
    "    \n",
    "    # Convert the frame to grayscale\n",
    "    gray = cv2.cvtColor(frame, cv2.COLOR_BGR2GRAY)\n",
    "    \n",
    "    # Detect faces in the frame\n",
    "    faces = face_cascade.detectMultiScale(gray, scaleFactor=1.1, minNeighbors=5, minSize=(30, 30))\n",
    "    \n",
    "    # Iterate over the detected faces\n",
    "    for (x, y, w, h) in faces:\n",
    "        # Resize the bunny face to match the size of the detected face\n",
    "        resized_bunny_face = cv2.resize(bunny_face_image, (w, h))\n",
    "        resized_bunny_mask = cv2.resize(bunny_face_mask, (w, h))\n",
    "        \n",
    "        # Apply the bunny face mask to create a region of interest (ROI)\n",
    "        roi = frame[y:y+h, x:x+w]\n",
    "        roi_bunny = cv2.bitwise_and(resized_bunny_face, resized_bunny_face, mask=resized_bunny_mask)\n",
    "        \n",
    "        # Add the bunny face to the ROI\n",
    "        bunny_face_final = cv2.add(roi, roi_bunny)\n",
    "        \n",
    "        # Update the frame with the bunny face\n",
    "        frame[y:y+h, x:x+w] = bunny_face_final\n",
    "        \n",
    "        # Add text \n",
    "        cv2.putText(frame, 'Hey Kanika Di ', (x, y-10), cv2.FONT_HERSHEY_DUPLEX, 0.9, (203, 192, 255), 2, cv2.LINE_AA)\n",
    "    \n",
    "    # Display the resulting frame\n",
    "    cv2.imshow('Video', frame)\n",
    "    \n",
    "    # Break the loop if 'q' is pressed\n",
    "    if cv2.waitKey(1) & 0xFF == ord('q'):\n",
    "        break\n",
    "\n",
    "# Release the video capture\n",
    "cap.release()\n",
    "\n",
    "# Destroy all windows\n",
    "cv2.destroyAllWindows()\n"
   ]
  },
  {
   "cell_type": "code",
   "execution_count": null,
   "id": "0d90bfc2",
   "metadata": {},
   "outputs": [],
   "source": []
  }
 ],
 "metadata": {
  "kernelspec": {
   "display_name": "Python 3 (ipykernel)",
   "language": "python",
   "name": "python3"
  },
  "language_info": {
   "codemirror_mode": {
    "name": "ipython",
    "version": 3
   },
   "file_extension": ".py",
   "mimetype": "text/x-python",
   "name": "python",
   "nbconvert_exporter": "python",
   "pygments_lexer": "ipython3",
   "version": "3.10.9"
  }
 },
 "nbformat": 4,
 "nbformat_minor": 5
}
