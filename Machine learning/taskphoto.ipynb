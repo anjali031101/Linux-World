{
 "cells": [
  {
   "cell_type": "code",
   "execution_count": null,
   "id": "5c8fab9e",
   "metadata": {},
   "outputs": [],
   "source": [
    "import cv2  #(BGR)"
   ]
  },
  {
   "cell_type": "code",
   "execution_count": null,
   "id": "17e63eb6",
   "metadata": {},
   "outputs": [],
   "source": [
    "cap = cv2.VideoCapture(0) # 0 meanswant to use default camera device av.on sys"
   ]
  },
  {
   "cell_type": "code",
   "execution_count": null,
   "id": "8214c539",
   "metadata": {},
   "outputs": [],
   "source": [
    "status,photo = cap.read() #photo is variable"
   ]
  },
  {
   "cell_type": "code",
   "execution_count": null,
   "id": "4766ffaa",
   "metadata": {},
   "outputs": [],
   "source": [
    "status"
   ]
  },
  {
   "cell_type": "code",
   "execution_count": null,
   "id": "260de7b7",
   "metadata": {},
   "outputs": [],
   "source": [
    "cv2.imwrite(\"anjali1.png\",photo)  #shifttab"
   ]
  },
  {
   "cell_type": "code",
   "execution_count": null,
   "id": "bce2223c",
   "metadata": {},
   "outputs": [],
   "source": [
    "cv2.imshow (\"my photo\", photo)  #display the resulting photo\n",
    "\n",
    "cv2.waitKey(5000)\n",
    "cv2.destroyAllWindows()\n"
   ]
  },
  {
   "cell_type": "code",
   "execution_count": null,
   "id": "8602bdf1",
   "metadata": {},
   "outputs": [],
   "source": [
    "type(photo) #RGB"
   ]
  },
  {
   "cell_type": "code",
   "execution_count": null,
   "id": "9aa91ddd",
   "metadata": {},
   "outputs": [],
   "source": [
    "photo.shape"
   ]
  },
  {
   "cell_type": "code",
   "execution_count": null,
   "id": "20a51614",
   "metadata": {},
   "outputs": [],
   "source": [
    "photo.ndim"
   ]
  },
  {
   "cell_type": "code",
   "execution_count": null,
   "id": "7934707e",
   "metadata": {},
   "outputs": [],
   "source": [
    "photo[0:][0:] = [255,0,0]"
   ]
  },
  {
   "cell_type": "code",
   "execution_count": null,
   "id": "a3b0f169",
   "metadata": {},
   "outputs": [],
   "source": [
    "newphoto = photo[100:250 , 200:450]  #used to crop"
   ]
  },
  {
   "cell_type": "code",
   "execution_count": null,
   "id": "6d405166",
   "metadata": {},
   "outputs": [],
   "source": [
    "cv2.imshow (\"my photo\", newphoto)  \n",
    "cv2.waitKey(5000)\n",
    "cv2.destroyAllWindows()\n"
   ]
  },
  {
   "cell_type": "code",
   "execution_count": null,
   "id": "28f6b924",
   "metadata": {},
   "outputs": [],
   "source": [
    "B,G,R = cv2.split(photo)"
   ]
  },
  {
   "cell_type": "code",
   "execution_count": null,
   "id": "f62823d9",
   "metadata": {},
   "outputs": [],
   "source": [
    "cv2.imshow (\"my photo\", B)  \n",
    "cv2.waitKey(5000)\n",
    "cv2.destroyAllWindows()"
   ]
  },
  {
   "cell_type": "code",
   "execution_count": null,
   "id": "814cc405",
   "metadata": {},
   "outputs": [],
   "source": [
    "while True:\n",
    "   status,photo = cap.read()\n",
    "   cv2.imshow (\"my photo\", photo)  \n",
    "   cv2.waitKey(100)\n",
    "\n",
    "cv2.destroyAllWindows()"
   ]
  },
  {
   "cell_type": "code",
   "execution_count": null,
   "id": "64ff064e",
   "metadata": {},
   "outputs": [],
   "source": [
    "while True:\n",
    "    status,photo = cap.read()\n",
    "    new= photo[300:650,100:350] \n",
    "    cv2.imshow(\"my photo\",new)\n",
    "    if cv2.waitKey(1) == 27:\n",
    "        break\n",
    "\n",
    "cv2.destroyAllWindows()"
   ]
  },
  {
   "cell_type": "code",
   "execution_count": null,
   "id": "1cb8ddc5",
   "metadata": {},
   "outputs": [],
   "source": []
  }
 ],
 "metadata": {
  "kernelspec": {
   "display_name": "Python 3 (ipykernel)",
   "language": "python",
   "name": "python3"
  },
  "language_info": {
   "codemirror_mode": {
    "name": "ipython",
    "version": 3
   },
   "file_extension": ".py",
   "mimetype": "text/x-python",
   "name": "python",
   "nbconvert_exporter": "python",
   "pygments_lexer": "ipython3",
   "version": "3.10.9"
  }
 },
 "nbformat": 4,
 "nbformat_minor": 5
}
