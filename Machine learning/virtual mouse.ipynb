{
 "cells": [
  {
   "cell_type": "code",
   "execution_count": null,
   "id": "9a553b30",
   "metadata": {},
   "outputs": [],
   "source": []
  },
  {
   "cell_type": "code",
   "execution_count": null,
   "id": "f21cbc99",
   "metadata": {},
   "outputs": [],
   "source": [
    "import cv2\n",
    "import numpy as np\n",
    "import pyautogui\n",
    "from cvzone.HandTrackingModule import HandDetector\n",
    "\n",
    "cap = cv2.VideoCapture(0)\n",
    "cap.set(3, 1280)\n",
    "cap.set(4, 720)\n",
    "\n",
    "detector = HandDetector(detectionCon=0.8, maxHands=1)\n",
    "\n",
    "screen_width, screen_height = pyautogui.size()\n",
    "\n",
    "while True:\n",
    "    success, frame = cap.read()\n",
    "    if not success:\n",
    "        break\n",
    "\n",
    "    frame = cv2.flip(frame, 1)\n",
    "    hands, frame = detector.findHands(frame)\n",
    "\n",
    "    if hands:\n",
    "        hand = hands[0]\n",
    "        lmList, bbox = hand[\"lmList\"], hand[\"bbox\"]\n",
    "        center_x, center_y = int((bbox[0] + bbox[2]) // 2), int((bbox[1] + bbox[3]) // 2)\n",
    "\n",
    "        fingers = detector.fingersUp(hand)\n",
    "        total_fingers = fingers.count(1)\n",
    "\n",
    "        # Move mouse cursor\n",
    "        mouse_x = np.interp(center_x, [0, screen_width], [0, screen_width])\n",
    "        mouse_y = np.interp(center_y, [0, screen_height], [0, screen_height])\n",
    "        pyautogui.moveTo(mouse_x, mouse_y, duration=0.1)\n",
    "\n",
    "        # Perform click actions\n",
    "        if total_fingers == 1:\n",
    "            pyautogui.mouseDown()\n",
    "\n",
    "        if total_fingers == 0:\n",
    "            pyautogui.mouseUp()\n",
    "\n",
    "    cv2.imshow(\"Hand Tracking\", frame)\n",
    "\n",
    "    if cv2.waitKey(1) == ord('q'):\n",
    "        break\n",
    "\n",
    "cap.release()\n",
    "cv2.destroyAllWindows()\n"
   ]
  },
  {
   "cell_type": "code",
   "execution_count": null,
   "id": "371bfdf7",
   "metadata": {},
   "outputs": [],
   "source": []
  }
 ],
 "metadata": {
  "kernelspec": {
   "display_name": "Python 3 (ipykernel)",
   "language": "python",
   "name": "python3"
  },
  "language_info": {
   "codemirror_mode": {
    "name": "ipython",
    "version": 3
   },
   "file_extension": ".py",
   "mimetype": "text/x-python",
   "name": "python",
   "nbconvert_exporter": "python",
   "pygments_lexer": "ipython3",
   "version": "3.10.9"
  }
 },
 "nbformat": 4,
 "nbformat_minor": 5
}
