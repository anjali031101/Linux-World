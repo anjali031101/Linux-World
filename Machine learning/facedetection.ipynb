{
 "cells": [
  {
   "cell_type": "code",
   "execution_count": 1,
   "id": "cea7de4a",
   "metadata": {},
   "outputs": [],
   "source": [
    "import cv2"
   ]
  },
  {
   "cell_type": "code",
   "execution_count": 2,
   "id": "c1a6c703",
   "metadata": {},
   "outputs": [],
   "source": [
    "cap= cv2.VideoCapture(0)"
   ]
  },
  {
   "cell_type": "code",
   "execution_count": 3,
   "id": "37cae970",
   "metadata": {},
   "outputs": [],
   "source": [
    "status ,photo = cap.read() "
   ]
  },
  {
   "cell_type": "code",
   "execution_count": 11,
   "id": "e5b7efe5",
   "metadata": {},
   "outputs": [],
   "source": [
    "cv2.imshow (\"hi\", photo)    #myfacerecord= facemodel.detectMultiScale(photo)   #whilw loop for videostreaming\n",
    "                              #if len(myfacerecord)==1:#x1 = myfacecoord[0][0]\n",
    "                               #cv2.rec(photo,(x1,y1))  task:create code for distance,cropped video.blurthe face and backgrnd\n",
    "cv2.waitKey(5000)                cv2.imshow\n",
    "cv2.destroyAllWindows()"
   ]
  },
  {
   "cell_type": "code",
   "execution_count": 5,
   "id": "c7cc3299",
   "metadata": {},
   "outputs": [],
   "source": [
    "facemodel = cv2.CascadeClassifier(\"haarcascase.xml\")      #list empty so false "
   ]
  },
  {
   "cell_type": "code",
   "execution_count": 6,
   "id": "56d716c8",
   "metadata": {},
   "outputs": [
    {
     "data": {
      "text/plain": [
       "array([[293,  74, 181, 181]])"
      ]
     },
     "execution_count": 6,
     "metadata": {},
     "output_type": "execute_result"
    }
   ],
   "source": [
    "facemodel.detectMultiScale(photo)  #tab double for func and shift tab for how to use\n",
    "                #x1=myfacecoord[0][1]..index"
   ]
  },
  {
   "cell_type": "code",
   "execution_count": 12,
   "id": "abc967e2",
   "metadata": {},
   "outputs": [
    {
     "data": {
      "text/plain": [
       "array([[[157,  90,  65],\n",
       "        [157,  87,  58],\n",
       "        [154,  82,  48],\n",
       "        ...,\n",
       "        [ 55,  27,  34],\n",
       "        [ 56,  27,  34],\n",
       "        [ 57,  28,  35]],\n",
       "\n",
       "       [[132,  69,  47],\n",
       "        [132,  66,  41],\n",
       "        [133,  64,  36],\n",
       "        ...,\n",
       "        [ 64,  28,  32],\n",
       "        [ 62,  27,  30],\n",
       "        [ 62,  27,  30]],\n",
       "\n",
       "       [[107,  46,  24],\n",
       "        [105,  43,  21],\n",
       "        [104,  41,  17],\n",
       "        ...,\n",
       "        [ 67,  30,  30],\n",
       "        [ 64,  28,  27],\n",
       "        [ 63,  27,  25]],\n",
       "\n",
       "       ...,\n",
       "\n",
       "       [[ 68,  38,  91],\n",
       "        [ 69,  37,  92],\n",
       "        [ 70,  37,  92],\n",
       "        ...,\n",
       "        [188, 115,  60],\n",
       "        [188, 118,  65],\n",
       "        [192, 123,  70]],\n",
       "\n",
       "       [[ 69,  36,  90],\n",
       "        [ 67,  35,  89],\n",
       "        [ 67,  36,  91],\n",
       "        ...,\n",
       "        [185, 112,  58],\n",
       "        [186, 114,  62],\n",
       "        [192, 120,  68]],\n",
       "\n",
       "       [[ 65,  34,  89],\n",
       "        [ 65,  34,  89],\n",
       "        [ 66,  35,  90],\n",
       "        ...,\n",
       "        [183, 110,  55],\n",
       "        [184, 112,  59],\n",
       "        [189, 117,  64]]], dtype=uint8)"
      ]
     },
     "execution_count": 12,
     "metadata": {},
     "output_type": "execute_result"
    }
   ],
   "source": [
    "cv2.rectangle(photo,(293,74),(293+181,74+181),[255,0,0],5)#5 is thickness"
   ]
  },
  {
   "cell_type": "code",
   "execution_count": 13,
   "id": "13b30585",
   "metadata": {},
   "outputs": [],
   "source": [
    "cap.release()"
   ]
  },
  {
   "cell_type": "code",
   "execution_count": null,
   "id": "5fb42c62",
   "metadata": {},
   "outputs": [],
   "source": []
  }
 ],
 "metadata": {
  "kernelspec": {
   "display_name": "Python 3 (ipykernel)",
   "language": "python",
   "name": "python3"
  },
  "language_info": {
   "codemirror_mode": {
    "name": "ipython",
    "version": 3
   },
   "file_extension": ".py",
   "mimetype": "text/x-python",
   "name": "python",
   "nbconvert_exporter": "python",
   "pygments_lexer": "ipython3",
   "version": "3.10.9"
  }
 },
 "nbformat": 4,
 "nbformat_minor": 5
}
