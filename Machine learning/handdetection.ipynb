{
 "cells": [
  {
   "cell_type": "code",
   "execution_count": null,
   "id": "69242c3e",
   "metadata": {},
   "outputs": [],
   "source": [
    "from cvzone.HandTrackingModule import HandDetector"
   ]
  },
  {
   "cell_type": "code",
   "execution_count": null,
   "id": "8dc066e1",
   "metadata": {},
   "outputs": [],
   "source": [
    "handModel=HandDetector(maxHands=1)"
   ]
  },
  {
   "cell_type": "code",
   "execution_count": null,
   "id": "91796bab",
   "metadata": {},
   "outputs": [],
   "source": [
    "import cv2"
   ]
  },
  {
   "cell_type": "code",
   "execution_count": null,
   "id": "c5255ed6",
   "metadata": {},
   "outputs": [],
   "source": [
    "cap = cv2.VideoCapture(0)"
   ]
  },
  {
   "cell_type": "code",
   "execution_count": null,
   "id": "515ee7af",
   "metadata": {},
   "outputs": [],
   "source": [
    "status,photo = cap.read()"
   ]
  },
  {
   "cell_type": "code",
   "execution_count": null,
   "id": "56a07beb",
   "metadata": {},
   "outputs": [],
   "source": [
    "cv2.imshow(\"my photo\",photo)\n",
    "cv2.waitKey()\n",
    "cv2.destroyAllWindows()"
   ]
  },
  {
   "cell_type": "code",
   "execution_count": null,
   "id": "875f8927",
   "metadata": {},
   "outputs": [],
   "source": [
    "#hand,image=handModel.findHands(photo,draw=True)\n",
    "hand = handModel.findHands(photo,draw=False)"
   ]
  },
  {
   "cell_type": "code",
   "execution_count": null,
   "id": "d0ed4d31",
   "metadata": {},
   "outputs": [],
   "source": [
    "if hand:\n",
    "    print(\"hand detected\" , hand[0]['type'])\n",
    "    \n",
    "    print(handModel.fingersUp(hand[0]))\n",
    "    "
   ]
  },
  {
   "cell_type": "code",
   "execution_count": null,
   "id": "422af2a1",
   "metadata": {},
   "outputs": [],
   "source": [
    "import os"
   ]
  },
  {
   "cell_type": "code",
   "execution_count": null,
   "id": "892f3b36",
   "metadata": {},
   "outputs": [],
   "source": [
    "while True:\n",
    "    status,photo = cap.read()\n",
    "    hand = handModel.findHands(photo,draw=False)\n",
    "\n",
    "    if hand:\n",
    "    \n",
    "        totalFinger=handModel.fingersUp(hand[0])\n",
    "    \n",
    "        if totalFinger== [1,0,0,0,0]:\n",
    "            print(\"Thumbs up\")\n",
    "        elif totalFinger==[0,1,0,0,0]:\n",
    "            print(\"Index Finger\")\n",
    "            os.system(\"chrome\")\n",
    "        elif totalFinger==[0,0,1,0,0]:\n",
    "            print(\"middle finger\")\n",
    "            os.system(\"notepad\")\n",
    "        else:\n",
    "            print(\"nothing\")"
   ]
  },
  {
   "cell_type": "code",
   "execution_count": null,
   "id": "a18d4ea1",
   "metadata": {},
   "outputs": [],
   "source": [
    "hand"
   ]
  },
  {
   "cell_type": "code",
   "execution_count": null,
   "id": "e13ac6c1",
   "metadata": {},
   "outputs": [],
   "source": [
    "if hand:\n",
    "    print(\"hand detected\" , hand[0]['type'])\n",
    "    cv2.imshow(\"my photo\",photo)\n",
    "    cv2.waitKey()\n",
    "    cv2.destroyAllWindows()\n",
    "else:    \n",
    "    print(\"hand not detected\")"
   ]
  },
  {
   "cell_type": "code",
   "execution_count": null,
   "id": "adef3d81",
   "metadata": {},
   "outputs": [],
   "source": [
    "myHandlmList = hand[0]['lmList']  #landmark"
   ]
  },
  {
   "cell_type": "code",
   "execution_count": null,
   "id": "6ae4af05",
   "metadata": {},
   "outputs": [],
   "source": []
  },
  {
   "cell_type": "code",
   "execution_count": null,
   "id": "b61a5771",
   "metadata": {},
   "outputs": [],
   "source": []
  }
 ],
 "metadata": {
  "kernelspec": {
   "display_name": "Python 3 (ipykernel)",
   "language": "python",
   "name": "python3"
  },
  "language_info": {
   "codemirror_mode": {
    "name": "ipython",
    "version": 3
   },
   "file_extension": ".py",
   "mimetype": "text/x-python",
   "name": "python",
   "nbconvert_exporter": "python",
   "pygments_lexer": "ipython3",
   "version": "3.10.9"
  }
 },
 "nbformat": 4,
 "nbformat_minor": 5
}
