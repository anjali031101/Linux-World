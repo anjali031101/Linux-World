{
 "cells": [
  {
   "cell_type": "code",
   "execution_count": null,
   "id": "4936b71e",
   "metadata": {},
   "outputs": [],
   "source": [
    "import speech_recognition as sr\n",
    "\n",
    "# Initialize the recognizer\n",
    "r = sr.Recognizer()\n",
    "\n",
    "# Function to listen and recognize speech\n",
    "def listen_speech():\n",
    "    with sr.Microphone() as source:\n",
    "        print(\"Listening...\")\n",
    "        audio = r.listen(source)\n",
    "\n",
    "    try:\n",
    "        text = r.recognize_google(audio)\n",
    "        print(\"You said:\", text)\n",
    "        return text.lower()\n",
    "    except sr.UnknownValueError:\n",
    "        print(\"Sorry, I couldn't understand you.\")\n",
    "        return \"\"\n",
    "    except sr.RequestError:\n",
    "        print(\"Sorry, I'm currently unavailable.\")\n",
    "        return \"\"\n",
    "\n",
    "# Function to perform menu actions based on user input\n",
    "def perform_action(choice):\n",
    "    if choice == \"1\":\n",
    "        print(\"Running Option 1\")\n",
    "        # Your code for option 1 goes here\n",
    "    elif choice == \"2\":\n",
    "        print(\"Running Option 2\")\n",
    "        # Your code for option 2 goes here\n",
    "    elif choice == \"3\":\n",
    "        print(\"Running Option 3\")\n",
    "        # Your code for option 3 goes here\n",
    "    elif choice == \"exit\":\n",
    "        print(\"Exiting the menu...\")\n",
    "        return False\n",
    "    else:\n",
    "        print(\"Invalid choice. Please try again.\")\n",
    "\n",
    "    return True\n",
    "\n",
    "# Main menu loop\n",
    "running = True\n",
    "while running:\n",
    "    print(\"------ MENU ------\")\n",
    "    print(\"1. Option 1\")\n",
    "    print(\"2. Option 2\")\n",
    "    print(\"3. Option 3\")\n",
    "    print(\"To exit, say 'exit'\")\n",
    "\n",
    "    choice = listen_speech()\n",
    "    running = perform_action(choice)\n"
   ]
  }
 ],
 "metadata": {
  "kernelspec": {
   "display_name": "Python 3 (ipykernel)",
   "language": "python",
   "name": "python3"
  },
  "language_info": {
   "codemirror_mode": {
    "name": "ipython",
    "version": 3
   },
   "file_extension": ".py",
   "mimetype": "text/x-python",
   "name": "python",
   "nbconvert_exporter": "python",
   "pygments_lexer": "ipython3",
   "version": "3.10.9"
  }
 },
 "nbformat": 4,
 "nbformat_minor": 5
}
