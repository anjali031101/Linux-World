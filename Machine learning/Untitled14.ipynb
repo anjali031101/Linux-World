{
 "cells": [
  {
   "cell_type": "code",
   "execution_count": 1,
   "id": "af28f221",
   "metadata": {},
   "outputs": [],
   "source": [
    "import cv2"
   ]
  },
  {
   "cell_type": "code",
   "execution_count": 2,
   "id": "db0b86e1",
   "metadata": {},
   "outputs": [],
   "source": [
    "cap = cv2.VideoCapture(0)   #url/video\""
   ]
  },
  {
   "cell_type": "code",
   "execution_count": null,
   "id": "0d0cb08b",
   "metadata": {},
   "outputs": [],
   "source": [
    "status,photo =cap.read() #print photo"
   ]
  },
  {
   "cell_type": "code",
   "execution_count": null,
   "id": "9fd78b7a",
   "metadata": {},
   "outputs": [],
   "source": [
    "grayphoto=cv2.cvtColor(photo , cv2.COLOR_BGR2GRAY)  #convert color to grey"
   ]
  },
  {
   "cell_type": "code",
   "execution_count": null,
   "id": "85ed3a41",
   "metadata": {},
   "outputs": [],
   "source": [
    "photo.ndim     #cv2.cvtColor(photo , cv2.COLOR_BGR2GRAY)"
   ]
  },
  {
   "cell_type": "code",
   "execution_count": null,
   "id": "454d1cb4",
   "metadata": {},
   "outputs": [],
   "source": [
    "photo[10,30] #[10,30,2]  #[10,30,0:2] printphoto[10,30] #[:,:,0:2] =0 [1:3]  #photo[:,:,0]+50"
   ]
  },
  {
   "cell_type": "code",
   "execution_count": null,
   "id": "df18b4bc",
   "metadata": {},
   "outputs": [],
   "source": [
    "status"
   ]
  },
  {
   "cell_type": "code",
   "execution_count": null,
   "id": "0b4d8ed5",
   "metadata": {},
   "outputs": [],
   "source": [
    "cv2.imshow (\"hi\", grayphoto)\n",
    "cv2.waitKey()\n",
    "cv2.destroyAllWindows()\n",
    "\n"
   ]
  },
  {
   "cell_type": "code",
   "execution_count": null,
   "id": "1767f0a5",
   "metadata": {},
   "outputs": [],
   "source": [
    "cap.release()\n",
    "    \n"
   ]
  },
  {
   "cell_type": "code",
   "execution_count": null,
   "id": "f5c309ab",
   "metadata": {},
   "outputs": [],
   "source": [
    "while True:\n",
    "   status,photo = cap.read()\n",
    "   cv2.imshow (\"my photo\", photo)  \n",
    "   if cv2.waitKey(100)== 13:\n",
    "    break\n",
    "\n",
    "cv2.destroyAllWindows()\n",
    "\n"
   ]
  },
  {
   "cell_type": "code",
   "execution_count": null,
   "id": "138addf3",
   "metadata": {},
   "outputs": [],
   "source": [
    "import numpy"
   ]
  },
  {
   "cell_type": "code",
   "execution_count": null,
   "id": "760153bf",
   "metadata": {},
   "outputs": [],
   "source": [
    "a[1:4] =100"
   ]
  },
  {
   "cell_type": "code",
   "execution_count": null,
   "id": "6b708fd2",
   "metadata": {},
   "outputs": [],
   "source": [
    "a"
   ]
  },
  {
   "cell_type": "code",
   "execution_count": null,
   "id": "4e5745dc",
   "metadata": {},
   "outputs": [],
   "source": [
    "a = numpy.array([\n",
    "    \n",
    "])"
   ]
  }
 ],
 "metadata": {
  "kernelspec": {
   "display_name": "Python 3 (ipykernel)",
   "language": "python",
   "name": "python3"
  },
  "language_info": {
   "codemirror_mode": {
    "name": "ipython",
    "version": 3
   },
   "file_extension": ".py",
   "mimetype": "text/x-python",
   "name": "python",
   "nbconvert_exporter": "python",
   "pygments_lexer": "ipython3",
   "version": "3.10.9"
  }
 },
 "nbformat": 4,
 "nbformat_minor": 5
}
