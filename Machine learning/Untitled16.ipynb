{
 "cells": [
  {
   "cell_type": "code",
   "execution_count": null,
   "id": "3d30b26b",
   "metadata": {},
   "outputs": [],
   "source": [
    "import cv2"
   ]
  },
  {
   "cell_type": "code",
   "execution_count": null,
   "id": "29e679f0",
   "metadata": {},
   "outputs": [],
   "source": [
    "cap= cv2.VideoCapture(0)"
   ]
  },
  {
   "cell_type": "code",
   "execution_count": null,
   "id": "e0679568",
   "metadata": {},
   "outputs": [],
   "source": [
    "status ,photo = cap.read() "
   ]
  },
  {
   "cell_type": "code",
   "execution_count": null,
   "id": "d0a26069",
   "metadata": {},
   "outputs": [],
   "source": [
    "cv2.imshow(\"hi\",photo)\n",
    "cv2.waitKey()\n",
    "cv2.destroyAllWindows()"
   ]
  },
  {
   "cell_type": "code",
   "execution_count": null,
   "id": "b3a91710",
   "metadata": {},
   "outputs": [],
   "source": [
    "facemodel= cv2.CascadeClassifier(\"haarcascase.xml\")"
   ]
  },
  {
   "cell_type": "code",
   "execution_count": null,
   "id": "7eab4748",
   "metadata": {},
   "outputs": [],
   "source": [
    "facemodel.detectMultiScale(photo)"
   ]
  },
  {
   "cell_type": "code",
   "execution_count": null,
   "id": "4bf020e1",
   "metadata": {},
   "outputs": [],
   "source": [
    "while True:\n",
    "    status,photo = cap.read()\n",
    "    \n",
    "    myfacerecord = facemodel.detectMultiScale(photo)\n",
    "    \n",
    "    if len(myfacerecord) ==1:\n",
    "        x1=myfacerecord[0][0]\n",
    "        y1=myfacerecord[0][1]\n",
    "        x2=myfacerecord[0][0] + myfacerecord[0][2]\n",
    "        y2=myfacerecord[0][1] + myfacerecord[0][3]\n",
    "        \n",
    "    \n",
    "        cv2.rectangle(photo,(x1,y1),(x2,y2),[0,255,0],5)\n",
    "        \n",
    "    cv2.imshow(\"hi\",photo)\n",
    "    if cv2.waitKey(10) ==13:\n",
    "        break\n",
    "        "
   ]
  }
 ],
 "metadata": {
  "kernelspec": {
   "display_name": "Python 3 (ipykernel)",
   "language": "python",
   "name": "python3"
  },
  "language_info": {
   "codemirror_mode": {
    "name": "ipython",
    "version": 3
   },
   "file_extension": ".py",
   "mimetype": "text/x-python",
   "name": "python",
   "nbconvert_exporter": "python",
   "pygments_lexer": "ipython3",
   "version": "3.10.9"
  }
 },
 "nbformat": 4,
 "nbformat_minor": 5
}
