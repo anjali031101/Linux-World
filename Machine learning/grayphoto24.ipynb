{
 "cells": [
  {
   "cell_type": "code",
   "execution_count": 1,
   "id": "370b240b",
   "metadata": {},
   "outputs": [],
   "source": [
    "import cv2"
   ]
  },
  {
   "cell_type": "code",
   "execution_count": 2,
   "id": "26ed6592",
   "metadata": {},
   "outputs": [],
   "source": [
    "cap = cv2.VideoCapture(0)   #url/video\""
   ]
  },
  {
   "cell_type": "code",
   "execution_count": null,
   "id": "7bc6f53c",
   "metadata": {},
   "outputs": [],
   "source": [
    "status,photo =cap.read() #print photo"
   ]
  },
  {
   "cell_type": "code",
   "execution_count": null,
   "id": "062ec9f4",
   "metadata": {},
   "outputs": [],
   "source": [
    "grayphoto=cv2.cvtColor(photo , cv2.COLOR_BGR2GRAY)  #convert color to grey"
   ]
  },
  {
   "cell_type": "code",
   "execution_count": null,
   "id": "6d8df1fb",
   "metadata": {},
   "outputs": [],
   "source": [
    "photo.ndim     #cv2.cvtColor(photo , cv2.COLOR_BGR2GRAY)"
   ]
  },
  {
   "cell_type": "code",
   "execution_count": null,
   "id": "43ee2261",
   "metadata": {},
   "outputs": [],
   "source": [
    "photo[10,30] #[10,30,2]  #[10,30,0:2] printphoto[10,30] #[:,:,0:2] =0 [1:3]  #photo[:,:,0]+50"
   ]
  },
  {
   "cell_type": "code",
   "execution_count": null,
   "id": "ecdea15d",
   "metadata": {},
   "outputs": [],
   "source": [
    "status"
   ]
  },
  {
   "cell_type": "code",
   "execution_count": null,
   "id": "ab1ce361",
   "metadata": {},
   "outputs": [],
   "source": [
    "cv2.imshow (\"hi\", grayphoto)\n",
    "cv2.waitKey()\n",
    "cv2.destroyAllWindows()\n",
    "\n"
   ]
  },
  {
   "cell_type": "code",
   "execution_count": null,
   "id": "697c3fa7",
   "metadata": {},
   "outputs": [],
   "source": [
    "cap.release()\n",
    "    \n"
   ]
  },
  {
   "cell_type": "code",
   "execution_count": null,
   "id": "6b4df03b",
   "metadata": {},
   "outputs": [],
   "source": [
    "while True:\n",
    "   status,photo = cap.read()\n",
    "   cv2.imshow (\"my photo\", photo)  \n",
    "   if cv2.waitKey(100)== 13:\n",
    "    break\n",
    "\n",
    "cv2.destroyAllWindows()\n",
    "\n"
   ]
  },
  {
   "cell_type": "code",
   "execution_count": null,
   "id": "ce4653d5",
   "metadata": {},
   "outputs": [],
   "source": [
    "import numpy"
   ]
  },
  {
   "cell_type": "code",
   "execution_count": null,
   "id": "1f4d21de",
   "metadata": {},
   "outputs": [],
   "source": [
    "a[1:4] =100"
   ]
  },
  {
   "cell_type": "code",
   "execution_count": null,
   "id": "22bf09e6",
   "metadata": {},
   "outputs": [],
   "source": [
    "a"
   ]
  },
  {
   "cell_type": "code",
   "execution_count": null,
   "id": "33d8eb4a",
   "metadata": {},
   "outputs": [],
   "source": [
    "a = numpy.array([\n",
    "    \n",
    "])"
   ]
  }
 ],
 "metadata": {
  "kernelspec": {
   "display_name": "Python 3 (ipykernel)",
   "language": "python",
   "name": "python3"
  },
  "language_info": {
   "codemirror_mode": {
    "name": "ipython",
    "version": 3
   },
   "file_extension": ".py",
   "mimetype": "text/x-python",
   "name": "python",
   "nbconvert_exporter": "python",
   "pygments_lexer": "ipython3",
   "version": "3.10.9"
  }
 },
 "nbformat": 4,
 "nbformat_minor": 5
}
