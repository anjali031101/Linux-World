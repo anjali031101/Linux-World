{
 "cells": [
  {
   "cell_type": "code",
   "execution_count": 1,
   "id": "ce1f4fc3",
   "metadata": {},
   "outputs": [],
   "source": [
    "myfile = open(\"hythgvnca jdjabvhavcajcnaklcjac.txt\",'r')"
   ]
  },
  {
   "cell_type": "code",
   "execution_count": 6,
   "id": "c145d401",
   "metadata": {},
   "outputs": [
    {
     "data": {
      "text/plain": [
       "<_io.TextIOWrapper name='hythgvnca jdjabvhavcajcnaklcjac.txt' mode='r' encoding='cp1252'>"
      ]
     },
     "execution_count": 6,
     "metadata": {},
     "output_type": "execute_result"
    }
   ],
   "source": [
    "myfile #0 wench start file address starting m jao and uske resp m jump"
   ]
  },
  {
   "cell_type": "code",
   "execution_count": 8,
   "id": "e32d66da",
   "metadata": {},
   "outputs": [
    {
     "data": {
      "text/plain": [
       "0"
      ]
     },
     "execution_count": 8,
     "metadata": {},
     "output_type": "execute_result"
    }
   ],
   "source": [
    "myfile.tell()"
   ]
  },
  {
   "cell_type": "code",
   "execution_count": 9,
   "id": "f26797dc",
   "metadata": {},
   "outputs": [
    {
     "data": {
      "text/plain": [
       "'hythgvnca jdjabvhavcajcnaklcjac\\njvbshdjacamcc\\nldabac ac'"
      ]
     },
     "execution_count": 9,
     "metadata": {},
     "output_type": "execute_result"
    }
   ],
   "source": [
    "myfile.read()"
   ]
  },
  {
   "cell_type": "code",
   "execution_count": 11,
   "id": "2626c22b",
   "metadata": {},
   "outputs": [
    {
     "data": {
      "text/plain": [
       "6"
      ]
     },
     "execution_count": 11,
     "metadata": {},
     "output_type": "execute_result"
    }
   ],
   "source": [
    "myfile.seek(6,0)"
   ]
  },
  {
   "cell_type": "code",
   "execution_count": 12,
   "id": "663a8cb7",
   "metadata": {},
   "outputs": [
    {
     "data": {
      "text/plain": [
       "6"
      ]
     },
     "execution_count": 12,
     "metadata": {},
     "output_type": "execute_result"
    }
   ],
   "source": [
    "myfile.tell()"
   ]
  },
  {
   "cell_type": "code",
   "execution_count": 13,
   "id": "3007ba7a",
   "metadata": {},
   "outputs": [
    {
     "data": {
      "text/plain": [
       "'nca jdjabvhavcajcnaklcjac\\njvbshdjacamcc\\nldabac ac'"
      ]
     },
     "execution_count": 13,
     "metadata": {},
     "output_type": "execute_result"
    }
   ],
   "source": [
    "myfile.read()"
   ]
  },
  {
   "cell_type": "code",
   "execution_count": 14,
   "id": "8689f5a6",
   "metadata": {},
   "outputs": [],
   "source": [
    "myfile.close()"
   ]
  },
  {
   "cell_type": "code",
   "execution_count": null,
   "id": "b5c8a203",
   "metadata": {},
   "outputs": [],
   "source": []
  }
 ],
 "metadata": {
  "kernelspec": {
   "display_name": "Python 3 (ipykernel)",
   "language": "python",
   "name": "python3"
  },
  "language_info": {
   "codemirror_mode": {
    "name": "ipython",
    "version": 3
   },
   "file_extension": ".py",
   "mimetype": "text/x-python",
   "name": "python",
   "nbconvert_exporter": "python",
   "pygments_lexer": "ipython3",
   "version": "3.10.9"
  }
 },
 "nbformat": 4,
 "nbformat_minor": 5
}
