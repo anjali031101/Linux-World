{
 "cells": [
  {
   "cell_type": "code",
   "execution_count": 1,
   "id": "85a1dd66",
   "metadata": {},
   "outputs": [],
   "source": [
    "import cv2  #(BGR)"
   ]
  },
  {
   "cell_type": "code",
   "execution_count": 2,
   "id": "3247516e",
   "metadata": {},
   "outputs": [],
   "source": [
    "cap = cv2.VideoCapture(0)"
   ]
  },
  {
   "cell_type": "code",
   "execution_count": 3,
   "id": "2a8901f0",
   "metadata": {},
   "outputs": [],
   "source": [
    "status ,photo = cap.read() #photo is variable"
   ]
  },
  {
   "cell_type": "code",
   "execution_count": 6,
   "id": "59adbaf8",
   "metadata": {},
   "outputs": [
    {
     "data": {
      "text/plain": [
       "False"
      ]
     },
     "execution_count": 6,
     "metadata": {},
     "output_type": "execute_result"
    }
   ],
   "source": [
    "status"
   ]
  },
  {
   "cell_type": "code",
   "execution_count": 7,
   "id": "a715eee7",
   "metadata": {},
   "outputs": [
    {
     "ename": "error",
     "evalue": "OpenCV(4.7.0) D:\\a\\opencv-python\\opencv-python\\opencv\\modules\\imgcodecs\\src\\loadsave.cpp:783: error: (-215:Assertion failed) !_img.empty() in function 'cv::imwrite'\n",
     "output_type": "error",
     "traceback": [
      "\u001b[1;31m---------------------------------------------------------------------------\u001b[0m",
      "\u001b[1;31merror\u001b[0m                                     Traceback (most recent call last)",
      "Cell \u001b[1;32mIn[7], line 1\u001b[0m\n\u001b[1;32m----> 1\u001b[0m \u001b[43mcv2\u001b[49m\u001b[38;5;241;43m.\u001b[39;49m\u001b[43mimwrite\u001b[49m\u001b[43m(\u001b[49m\u001b[38;5;124;43m\"\u001b[39;49m\u001b[38;5;124;43manjali.png\u001b[39;49m\u001b[38;5;124;43m\"\u001b[39;49m\u001b[43m,\u001b[49m\u001b[43mphoto\u001b[49m\u001b[43m)\u001b[49m\n",
      "\u001b[1;31merror\u001b[0m: OpenCV(4.7.0) D:\\a\\opencv-python\\opencv-python\\opencv\\modules\\imgcodecs\\src\\loadsave.cpp:783: error: (-215:Assertion failed) !_img.empty() in function 'cv::imwrite'\n"
     ]
    }
   ],
   "source": [
    "cv2.imwrite(\"anjali.png\",photo)  #shifttab"
   ]
  },
  {
   "cell_type": "code",
   "execution_count": null,
   "id": "c0ad82b6",
   "metadata": {},
   "outputs": [],
   "source": [
    "cv2.imshow (\"my photo\", photo)  \n",
    "\n",
    "cv2.awaitKey(5000)\n",
    "cv2.destroyAllWindows()\n",
    "#x=5 y=10 a,b=x,y"
   ]
  },
  {
   "cell_type": "code",
   "execution_count": null,
   "id": "06bf0ced",
   "metadata": {},
   "outputs": [],
   "source": [
    "type(photo) #RGB"
   ]
  },
  {
   "cell_type": "code",
   "execution_count": null,
   "id": "3c0e0e94",
   "metadata": {},
   "outputs": [],
   "source": [
    "photo.shape"
   ]
  },
  {
   "cell_type": "code",
   "execution_count": null,
   "id": "18007a48",
   "metadata": {},
   "outputs": [],
   "source": [
    "photo.ndim"
   ]
  },
  {
   "cell_type": "code",
   "execution_count": null,
   "id": "55e021bf",
   "metadata": {},
   "outputs": [],
   "source": [
    "photo[0:][0:] = [255,0,0]"
   ]
  },
  {
   "cell_type": "code",
   "execution_count": null,
   "id": "545995c1",
   "metadata": {},
   "outputs": [],
   "source": [
    "newphoto = photo[100:250 , 200:450]  #used to crop"
   ]
  },
  {
   "cell_type": "code",
   "execution_count": null,
   "id": "3f4885b1",
   "metadata": {},
   "outputs": [],
   "source": [
    "cv2.imshow (\"my photo\", newphoto)  \n",
    "cv2.waitKey(5000)\n",
    "cv2.destroyAllWindows()\n"
   ]
  },
  {
   "cell_type": "code",
   "execution_count": null,
   "id": "a0f5d526",
   "metadata": {},
   "outputs": [],
   "source": [
    "B,G,R = cv2.split(photo)"
   ]
  },
  {
   "cell_type": "code",
   "execution_count": null,
   "id": "435ab44f",
   "metadata": {},
   "outputs": [],
   "source": [
    "cv2.imshow (\"my photo\", B)  \n",
    "cv2.waitKey(5000)\n",
    "cv2.destroyAllWindows()"
   ]
  },
  {
   "cell_type": "code",
   "execution_count": null,
   "id": "8095060d",
   "metadata": {},
   "outputs": [],
   "source": [
    "while True:\n",
    "   status,photo = cap.read()\n",
    "   cv2.imshow (\"my photo\", photo)  \n",
    "   cv2.waitKey(100)\n",
    "\n",
    "cv2.destroyAllWindows()"
   ]
  },
  {
   "cell_type": "code",
   "execution_count": null,
   "id": "3129d795",
   "metadata": {},
   "outputs": [],
   "source": [
    "while True:\n",
    "    status,photo = cap.read()\n",
    "    photo[0:150,0:250] = photo[100:250,200:450]\n",
    "    cv2.imshow(\"my photo\",photo)\n",
    "    if cv2.waitKey(1) == 13:\n",
    "        break\n",
    "\n",
    "cv2.destroyAllWindows()"
   ]
  },
  {
   "cell_type": "code",
   "execution_count": null,
   "id": "aff90704",
   "metadata": {},
   "outputs": [],
   "source": [
    "cap.release() #releasing the camera so that so that other app can use"
   ]
  }
 ],
 "metadata": {
  "kernelspec": {
   "display_name": "Python 3 (ipykernel)",
   "language": "python",
   "name": "python3"
  },
  "language_info": {
   "codemirror_mode": {
    "name": "ipython",
    "version": 3
   },
   "file_extension": ".py",
   "mimetype": "text/x-python",
   "name": "python",
   "nbconvert_exporter": "python",
   "pygments_lexer": "ipython3",
   "version": "3.10.9"
  }
 },
 "nbformat": 4,
 "nbformat_minor": 5
}
