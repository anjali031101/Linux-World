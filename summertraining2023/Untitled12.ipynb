{
 "cells": [
  {
   "cell_type": "code",
   "execution_count": 2,
   "id": "597d2d9e",
   "metadata": {},
   "outputs": [],
   "source": [
    "class JobForm:\n",
    "   name=None\n",
    "   mob=None\n",
    "   exp=None"
   ]
  },
  {
   "cell_type": "code",
   "execution_count": 3,
   "id": "49c72d37",
   "metadata": {},
   "outputs": [],
   "source": [
    "class StudentForm:\n",
    "   name=None\n",
    "   mob=None\n",
    "   query=None"
   ]
  },
  {
   "cell_type": "code",
   "execution_count": 4,
   "id": "506bd5be",
   "metadata": {},
   "outputs": [],
   "source": [
    "class CommonForm: #parent class having two subclass here\n",
    "    name=None\n",
    "    mob=None"
   ]
  },
  {
   "cell_type": "code",
   "execution_count": 5,
   "id": "ade7ef24",
   "metadata": {},
   "outputs": [],
   "source": [
    "class JobForm(CommonForm): #subclass common info store once for saving memory and organise properly\n",
    "    exp=None"
   ]
  },
  {
   "cell_type": "code",
   "execution_count": 6,
   "id": "8c8bec0f",
   "metadata": {},
   "outputs": [],
   "source": [
    "class StudentForm(CommonForm): #subclass or child class\n",
    "    query=None"
   ]
  },
  {
   "cell_type": "code",
   "execution_count": 15,
   "id": "3d3a23a3",
   "metadata": {},
   "outputs": [],
   "source": [
    "class CommonForm: \n",
    "    name=None\n",
    "    mob=None\n",
    "    #country\n",
    "    def my(self):        \n",
    "        print(\"i m parent\")\n",
    "        "
   ]
  },
  {
   "cell_type": "code",
   "execution_count": 16,
   "id": "53fdfefe",
   "metadata": {},
   "outputs": [],
   "source": [
    "class StudentForm(CommonForm): #subclass or child class\n",
    "    query=None"
   ]
  },
  {
   "cell_type": "code",
   "execution_count": 17,
   "id": "19b922d1",
   "metadata": {},
   "outputs": [],
   "source": [
    "tom = StudentForm()   #object created or var"
   ]
  },
  {
   "cell_type": "code",
   "execution_count": 18,
   "id": "e9dffd41",
   "metadata": {},
   "outputs": [
    {
     "data": {
      "text/plain": [
       "['__class__',\n",
       " '__delattr__',\n",
       " '__dict__',\n",
       " '__dir__',\n",
       " '__doc__',\n",
       " '__eq__',\n",
       " '__format__',\n",
       " '__ge__',\n",
       " '__getattribute__',\n",
       " '__gt__',\n",
       " '__hash__',\n",
       " '__init__',\n",
       " '__init_subclass__',\n",
       " '__le__',\n",
       " '__lt__',\n",
       " '__module__',\n",
       " '__ne__',\n",
       " '__new__',\n",
       " '__reduce__',\n",
       " '__reduce_ex__',\n",
       " '__repr__',\n",
       " '__setattr__',\n",
       " '__sizeof__',\n",
       " '__str__',\n",
       " '__subclasshook__',\n",
       " '__weakref__',\n",
       " 'mob',\n",
       " 'my',\n",
       " 'name',\n",
       " 'query']"
      ]
     },
     "execution_count": 18,
     "metadata": {},
     "output_type": "execute_result"
    }
   ],
   "source": [
    "dir(tom)"
   ]
  },
  {
   "cell_type": "code",
   "execution_count": 19,
   "id": "3dd907a6",
   "metadata": {},
   "outputs": [
    {
     "name": "stdout",
     "output_type": "stream",
     "text": [
      "i m parent\n"
     ]
    }
   ],
   "source": [
    "tom.my()"
   ]
  },
  {
   "cell_type": "code",
   "execution_count": 20,
   "id": "a10bab40",
   "metadata": {},
   "outputs": [],
   "source": [
    "tom.query =\"QC course\""
   ]
  },
  {
   "cell_type": "code",
   "execution_count": 21,
   "id": "04a282d1",
   "metadata": {},
   "outputs": [
    {
     "data": {
      "text/plain": [
       "{'query': 'QC course'}"
      ]
     },
     "execution_count": 21,
     "metadata": {},
     "output_type": "execute_result"
    }
   ],
   "source": [
    "tom.__dict__"
   ]
  },
  {
   "cell_type": "code",
   "execution_count": 22,
   "id": "2c501360",
   "metadata": {},
   "outputs": [],
   "source": [
    "tom.name=\"tom k\""
   ]
  },
  {
   "cell_type": "code",
   "execution_count": 23,
   "id": "0d33015a",
   "metadata": {},
   "outputs": [],
   "source": [
    "tom.mob=1234"
   ]
  },
  {
   "cell_type": "code",
   "execution_count": 28,
   "id": "40dd480f",
   "metadata": {},
   "outputs": [],
   "source": [
    "class StudentForm(CommonForm): #subclass or child class\n",
    "    query=None\n",
    "    \n",
    "    def __init__(self,q,n,m):\n",
    "        self.query=q\n",
    "        self.name=n\n",
    "        self.mob=n"
   ]
  },
  {
   "cell_type": "code",
   "execution_count": 29,
   "id": "2b5cf2b1",
   "metadata": {},
   "outputs": [],
   "source": [
    "tom = StudentForm(\"QC corse\",\"tom k\",9999)"
   ]
  },
  {
   "cell_type": "code",
   "execution_count": 30,
   "id": "bc3a632c",
   "metadata": {},
   "outputs": [
    {
     "data": {
      "text/plain": [
       "{'query': 'QC corse', 'name': 'tom k', 'mob': 'tom k'}"
      ]
     },
     "execution_count": 30,
     "metadata": {},
     "output_type": "execute_result"
    }
   ],
   "source": [
    "tom.__dict__"
   ]
  },
  {
   "cell_type": "code",
   "execution_count": 32,
   "id": "f7994099",
   "metadata": {},
   "outputs": [],
   "source": [
    "class StudentForm(CommonForm): #subclass or child class\n",
    "    query=None\n",
    "    \n",
    "    def __init__(self,q,n,m,c):#python is flexible so property can be created that is on the fly u can add not good for planning\n",
    "        self.query=q\n",
    "        self.name=n\n",
    "        self.mob=n\n",
    "        self.city=c"
   ]
  },
  {
   "cell_type": "code",
   "execution_count": 33,
   "id": "cde3e5d9",
   "metadata": {},
   "outputs": [],
   "source": [
    "tom = StudentForm(\"QC corse\",\"tom k\",9999,\"jaipur\")    #positional argument passed"
   ]
  },
  {
   "cell_type": "code",
   "execution_count": 34,
   "id": "d3b48597",
   "metadata": {},
   "outputs": [
    {
     "data": {
      "text/plain": [
       "{'query': 'QC corse', 'name': 'tom k', 'mob': 'tom k', 'city': 'jaipur'}"
      ]
     },
     "execution_count": 34,
     "metadata": {},
     "output_type": "execute_result"
    }
   ],
   "source": [
    "tom.__dict__"
   ]
  },
  {
   "cell_type": "code",
   "execution_count": 37,
   "id": "2220e97b",
   "metadata": {},
   "outputs": [],
   "source": [
    "class StudentForm(CommonForm):\n",
    "    query=None\n",
    "    \n",
    "    def __init__(self,myquery,myname,mymob  #,mycountry=\"India\"):  #india default parameter set \n",
    "                                                                    #if anyone want to change then can change\n",
    "        self.query=myquery\n",
    "        self.name=myname\n",
    "        self.mob=mymob\n",
    "        #self.country=mycountry"
   ]
  },
  {
   "cell_type": "code",
   "execution_count": 38,
   "id": "48755e84",
   "metadata": {},
   "outputs": [],
   "source": [
    "rahul = StudentForm(\n",
    "                     myquery=\"Meta course\",      #named argument passed\n",
    "                     myname=\"rahul k\",\n",
    "                     mymob=\"8888\"\n",
    "                    )"
   ]
  },
  {
   "cell_type": "code",
   "execution_count": 40,
   "id": "a1b3dc9e",
   "metadata": {},
   "outputs": [
    {
     "data": {
      "text/plain": [
       "{'query': 'Meta course', 'name': 'rahul k', 'mob': '8888'}"
      ]
     },
     "execution_count": 40,
     "metadata": {},
     "output_type": "execute_result"
    }
   ],
   "source": [
    "rahul.__dict__"
   ]
  },
  {
   "cell_type": "code",
   "execution_count": 42,
   "id": "b563f4bb",
   "metadata": {},
   "outputs": [],
   "source": [
    "class CommonForm: \n",
    "    name=None\n",
    "    mob=None\n",
    "    country=None\n",
    "    def my(self):        \n",
    "        print(\"i m parent\")\n",
    "        "
   ]
  },
  {
   "cell_type": "code",
   "execution_count": 43,
   "id": "420cbeca",
   "metadata": {},
   "outputs": [],
   "source": [
    "class StudentForm(CommonForm):\n",
    "    query=None\n",
    "    \n",
    "    def __init__(self,myquery,myname,mymob,mycountry=\"India\"):  #india default parameter set \n",
    "                                                                    #if anyone want to change then can change\n",
    "        self.query=myquery\n",
    "        self.name=myname\n",
    "        self.mob=mymob\n",
    "        self.country=mycountry"
   ]
  },
  {
   "cell_type": "code",
   "execution_count": 44,
   "id": "be2bd478",
   "metadata": {},
   "outputs": [],
   "source": [
    "rahul = StudentForm(\n",
    "                     myquery=\"Meta course\",   \n",
    "                     myname=\"rahul k\",\n",
    "                     mymob=\"8888\"\n",
    "                    )"
   ]
  },
  {
   "cell_type": "code",
   "execution_count": 45,
   "id": "2e3008ca",
   "metadata": {},
   "outputs": [
    {
     "data": {
      "text/plain": [
       "{'query': 'Meta course', 'name': 'rahul k', 'mob': '8888', 'country': 'India'}"
      ]
     },
     "execution_count": 45,
     "metadata": {},
     "output_type": "execute_result"
    }
   ],
   "source": [
    "rahul.__dict__                                   #country by default printed"
   ]
  },
  {
   "cell_type": "code",
   "execution_count": 47,
   "id": "fe1545e3",
   "metadata": {},
   "outputs": [],
   "source": [
    "rahul = StudentForm(\n",
    "                     myquery=\"Meta course\",                #wanna change default name of country so can change\n",
    "                     myname=\"rahul k\",\n",
    "                     mymob=\"8888\",\n",
    "                     mycountry=\"US\"\n",
    "                    )"
   ]
  },
  {
   "cell_type": "code",
   "execution_count": 48,
   "id": "48b165f8",
   "metadata": {},
   "outputs": [
    {
     "data": {
      "text/plain": [
       "{'query': 'Meta course', 'name': 'rahul k', 'mob': '8888', 'country': 'US'}"
      ]
     },
     "execution_count": 48,
     "metadata": {},
     "output_type": "execute_result"
    }
   ],
   "source": [
    "rahul.__dict__                                 "
   ]
  },
  {
   "cell_type": "code",
   "execution_count": null,
   "id": "5d9e4115",
   "metadata": {},
   "outputs": [],
   "source": []
  }
 ],
 "metadata": {
  "kernelspec": {
   "display_name": "Python 3 (ipykernel)",
   "language": "python",
   "name": "python3"
  },
  "language_info": {
   "codemirror_mode": {
    "name": "ipython",
    "version": 3
   },
   "file_extension": ".py",
   "mimetype": "text/x-python",
   "name": "python",
   "nbconvert_exporter": "python",
   "pygments_lexer": "ipython3",
   "version": "3.10.9"
  }
 },
 "nbformat": 4,
 "nbformat_minor": 5
}
