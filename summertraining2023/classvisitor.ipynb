{
 "cells": [
  {
   "cell_type": "code",
   "execution_count": 44,
   "id": "d03f574f",
   "metadata": {},
   "outputs": [],
   "source": [
    "class VisitorForm: #in classes we put variable names or attributes\n",
    "    __name = None    #we dont want that they themselves can change the name\n",
    "    __phone = None #(we make it private by _)\n",
    "    \n",
    "    def setPhone(self, m):#change krwana chah rahe uska fun bnado\n",
    "        self.phone = m\n",
    "    "
   ]
  },
  {
   "cell_type": "code",
   "execution_count": 45,
   "id": "457215f7",
   "metadata": {},
   "outputs": [],
   "source": [
    "rahul = VisitorForm() #rahul object in python by design \n",
    "                       #does not support private data members start by _ or__"
   ]
  },
  {
   "cell_type": "code",
   "execution_count": 46,
   "id": "bf2e75db",
   "metadata": {},
   "outputs": [],
   "source": [
    "rahul.setPhone =(12334)  #python interpreter did manipulation in backgrnd\n",
    "                #underscore name ko special name de dia  automatically dir(x)"
   ]
  },
  {
   "cell_type": "code",
   "execution_count": 47,
   "id": "f464893d",
   "metadata": {},
   "outputs": [
    {
     "data": {
      "text/plain": [
       "{'setPhone': 12334}"
      ]
     },
     "execution_count": 47,
     "metadata": {},
     "output_type": "execute_result"
    }
   ],
   "source": [
    "rahul.__dict__"
   ]
  },
  {
   "cell_type": "code",
   "execution_count": 18,
   "id": "3e035441",
   "metadata": {},
   "outputs": [],
   "source": [
    "class LW:\n",
    "    __name =\"Vimal\""
   ]
  },
  {
   "cell_type": "code",
   "execution_count": 19,
   "id": "e5a9828f",
   "metadata": {},
   "outputs": [],
   "source": [
    "x = LW()"
   ]
  },
  {
   "cell_type": "code",
   "execution_count": 22,
   "id": "fed38911",
   "metadata": {},
   "outputs": [
    {
     "data": {
      "text/plain": [
       "'Vimal'"
      ]
     },
     "execution_count": 22,
     "metadata": {},
     "output_type": "execute_result"
    }
   ],
   "source": [
    "x._LW__name (class la name dedo its  a hack )"
   ]
  },
  {
   "cell_type": "code",
   "execution_count": 25,
   "id": "a0d1f76d",
   "metadata": {},
   "outputs": [],
   "source": [
    "class MY:\n",
    "    __name = \"vimal\"  (make it private)"
   ]
  },
  {
   "cell_type": "code",
   "execution_count": 29,
   "id": "7a21435f",
   "metadata": {},
   "outputs": [],
   "source": [
    "y=MY() #where private mem req.we dont use python application\n",
    "        #for banking purpose we use java for hardcoded private access modifier\n",
    "        #in python world no need of private data member"
   ]
  },
  {
   "cell_type": "code",
   "execution_count": 28,
   "id": "d30eac7e",
   "metadata": {},
   "outputs": [
    {
     "data": {
      "text/plain": [
       "'vimal'"
      ]
     },
     "execution_count": 28,
     "metadata": {},
     "output_type": "execute_result"
    }
   ],
   "source": [
    "y._MY__name"
   ]
  },
  {
   "cell_type": "code",
   "execution_count": 51,
   "id": "424de38f",
   "metadata": {},
   "outputs": [],
   "source": [
    "class VisitorForm: \n",
    "    name = None    \n",
    "    phone = None \n",
    "    remarks = None\n",
    "    def setName(self ,n): #these are methods\n",
    "        self.name = n\n",
    "        \n",
    "    def setPhone(self , p):\n",
    "        self.phone = p\n",
    "        def my(self):\n",
    "              print(\"this is me\")\n",
    "    def __init__(self):   #when obj. created this fun run automatically(magic fun)\n",
    "        print(\"hi i m vimal run auto\") #this fun known as constructor"
   ]
  },
  {
   "cell_type": "code",
   "execution_count": 52,
   "id": "0b444eda",
   "metadata": {},
   "outputs": [
    {
     "name": "stdout",
     "output_type": "stream",
     "text": [
      "hi i m vimal run auto\n"
     ]
    }
   ],
   "source": [
    "rahul = VisitorForm()"
   ]
  },
  {
   "cell_type": "code",
   "execution_count": 53,
   "id": "119d6309",
   "metadata": {},
   "outputs": [
    {
     "name": "stdout",
     "output_type": "stream",
     "text": [
      "hi i m vimal run auto\n"
     ]
    }
   ],
   "source": [
    "tom = VisitorForm()"
   ]
  },
  {
   "cell_type": "code",
   "execution_count": 55,
   "id": "1029a8f0",
   "metadata": {},
   "outputs": [],
   "source": [
    "class VisitorForm: \n",
    "    name = None    \n",
    "    phone = None \n",
    "    remarks = None\n",
    "    #def my.self():\n",
    "      #print(\"i m my\")\n",
    "    #def lw.self(): #self is variable it is public)\n",
    "      #print(\"i m lw\")\n",
    "    \n",
    "    def __init__(self,n,p,r):\n",
    "        self.name = n\n",
    "        self.phone =p\n",
    "        self.remarks=r\n",
    "        print(\"welcome to my new user...\")"
   ]
  },
  {
   "cell_type": "code",
   "execution_count": 56,
   "id": "f8d2e9e1",
   "metadata": {},
   "outputs": [
    {
     "name": "stdout",
     "output_type": "stream",
     "text": [
      "welcome to my new user...\n"
     ]
    }
   ],
   "source": [
    "rahul =  VisitorForm(\"rahul kumar\",11111,\"ok\")"
   ]
  },
  {
   "cell_type": "code",
   "execution_count": 57,
   "id": "55985b87",
   "metadata": {},
   "outputs": [
    {
     "data": {
      "text/plain": [
       "{'name': 'rahul kumar', 'phone': 11111, 'remarks': 'ok'}"
      ]
     },
     "execution_count": 57,
     "metadata": {},
     "output_type": "execute_result"
    }
   ],
   "source": [
    "rahul.__dict__   #dir(rahul)"
   ]
  },
  {
   "cell_type": "code",
   "execution_count": null,
   "id": "c799e5fa",
   "metadata": {},
   "outputs": [],
   "source": []
  }
 ],
 "metadata": {
  "kernelspec": {
   "display_name": "Python 3 (ipykernel)",
   "language": "python",
   "name": "python3"
  },
  "language_info": {
   "codemirror_mode": {
    "name": "ipython",
    "version": 3
   },
   "file_extension": ".py",
   "mimetype": "text/x-python",
   "name": "python",
   "nbconvert_exporter": "python",
   "pygments_lexer": "ipython3",
   "version": "3.10.9"
  }
 },
 "nbformat": 4,
 "nbformat_minor": 5
}
