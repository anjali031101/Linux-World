{
 "cells": [
  {
   "cell_type": "code",
   "execution_count": 1,
   "id": "46abb4cd",
   "metadata": {},
   "outputs": [],
   "source": [
    "def mysum(x,y): #not good practice function name dia bcz aage call kr sake \n",
    "    #but func wahi bnao jha req pde \n",
    "    z=x+y\n",
    "    return z"
   ]
  },
  {
   "cell_type": "code",
   "execution_count": 2,
   "id": "bdf8d258",
   "metadata": {},
   "outputs": [
    {
     "data": {
      "text/plain": [
       "7"
      ]
     },
     "execution_count": 2,
     "metadata": {},
     "output_type": "execute_result"
    }
   ],
   "source": [
    "mysum(5,2)"
   ]
  },
  {
   "cell_type": "code",
   "execution_count": 3,
   "id": "05d23966",
   "metadata": {},
   "outputs": [],
   "source": [
    "#anonymous function (lamda) keyword thru which we create anonmous function\n"
   ]
  },
  {
   "cell_type": "code",
   "execution_count": 7,
   "id": "b288353d",
   "metadata": {},
   "outputs": [],
   "source": [
    "my = lambda x,y:x+y   #(function aise bna skte ho)"
   ]
  },
  {
   "cell_type": "code",
   "execution_count": 9,
   "id": "97143dc1",
   "metadata": {},
   "outputs": [
    {
     "data": {
      "text/plain": [
       "9"
      ]
     },
     "execution_count": 9,
     "metadata": {},
     "output_type": "execute_result"
    }
   ],
   "source": [
    "my(3,6)"
   ]
  },
  {
   "cell_type": "code",
   "execution_count": 10,
   "id": "55590dc5",
   "metadata": {},
   "outputs": [],
   "source": [
    "my1 = lambda x: print(x)"
   ]
  },
  {
   "cell_type": "code",
   "execution_count": 12,
   "id": "2588c2bd",
   "metadata": {},
   "outputs": [
    {
     "name": "stdout",
     "output_type": "stream",
     "text": [
      "hi\n"
     ]
    }
   ],
   "source": [
    "my1(\"hi\")"
   ]
  },
  {
   "cell_type": "code",
   "execution_count": 14,
   "id": "feb97c13",
   "metadata": {},
   "outputs": [
    {
     "name": "stdout",
     "output_type": "stream",
     "text": [
      "hi\n"
     ]
    }
   ],
   "source": [
    "print(\"hi\") #many func jo func ko hi input lere h ex filter \n",
    "#not take input value known as first order function"
   ]
  },
  {
   "cell_type": "code",
   "execution_count": null,
   "id": "65238420",
   "metadata": {},
   "outputs": [],
   "source": []
  },
  {
   "cell_type": "code",
   "execution_count": 24,
   "id": "29a06669",
   "metadata": {},
   "outputs": [
    {
     "data": {
      "text/plain": [
       "[2, 4, 6]"
      ]
     },
     "execution_count": 24,
     "metadata": {},
     "output_type": "execute_result"
    }
   ],
   "source": [
    "list(filter(lambda x : x%2 == 0,[1,2,3,4,5,6]))"
   ]
  },
  {
   "cell_type": "code",
   "execution_count": 33,
   "id": "f32f8dae",
   "metadata": {},
   "outputs": [
    {
     "data": {
      "text/plain": [
       "('vimal@gmail.com', 'jack@lw.com', 'amit@gmail.com')"
      ]
     },
     "execution_count": 33,
     "metadata": {},
     "output_type": "execute_result"
    }
   ],
   "source": [
    "\"vimal@gmail.com\",\"jack@lw.com\",\"amit@gmail.com\""
   ]
  },
  {
   "cell_type": "code",
   "execution_count": 34,
   "id": "35698569",
   "metadata": {},
   "outputs": [
    {
     "data": {
      "text/plain": [
       "'gmail.com'"
      ]
     },
     "execution_count": 34,
     "metadata": {},
     "output_type": "execute_result"
    }
   ],
   "source": [
    "\"vimal@gmail.com\".split(\"@\")[1]"
   ]
  },
  {
   "cell_type": "code",
   "execution_count": 32,
   "id": "9168d0e0",
   "metadata": {},
   "outputs": [
    {
     "data": {
      "text/plain": [
       "False"
      ]
     },
     "execution_count": 32,
     "metadata": {},
     "output_type": "execute_result"
    }
   ],
   "source": [
    "\"jack@lw.com\".split(\"@\")[1] == \"gmail.com\" #filter func h jo input leta h"
   ]
  },
  {
   "cell_type": "code",
   "execution_count": 37,
   "id": "cfe36370",
   "metadata": {},
   "outputs": [
    {
     "ename": "IndentationError",
     "evalue": "unexpected indent (1443172431.py, line 2)",
     "output_type": "error",
     "traceback": [
      "\u001b[1;36m  Cell \u001b[1;32mIn[37], line 2\u001b[1;36m\u001b[0m\n\u001b[1;33m    [\"vimal@gmail.com\",\"jack@lw.com\",\"amit@gmail.com\"]\u001b[0m\n\u001b[1;37m    ^\u001b[0m\n\u001b[1;31mIndentationError\u001b[0m\u001b[1;31m:\u001b[0m unexpected indent\n"
     ]
    }
   ],
   "source": [
    "filter(lambda x: x.split(\"@\")[1]==\"gmail.com\")\n",
    "    [\"vimal@gmail.com\",\"jack@lw.com\",\"amit@gmail.com\"]"
   ]
  },
  {
   "cell_type": "code",
   "execution_count": 9,
   "id": "181b2cd9",
   "metadata": {},
   "outputs": [],
   "source": [
    "import pandas as pd"
   ]
  },
  {
   "cell_type": "code",
   "execution_count": 10,
   "id": "70c6f08a",
   "metadata": {},
   "outputs": [],
   "source": [
    "dataset = {\"name\" : [\"vimal\",\"jack\",\"pop\"],\n",
    "           \"id\": [1,2,3]\n",
    "          }"
   ]
  },
  {
   "cell_type": "code",
   "execution_count": 11,
   "id": "07b779cc",
   "metadata": {},
   "outputs": [
    {
     "data": {
      "text/plain": [
       "{'name': ['vimal', 'jack', 'pop'], 'id': [1, 2, 3]}"
      ]
     },
     "execution_count": 11,
     "metadata": {},
     "output_type": "execute_result"
    }
   ],
   "source": [
    "dataset"
   ]
  },
  {
   "cell_type": "code",
   "execution_count": 14,
   "id": "f32ddb67",
   "metadata": {},
   "outputs": [],
   "source": [
    "db= pd.DataFrame(dataset)"
   ]
  },
  {
   "cell_type": "code",
   "execution_count": 25,
   "id": "087a40bd",
   "metadata": {},
   "outputs": [
    {
     "data": {
      "text/plain": [
       "pandas.core.series.Series"
      ]
     },
     "execution_count": 25,
     "metadata": {},
     "output_type": "execute_result"
    }
   ],
   "source": [
    "type(db['name'])"
   ]
  },
  {
   "cell_type": "code",
   "execution_count": 28,
   "id": "75d2f4fd",
   "metadata": {},
   "outputs": [
    {
     "data": {
      "text/plain": [
       "0    vimal@lw.com\n",
       "1     jack@lw.com\n",
       "2      pop@lw.com\n",
       "Name: name, dtype: object"
      ]
     },
     "execution_count": 28,
     "metadata": {},
     "output_type": "execute_result"
    }
   ],
   "source": [
    "db['name'].apply(lambda x: x+\"@lw.com\")"
   ]
  },
  {
   "cell_type": "code",
   "execution_count": null,
   "id": "153cc613",
   "metadata": {},
   "outputs": [],
   "source": [
    "db[name]"
   ]
  }
 ],
 "metadata": {
  "kernelspec": {
   "display_name": "Python 3 (ipykernel)",
   "language": "python",
   "name": "python3"
  },
  "language_info": {
   "codemirror_mode": {
    "name": "ipython",
    "version": 3
   },
   "file_extension": ".py",
   "mimetype": "text/x-python",
   "name": "python",
   "nbconvert_exporter": "python",
   "pygments_lexer": "ipython3",
   "version": "3.10.9"
  }
 },
 "nbformat": 4,
 "nbformat_minor": 5
}
