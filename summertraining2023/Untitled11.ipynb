{
 "cells": [
  {
   "cell_type": "code",
   "execution_count": 2,
   "id": "6c315d7f",
   "metadata": {},
   "outputs": [
    {
     "ename": "NameError",
     "evalue": "name '_name_' is not defined",
     "output_type": "error",
     "traceback": [
      "\u001b[1;31m---------------------------------------------------------------------------\u001b[0m",
      "\u001b[1;31mNameError\u001b[0m                                 Traceback (most recent call last)",
      "Cell \u001b[1;32mIn[2], line 42\u001b[0m\n\u001b[0;32m     39\u001b[0m     display_photo(photo)\n\u001b[0;32m     41\u001b[0m \u001b[38;5;66;03m# Run the main function\u001b[39;00m\n\u001b[1;32m---> 42\u001b[0m \u001b[38;5;28;01mif\u001b[39;00m \u001b[43m_name_\u001b[49m \u001b[38;5;241m==\u001b[39m \u001b[38;5;124m'\u001b[39m\u001b[38;5;124m_main_\u001b[39m\u001b[38;5;124m'\u001b[39m:\n\u001b[0;32m     43\u001b[0m     main()\n",
      "\u001b[1;31mNameError\u001b[0m: name '_name_' is not defined"
     ]
    }
   ],
   "source": [
    "import cv2\n",
    "\n",
    "# Function to capture photo from webcam\n",
    "def capture_photo():\n",
    "    # Open the webcam\n",
    "    cap = cv2.VideoCapture(0)\n",
    "\n",
    "    # Read the current frame from the webcam\n",
    "    ret, frame = cap.read()\n",
    "\n",
    "    # Release the webcam\n",
    "    cap.release()\n",
    "\n",
    "    return frame\n",
    "\n",
    "# Function to save the photo\n",
    "def save_photo(photo, filename):\n",
    "    cv2.imwrite(filename, photo)\n",
    "    print('Photo saved as', filename)\n",
    "\n",
    "# Function to display the photo\n",
    "def display_photo(photo):\n",
    "    cv2.imshow('Photo', photo)\n",
    "    cv2.waitKey(0)\n",
    "    cv2.destroyAllWindows()\n",
    "\n",
    "# Main function\n",
    "def main():\n",
    "    # Specify the filename for the photo\n",
    "    filename = 'my_photo.jpg'\n",
    "\n",
    "    # Capture the photo\n",
    "    photo = capture_photo()\n",
    "\n",
    "    # Save the photo\n",
    "    save_photo(photo, filename)\n",
    "\n",
    "    # Display the photo\n",
    "    display_photo(photo)\n",
    "\n",
    "# Run the main function\n",
    "if _name_ == '_main_':\n",
    "    main()"
   ]
  },
  {
   "cell_type": "code",
   "execution_count": null,
   "id": "3a4f94ce",
   "metadata": {},
   "outputs": [],
   "source": []
  }
 ],
 "metadata": {
  "kernelspec": {
   "display_name": "Python 3 (ipykernel)",
   "language": "python",
   "name": "python3"
  },
  "language_info": {
   "codemirror_mode": {
    "name": "ipython",
    "version": 3
   },
   "file_extension": ".py",
   "mimetype": "text/x-python",
   "name": "python",
   "nbconvert_exporter": "python",
   "pygments_lexer": "ipython3",
   "version": "3.10.9"
  }
 },
 "nbformat": 4,
 "nbformat_minor": 5
}
