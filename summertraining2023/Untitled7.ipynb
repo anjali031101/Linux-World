{
 "cells": [
  {
   "cell_type": "code",
   "execution_count": 1,
   "id": "5d01899a",
   "metadata": {},
   "outputs": [],
   "source": [
    "myfile = open(\"hella.txt\", mode='r')"
   ]
  },
  {
   "cell_type": "code",
   "execution_count": 2,
   "id": "23b01467",
   "metadata": {},
   "outputs": [
    {
     "data": {
      "text/plain": [
       "<_io.TextIOWrapper name='hella.txt' mode='r' encoding='cp1252'>"
      ]
     },
     "execution_count": 2,
     "metadata": {},
     "output_type": "execute_result"
    }
   ],
   "source": [
    "myfile"
   ]
  },
  {
   "cell_type": "code",
   "execution_count": 3,
   "id": "540176b3",
   "metadata": {},
   "outputs": [],
   "source": [
    "data = myfile.read()"
   ]
  },
  {
   "cell_type": "code",
   "execution_count": 4,
   "id": "4ceed5ca",
   "metadata": {},
   "outputs": [
    {
     "data": {
      "text/plain": [
       "'hi hello\\njjgghftrd\\nmkjhug\\njuguyt\\ncsrsd\\nmkjiu\\n'"
      ]
     },
     "execution_count": 4,
     "metadata": {},
     "output_type": "execute_result"
    }
   ],
   "source": [
    "data"
   ]
  },
  {
   "cell_type": "code",
   "execution_count": 15,
   "id": "81fd826e",
   "metadata": {},
   "outputs": [
    {
     "data": {
      "text/plain": [
       "''"
      ]
     },
     "execution_count": 15,
     "metadata": {},
     "output_type": "execute_result"
    }
   ],
   "source": [
    "myfile.read(4)"
   ]
  },
  {
   "cell_type": "code",
   "execution_count": 5,
   "id": "df03a062",
   "metadata": {},
   "outputs": [],
   "source": [
    "myfile1 = open(\"hella.txt\", mode='r') #myfile1 var store address of file, file will have last add of var"
   ]
  },
  {
   "cell_type": "code",
   "execution_count": 9,
   "id": "b10fe14f",
   "metadata": {},
   "outputs": [
    {
     "data": {
      "text/plain": [
       "51"
      ]
     },
     "execution_count": 9,
     "metadata": {},
     "output_type": "execute_result"
    }
   ],
   "source": [
    "myfile1.tell()"
   ]
  },
  {
   "cell_type": "code",
   "execution_count": 14,
   "id": "eaf2d2b1",
   "metadata": {},
   "outputs": [
    {
     "data": {
      "text/plain": [
       "''"
      ]
     },
     "execution_count": 14,
     "metadata": {},
     "output_type": "execute_result"
    }
   ],
   "source": [
    "myfile.read(4)"
   ]
  },
  {
   "cell_type": "code",
   "execution_count": null,
   "id": "dc9f9b37",
   "metadata": {},
   "outputs": [],
   "source": []
  },
  {
   "cell_type": "code",
   "execution_count": 6,
   "id": "0e54354b",
   "metadata": {},
   "outputs": [
    {
     "data": {
      "text/plain": [
       "'hi hello\\njjgghftrd\\nmkjhug\\njuguyt\\ncsrsd\\nmkjiu\\n'"
      ]
     },
     "execution_count": 6,
     "metadata": {},
     "output_type": "execute_result"
    }
   ],
   "source": [
    "myfile1.read()  #in hard disk it stores like a string \\n end of line char"
   ]
  },
  {
   "cell_type": "code",
   "execution_count": 7,
   "id": "f09d0ff3",
   "metadata": {},
   "outputs": [
    {
     "name": "stdout",
     "output_type": "stream",
     "text": [
      "hi hello\n",
      "jjgghftrd\n",
      "mkjhug\n",
      "juguyt\n",
      "csrsd\n",
      "mkjiu\n",
      "\n"
     ]
    }
   ],
   "source": [
    "print(data)"
   ]
  },
  {
   "cell_type": "code",
   "execution_count": 8,
   "id": "2ba0be64",
   "metadata": {},
   "outputs": [
    {
     "data": {
      "text/plain": [
       "''"
      ]
     },
     "execution_count": 8,
     "metadata": {},
     "output_type": "execute_result"
    }
   ],
   "source": [
    "myfile1.read() end of file reached so it will not open so perform seek operation seek go back"
   ]
  },
  {
   "cell_type": "code",
   "execution_count": null,
   "id": "8f6bf14d",
   "metadata": {},
   "outputs": [],
   "source": []
  }
 ],
 "metadata": {
  "kernelspec": {
   "display_name": "Python 3 (ipykernel)",
   "language": "python",
   "name": "python3"
  },
  "language_info": {
   "codemirror_mode": {
    "name": "ipython",
    "version": 3
   },
   "file_extension": ".py",
   "mimetype": "text/x-python",
   "name": "python",
   "nbconvert_exporter": "python",
   "pygments_lexer": "ipython3",
   "version": "3.10.9"
  }
 },
 "nbformat": 4,
 "nbformat_minor": 5
}
