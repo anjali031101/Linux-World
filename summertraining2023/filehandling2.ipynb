{
 "cells": [
  {
   "cell_type": "code",
   "execution_count": 1,
   "id": "f6ea9fae",
   "metadata": {},
   "outputs": [],
   "source": [
    "#file handling\n",
    "fh = open(\"hella.txt\",\"r\")  #open is type of context manager dont open it like this instead use with keyword"
   ]
  },
  {
   "cell_type": "code",
   "execution_count": 2,
   "id": "25dc0e74",
   "metadata": {},
   "outputs": [
    {
     "data": {
      "text/plain": [
       "'hi hello\\njjgghftrd\\nmkjhug\\njuguyt\\ncsrsd\\nmkjiu\\n'"
      ]
     },
     "execution_count": 2,
     "metadata": {},
     "output_type": "execute_result"
    }
   ],
   "source": [
    "fh.read()"
   ]
  },
  {
   "cell_type": "code",
   "execution_count": 3,
   "id": "08e5462f",
   "metadata": {},
   "outputs": [],
   "source": [
    "fh.close()"
   ]
  },
  {
   "cell_type": "code",
   "execution_count": 4,
   "id": "026ad50a",
   "metadata": {},
   "outputs": [
    {
     "name": "stdout",
     "output_type": "stream",
     "text": [
      "hi hello\n",
      "jjgghftrd\n",
      "mkjhug\n",
      "juguyt\n",
      "csrsd\n",
      "mkjiu\n",
      "\n"
     ]
    }
   ],
   "source": [
    "with open(\"hella.txt\",\"r\")as fh:  #by using with keyword no need to worry about closing file\n",
    "    data=fh.read()\n",
    "    print(data)"
   ]
  },
  {
   "cell_type": "code",
   "execution_count": 5,
   "id": "efd3a2a3",
   "metadata": {},
   "outputs": [
    {
     "data": {
      "text/plain": [
       "<_io.TextIOWrapper name='hella.txt' mode='r' encoding='cp1252'>"
      ]
     },
     "execution_count": 5,
     "metadata": {},
     "output_type": "execute_result"
    }
   ],
   "source": [
    "fh"
   ]
  },
  {
   "cell_type": "code",
   "execution_count": 6,
   "id": "0e3fac9b",
   "metadata": {},
   "outputs": [
    {
     "ename": "ValueError",
     "evalue": "I/O operation on closed file.",
     "output_type": "error",
     "traceback": [
      "\u001b[1;31m---------------------------------------------------------------------------\u001b[0m",
      "\u001b[1;31mValueError\u001b[0m                                Traceback (most recent call last)",
      "Cell \u001b[1;32mIn[6], line 1\u001b[0m\n\u001b[1;32m----> 1\u001b[0m \u001b[43mfh\u001b[49m\u001b[38;5;241;43m.\u001b[39;49m\u001b[43mread\u001b[49m\u001b[43m(\u001b[49m\u001b[43m)\u001b[49m\n",
      "\u001b[1;31mValueError\u001b[0m: I/O operation on closed file."
     ]
    }
   ],
   "source": [
    "fh.read() #it is automatically closed"
   ]
  },
  {
   "cell_type": "code",
   "execution_count": 11,
   "id": "f96aadf8",
   "metadata": {},
   "outputs": [],
   "source": [
    "import speech_recognition  as sr\n"
   ]
  },
  {
   "cell_type": "code",
   "execution_count": 12,
   "id": "88e7a949",
   "metadata": {},
   "outputs": [],
   "source": [
    "r = sr.Recognizer()"
   ]
  },
  {
   "cell_type": "code",
   "execution_count": 28,
   "id": "bd6ea6c9",
   "metadata": {},
   "outputs": [],
   "source": [
    "import os\n"
   ]
  },
  {
   "cell_type": "code",
   "execution_count": 29,
   "id": "f69a491f",
   "metadata": {},
   "outputs": [],
   "source": [
    "with sr.Microphone() as mymic:\n",
    "     audio=r.record(mymic,duration=5)  #audio is a var in python convert it into wave form to store\n",
    "     text= r.recognize_google(audio)\n",
    "     print(text.lower())\n",
    "     if \"notepad\" in text.lower():\n",
    "        os.system('notepad')\n",
    "     else:\n",
    "        print(\"we don't\")\n",
    "        \n",
    "        # print(mymic.list_microphone_names()"
   ]
  },
  {
   "cell_type": "code",
   "execution_count": null,
   "id": "b0e05812",
   "metadata": {},
   "outputs": [],
   "source": [
    "with open(\"myoutput.wav\",\"wb\") as myfh:   #storing audio in this file\n",
    "    myfh.write(audio.get_wav_data())\n",
    "                                                # wt t  means text data  or wb means binary data"
   ]
  },
  {
   "cell_type": "code",
   "execution_count": null,
   "id": "e71146e7",
   "metadata": {},
   "outputs": [],
   "source": [
    "ch= input(\"enter ur choice:\")"
   ]
  }
 ],
 "metadata": {
  "kernelspec": {
   "display_name": "Python 3 (ipykernel)",
   "language": "python",
   "name": "python3"
  },
  "language_info": {
   "codemirror_mode": {
    "name": "ipython",
    "version": 3
   },
   "file_extension": ".py",
   "mimetype": "text/x-python",
   "name": "python",
   "nbconvert_exporter": "python",
   "pygments_lexer": "ipython3",
   "version": "3.10.9"
  }
 },
 "nbformat": 4,
 "nbformat_minor": 5
}
