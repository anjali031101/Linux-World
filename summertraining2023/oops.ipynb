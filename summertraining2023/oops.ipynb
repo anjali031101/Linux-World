{
 "cells": [
  {
   "cell_type": "code",
   "execution_count": 44,
   "id": "c1075cee",
   "metadata": {},
   "outputs": [],
   "source": [
    "class VisitorForm: #in classes we put variable names or attributes\n",
    "    __name = None    #we dont want that they themselves can change the name\n",
    "    __phone = None #(we make it private by _)\n",
    "    \n",
    "    def setPhone(self, m):#change krwana chah rahe uska fun bnado\n",
    "        self.phone = m\n",
    "    "
   ]
  },
  {
   "cell_type": "code",
   "execution_count": 45,
   "id": "47bd26a2",
   "metadata": {},
   "outputs": [],
   "source": [
    "rahul = VisitorForm() #rahul object in python by design \n",
    "                       #does not support private data members start by _ or__"
   ]
  },
  {
   "cell_type": "code",
   "execution_count": 46,
   "id": "da12eb21",
   "metadata": {},
   "outputs": [],
   "source": [
    "rahul.setPhone =(12334)  #python interpreter did manipulation in backgrnd\n",
    "                #underscore name ko special name de dia  automatically dir(x)"
   ]
  },
  {
   "cell_type": "code",
   "execution_count": 47,
   "id": "d03541a4",
   "metadata": {},
   "outputs": [
    {
     "data": {
      "text/plain": [
       "{'setPhone': 12334}"
      ]
     },
     "execution_count": 47,
     "metadata": {},
     "output_type": "execute_result"
    }
   ],
   "source": [
    "rahul.__dict__"
   ]
  },
  {
   "cell_type": "code",
   "execution_count": 18,
   "id": "d746fbca",
   "metadata": {},
   "outputs": [],
   "source": [
    "class LW:\n",
    "    __name =\"Vimal\""
   ]
  },
  {
   "cell_type": "code",
   "execution_count": 19,
   "id": "7b40b214",
   "metadata": {},
   "outputs": [],
   "source": [
    "x = LW()"
   ]
  },
  {
   "cell_type": "code",
   "execution_count": 22,
   "id": "8669bff2",
   "metadata": {},
   "outputs": [
    {
     "data": {
      "text/plain": [
       "'Vimal'"
      ]
     },
     "execution_count": 22,
     "metadata": {},
     "output_type": "execute_result"
    }
   ],
   "source": [
    "x._LW__name (class la name dedo its  a hack )"
   ]
  },
  {
   "cell_type": "code",
   "execution_count": 25,
   "id": "eb8375ad",
   "metadata": {},
   "outputs": [],
   "source": [
    "class MY:\n",
    "    __name = \"vimal\"  (make it private)"
   ]
  },
  {
   "cell_type": "code",
   "execution_count": 29,
   "id": "d4a1b007",
   "metadata": {},
   "outputs": [],
   "source": [
    "y=MY() #where private mem req.we dont use python application\n",
    "        #for banking purpose we use java for hardcoded private access modifier\n",
    "        #in python world no need of private data member"
   ]
  },
  {
   "cell_type": "code",
   "execution_count": 28,
   "id": "1becf372",
   "metadata": {},
   "outputs": [
    {
     "data": {
      "text/plain": [
       "'vimal'"
      ]
     },
     "execution_count": 28,
     "metadata": {},
     "output_type": "execute_result"
    }
   ],
   "source": [
    "y._MY__name"
   ]
  },
  {
   "cell_type": "code",
   "execution_count": 51,
   "id": "e96547d7",
   "metadata": {},
   "outputs": [],
   "source": [
    "class VisitorForm: \n",
    "    name = None    \n",
    "    phone = None \n",
    "    remarks = None\n",
    "    def setName(self ,n): #these are methods\n",
    "        self.name = n\n",
    "        \n",
    "    def setPhone(self , p):\n",
    "        self.phone = p\n",
    "        def my(self):\n",
    "              print(\"this is me\")\n",
    "    def __init__(self):   #when obj. created this fun run automatically(magic fun)\n",
    "        print(\"hi i m vimal run auto\") #this fun known as constructor"
   ]
  },
  {
   "cell_type": "code",
   "execution_count": 52,
   "id": "90ef4377",
   "metadata": {},
   "outputs": [
    {
     "name": "stdout",
     "output_type": "stream",
     "text": [
      "hi i m vimal run auto\n"
     ]
    }
   ],
   "source": [
    "rahul = VisitorForm()"
   ]
  },
  {
   "cell_type": "code",
   "execution_count": 53,
   "id": "0e575967",
   "metadata": {},
   "outputs": [
    {
     "name": "stdout",
     "output_type": "stream",
     "text": [
      "hi i m vimal run auto\n"
     ]
    }
   ],
   "source": [
    "tom = VisitorForm()"
   ]
  },
  {
   "cell_type": "code",
   "execution_count": 55,
   "id": "32b7fcc4",
   "metadata": {},
   "outputs": [],
   "source": [
    "class VisitorForm: \n",
    "    name = None    \n",
    "    phone = None \n",
    "    remarks = None\n",
    "    #def my.self():\n",
    "      #print(\"i m my\")\n",
    "    #def lw.self(): #self is variable it is public)\n",
    "      #print(\"i m lw\")\n",
    "    \n",
    "    def __init__(self,n,p,r):\n",
    "        self.name = n\n",
    "        self.phone =p\n",
    "        self.remarks=r\n",
    "        print(\"welcome to my new user...\")"
   ]
  },
  {
   "cell_type": "code",
   "execution_count": 56,
   "id": "21ef7507",
   "metadata": {},
   "outputs": [
    {
     "name": "stdout",
     "output_type": "stream",
     "text": [
      "welcome to my new user...\n"
     ]
    }
   ],
   "source": [
    "rahul =  VisitorForm(\"rahul kumar\",11111,\"ok\")"
   ]
  },
  {
   "cell_type": "code",
   "execution_count": 57,
   "id": "45024672",
   "metadata": {},
   "outputs": [
    {
     "data": {
      "text/plain": [
       "{'name': 'rahul kumar', 'phone': 11111, 'remarks': 'ok'}"
      ]
     },
     "execution_count": 57,
     "metadata": {},
     "output_type": "execute_result"
    }
   ],
   "source": [
    "rahul.__dict__   #dir(rahul)"
   ]
  },
  {
   "cell_type": "code",
   "execution_count": 69,
   "id": "fad7dff5",
   "metadata": {},
   "outputs": [],
   "source": [
    "class CommonForm:  #inheritence\n",
    "    name =  None\n",
    "    phone = None\n",
    "    \n",
    "    def mycf(self):\n",
    "        print(\"i m common form\")"
   ]
  },
  {
   "cell_type": "code",
   "execution_count": 70,
   "id": "b22b88ca",
   "metadata": {},
   "outputs": [],
   "source": [
    "class JobForm(CommonForm):\n",
    "    exp = None\n",
    "    \n",
    "    def myjf(self):\n",
    "         print(\"i m job form\")"
   ]
  },
  {
   "cell_type": "code",
   "execution_count": 71,
   "id": "95658438",
   "metadata": {},
   "outputs": [],
   "source": [
    "rahul = JobForm()"
   ]
  },
  {
   "cell_type": "code",
   "execution_count": 72,
   "id": "5952ec57",
   "metadata": {},
   "outputs": [
    {
     "name": "stdout",
     "output_type": "stream",
     "text": [
      "i m job form\n"
     ]
    }
   ],
   "source": [
    "rahul.myjf()"
   ]
  },
  {
   "cell_type": "code",
   "execution_count": 73,
   "id": "2bf8b489",
   "metadata": {},
   "outputs": [
    {
     "name": "stdout",
     "output_type": "stream",
     "text": [
      "i m common form\n"
     ]
    }
   ],
   "source": [
    "rahul.mycf()"
   ]
  },
  {
   "cell_type": "code",
   "execution_count": null,
   "id": "31de8d1a",
   "metadata": {},
   "outputs": [],
   "source": []
  }
 ],
 "metadata": {
  "kernelspec": {
   "display_name": "Python 3 (ipykernel)",
   "language": "python",
   "name": "python3"
  },
  "language_info": {
   "codemirror_mode": {
    "name": "ipython",
    "version": 3
   },
   "file_extension": ".py",
   "mimetype": "text/x-python",
   "name": "python",
   "nbconvert_exporter": "python",
   "pygments_lexer": "ipython3",
   "version": "3.10.9"
  }
 },
 "nbformat": 4,
 "nbformat_minor": 5
}
