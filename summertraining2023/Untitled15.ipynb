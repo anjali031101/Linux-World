{
 "cells": [
  {
   "cell_type": "code",
   "execution_count": null,
   "id": "d1fda8b4",
   "metadata": {},
   "outputs": [],
   "source": [
    "import os\n",
    "import cv2\n",
    "from cvzone.HandTrackingModule import HandDetector\n",
    "\n",
    "cap = cv2.VideoCapture( 0 )\n",
    "\n",
    "# click photo\n",
    "status , photo = cap.read()\n",
    "\n",
    "detector = HandDetector()\n",
    "\n",
    "# show the pic, from python code\n",
    "cv2.imshow(\"my photo\" , photo)\n",
    "cv2.waitKey()\n",
    "cv2.destroyAllWindows()\n",
    "\n",
    "\n",
    "handphoto = detector.findHands(photo , draw=False)\n",
    "lmlist = handphoto[0]\n",
    "fingerstatus = detector.fingersUp(lmlist)\n",
    "\n",
    "\n",
    "\n",
    "if fingerstatus == [1,1,1,1,1]:\n",
    "    print(\"all up\")\n",
    "    os.system(\"chrome\")\n",
    "\n",
    "elif fingerstatus == [ 0 ,1 ,0 , 0, 0]:\n",
    "    print(\"index finget up\")\n",
    "    os.system(\"chrome https://www.google.com/search?q=vimal+daga\")\n",
    "    \n",
    "elif fingerstatus == [ 0 , 1, 1, 0 , 0 ]:\n",
    "    print(\"index and middle finger up\")\n",
    "    os.system(\"notepad\") \n",
    "else:\n",
    "    print(\"idk\")"
   ]
  },
  {
   "cell_type": "code",
   "execution_count": null,
   "id": "cb645267",
   "metadata": {},
   "outputs": [],
   "source": []
  }
 ],
 "metadata": {
  "kernelspec": {
   "display_name": "Python 3 (ipykernel)",
   "language": "python",
   "name": "python3"
  },
  "language_info": {
   "codemirror_mode": {
    "name": "ipython",
    "version": 3
   },
   "file_extension": ".py",
   "mimetype": "text/x-python",
   "name": "python",
   "nbconvert_exporter": "python",
   "pygments_lexer": "ipython3",
   "version": "3.10.9"
  }
 },
 "nbformat": 4,
 "nbformat_minor": 5
}
