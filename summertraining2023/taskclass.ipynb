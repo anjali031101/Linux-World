{
 "cells": [
  {
   "cell_type": "code",
   "execution_count": 18,
   "id": "00106a89",
   "metadata": {},
   "outputs": [],
   "source": [
    "class record:\n",
    "    name=None            #three attributes\n",
    "    mobile_number=None\n",
    "    city=None\n",
    " #class includes a constructor that allows you to initialize the object and \n",
    "#store data in these attributes\n",
    "#constructor called automatically when obj is created #four parameters\n",
    "    \n",
    "    def __init__(self,name,mobile_number,city):  \n",
    "        self.name = name\n",
    "        self.mobile_number =mobile_number #assigns the mobile_number argument to\n",
    "                                           the mobile no attribute\n",
    "        self.city=city\n",
    "\n",
    "\n",
    "    \n",
    "    \n",
    "    "
   ]
  },
  {
   "cell_type": "code",
   "execution_count": 11,
   "id": "925c7064",
   "metadata": {},
   "outputs": [],
   "source": [
    "record1 = record(\"sumit\",8002345671,\"pilani\") #created object\n"
   ]
  },
  {
   "cell_type": "code",
   "execution_count": null,
   "id": "3e8a8483",
   "metadata": {},
   "outputs": [],
   "source": [
    "record2 = record(\"anjali\",7002345163,\"jaipur\")"
   ]
  },
  {
   "cell_type": "code",
   "execution_count": 12,
   "id": "50734ca3",
   "metadata": {},
   "outputs": [],
   "source": [
    "record3 = record(\"khushi\",4563782902,\"delhi\")"
   ]
  },
  {
   "cell_type": "code",
   "execution_count": 13,
   "id": "725f64b8",
   "metadata": {},
   "outputs": [],
   "source": [
    "record4 = record(\"viheet\",4572977221, \"goa\")"
   ]
  },
  {
   "cell_type": "code",
   "execution_count": 14,
   "id": "bf96902e",
   "metadata": {},
   "outputs": [],
   "source": [
    "record5 = record(\"suzi\", 4536789291, \"mumbai\")"
   ]
  },
  {
   "cell_type": "code",
   "execution_count": 16,
   "id": "e9e0923b",
   "metadata": {},
   "outputs": [
    {
     "data": {
      "text/plain": [
       "{'name': 'sumit', 'mobile_number': 8002345671, 'city': 'pilani'}"
      ]
     },
     "execution_count": 16,
     "metadata": {},
     "output_type": "execute_result"
    }
   ],
   "source": [
    "record1.__dict__"
   ]
  },
  {
   "cell_type": "code",
   "execution_count": null,
   "id": "1c8c60fa",
   "metadata": {},
   "outputs": [],
   "source": []
  }
 ],
 "metadata": {
  "kernelspec": {
   "display_name": "Python 3 (ipykernel)",
   "language": "python",
   "name": "python3"
  },
  "language_info": {
   "codemirror_mode": {
    "name": "ipython",
    "version": 3
   },
   "file_extension": ".py",
   "mimetype": "text/x-python",
   "name": "python",
   "nbconvert_exporter": "python",
   "pygments_lexer": "ipython3",
   "version": "3.10.9"
  }
 },
 "nbformat": 4,
 "nbformat_minor": 5
}
