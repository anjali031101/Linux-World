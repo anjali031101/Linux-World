{
 "cells": [
  {
   "cell_type": "code",
   "execution_count": 1,
   "id": "70ed696a",
   "metadata": {},
   "outputs": [],
   "source": [
    "names = [\"vimal\",\"pop\",\"raj\",\"rahul\",\"krish\"]"
   ]
  },
  {
   "cell_type": "code",
   "execution_count": 2,
   "id": "2eee8473",
   "metadata": {},
   "outputs": [
    {
     "data": {
      "text/plain": [
       "True"
      ]
     },
     "execution_count": 2,
     "metadata": {},
     "output_type": "execute_result"
    }
   ],
   "source": [
    "\"rahul\" in names  #use in to find names"
   ]
  },
  {
   "cell_type": "code",
   "execution_count": 10,
   "id": "b3e03fbc",
   "metadata": {},
   "outputs": [
    {
     "data": {
      "text/plain": [
       "False"
      ]
     },
     "execution_count": 10,
     "metadata": {},
     "output_type": "execute_result"
    }
   ],
   "source": [
    "\"harry\" in names"
   ]
  },
  {
   "cell_type": "code",
   "execution_count": 11,
   "id": "b7484753",
   "metadata": {},
   "outputs": [
    {
     "name": "stdout",
     "output_type": "stream",
     "text": [
      "tasks for you\n"
     ]
    }
   ],
   "source": [
    "if \"rahul\" in names:\n",
    "    print(\"tasks for you\")\n",
    "else:\n",
    "    print(\"me to take the class\")"
   ]
  },
  {
   "cell_type": "code",
   "execution_count": 12,
   "id": "9c781402",
   "metadata": {},
   "outputs": [],
   "source": [
    "s = \"this is linux world\"   #s is string"
   ]
  },
  {
   "cell_type": "code",
   "execution_count": 13,
   "id": "1249dd55",
   "metadata": {},
   "outputs": [
    {
     "data": {
      "text/plain": [
       "'this is linux world'"
      ]
     },
     "execution_count": 13,
     "metadata": {},
     "output_type": "execute_result"
    }
   ],
   "source": [
    "s"
   ]
  },
  {
   "cell_type": "code",
   "execution_count": 14,
   "id": "f95b235f",
   "metadata": {},
   "outputs": [
    {
     "data": {
      "text/plain": [
       "True"
      ]
     },
     "execution_count": 14,
     "metadata": {},
     "output_type": "execute_result"
    }
   ],
   "source": [
    "\"linux\" in s"
   ]
  },
  {
   "cell_type": "code",
   "execution_count": 15,
   "id": "1aafeffe",
   "metadata": {},
   "outputs": [
    {
     "data": {
      "text/plain": [
       "False"
      ]
     },
     "execution_count": 15,
     "metadata": {},
     "output_type": "execute_result"
    }
   ],
   "source": [
    "\"vimal\" in s"
   ]
  },
  {
   "cell_type": "code",
   "execution_count": 20,
   "id": "c2db2369",
   "metadata": {},
   "outputs": [
    {
     "data": {
      "text/plain": [
       "True"
      ]
     },
     "execution_count": 20,
     "metadata": {},
     "output_type": "execute_result"
    }
   ],
   "source": [
    "\"linux\" in s and \"world\" in s  #both can be put in parenthesis"
   ]
  },
  {
   "cell_type": "code",
   "execution_count": 21,
   "id": "c9df3846",
   "metadata": {},
   "outputs": [
    {
     "data": {
      "text/plain": [
       "True"
      ]
     },
     "execution_count": 21,
     "metadata": {},
     "output_type": "execute_result"
    }
   ],
   "source": [
    "5>2"
   ]
  },
  {
   "cell_type": "code",
   "execution_count": 23,
   "id": "01cf669b",
   "metadata": {},
   "outputs": [
    {
     "data": {
      "text/plain": [
       "False"
      ]
     },
     "execution_count": 23,
     "metadata": {},
     "output_type": "execute_result"
    }
   ],
   "source": [
    "5>2 and 4<2  #one wrong false both should be true and operator not used in python but and can be&&"
   ]
  },
  {
   "cell_type": "code",
   "execution_count": 25,
   "id": "ac3ffae6",
   "metadata": {},
   "outputs": [
    {
     "data": {
      "text/plain": [
       "False"
      ]
     },
     "execution_count": 25,
     "metadata": {},
     "output_type": "execute_result"
    }
   ],
   "source": [
    "not(5>2) #neglect or reverse condition true ka false"
   ]
  },
  {
   "cell_type": "code",
   "execution_count": 26,
   "id": "119fdfd8",
   "metadata": {},
   "outputs": [
    {
     "data": {
      "text/plain": [
       "False"
      ]
     },
     "execution_count": 26,
     "metadata": {},
     "output_type": "execute_result"
    }
   ],
   "source": [
    "(\"linux\" in s) and (not(\"world\" in s))"
   ]
  },
  {
   "cell_type": "code",
   "execution_count": null,
   "id": "e69d381b",
   "metadata": {},
   "outputs": [],
   "source": []
  }
 ],
 "metadata": {
  "kernelspec": {
   "display_name": "Python 3 (ipykernel)",
   "language": "python",
   "name": "python3"
  },
  "language_info": {
   "codemirror_mode": {
    "name": "ipython",
    "version": 3
   },
   "file_extension": ".py",
   "mimetype": "text/x-python",
   "name": "python",
   "nbconvert_exporter": "python",
   "pygments_lexer": "ipython3",
   "version": "3.10.9"
  }
 },
 "nbformat": 4,
 "nbformat_minor": 5
}
