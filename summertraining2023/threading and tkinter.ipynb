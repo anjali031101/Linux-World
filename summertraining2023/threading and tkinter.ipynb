{
 "cells": [
  {
   "cell_type": "code",
   "execution_count": null,
   "id": "90e80990",
   "metadata": {},
   "outputs": [],
   "source": [
    "import threading\n",
    "\n",
    "# Function 1\n",
    "def lw1():\n",
    "    while True:\n",
    "        # Code for function 1\n",
    "        print(\"aa\")\n",
    "\n",
    "# Function 2\n",
    "def lw2():\n",
    "    while True:\n",
    "        # Code for function 2\n",
    "        print(\"bb\")\n",
    "\n",
    "# Create two threads for parallel execution\n",
    "thread1 = threading.Thread(target=lw1)\n",
    "thread2 = threading.Thread(target=lw2)\n",
    "\n",
    "# Start the threads\n",
    "thread1.start()\n",
    "thread2.start()\n",
    "\n",
    "# Main thread continues executing\n",
    "while True:\n",
    "    pass\n"
   ]
  },
  {
   "cell_type": "code",
   "execution_count": 1,
   "id": "54b4320e",
   "metadata": {},
   "outputs": [],
   "source": [
    "import tkinter as tk\n",
    "\n",
    "def greet():\n",
    "    name = entry.get()\n",
    "    if name:\n",
    "        greeting = f\"Hello, {name}!\"\n",
    "        label.config(text=greeting)\n",
    "\n",
    "# Create the main window\n",
    "window = tk.Tk()\n",
    "window.title(\"Greeting App\")\n",
    "\n",
    "# Create GUI components\n",
    "label = tk.Label(window, text=\"Enter your name:\")\n",
    "label.pack()\n",
    "\n",
    "entry = tk.Entry(window)\n",
    "entry.pack()\n",
    "\n",
    "button = tk.Button(window, text=\"Greet\", command=greet)\n",
    "button.pack()\n",
    "\n",
    "# Start the main event loop\n",
    "window.mainloop()\n"
   ]
  },
  {
   "cell_type": "code",
   "execution_count": null,
   "id": "f195a3ee",
   "metadata": {},
   "outputs": [],
   "source": []
  }
 ],
 "metadata": {
  "kernelspec": {
   "display_name": "Python 3 (ipykernel)",
   "language": "python",
   "name": "python3"
  },
  "language_info": {
   "codemirror_mode": {
    "name": "ipython",
    "version": 3
   },
   "file_extension": ".py",
   "mimetype": "text/x-python",
   "name": "python",
   "nbconvert_exporter": "python",
   "pygments_lexer": "ipython3",
   "version": "3.10.9"
  }
 },
 "nbformat": 4,
 "nbformat_minor": 5
}
