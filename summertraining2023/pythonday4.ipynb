{
 "cells": [
  {
   "cell_type": "code",
   "execution_count": null,
   "id": "42e0869d",
   "metadata": {},
   "outputs": [],
   "source": []
  },
  {
   "cell_type": "code",
   "execution_count": 1,
   "id": "b11de578",
   "metadata": {},
   "outputs": [],
   "source": [
    "names = [\"vimal\",\"tom\",\"pop\",\"eric\"]"
   ]
  },
  {
   "cell_type": "code",
   "execution_count": 2,
   "id": "994604e8",
   "metadata": {},
   "outputs": [],
   "source": [
    "cnames = names"
   ]
  },
  {
   "cell_type": "code",
   "execution_count": 7,
   "id": "0f55f798",
   "metadata": {},
   "outputs": [
    {
     "data": {
      "text/plain": [
       "['vimal', 'harry', 'pop', 'eric']"
      ]
     },
     "execution_count": 7,
     "metadata": {},
     "output_type": "execute_result"
    }
   ],
   "source": [
    "names #dev1\n"
   ]
  },
  {
   "cell_type": "code",
   "execution_count": 8,
   "id": "3aec6e59",
   "metadata": {},
   "outputs": [
    {
     "data": {
      "text/plain": [
       "['vimal', 'harry', 'pop', 'eric']"
      ]
     },
     "execution_count": 8,
     "metadata": {},
     "output_type": "execute_result"
    }
   ],
   "source": [
    "cnames #dev2"
   ]
  },
  {
   "cell_type": "code",
   "execution_count": 9,
   "id": "5c8f4c95",
   "metadata": {},
   "outputs": [],
   "source": [
    "cnames[1] =\"harry\""
   ]
  },
  {
   "cell_type": "code",
   "execution_count": 10,
   "id": "3a418e57",
   "metadata": {},
   "outputs": [
    {
     "data": {
      "text/plain": [
       "['vimal', 'harry', 'pop', 'eric']"
      ]
     },
     "execution_count": 10,
     "metadata": {},
     "output_type": "execute_result"
    }
   ],
   "source": [
    "cnames\n"
   ]
  },
  {
   "cell_type": "code",
   "execution_count": 11,
   "id": "990cd586",
   "metadata": {},
   "outputs": [
    {
     "data": {
      "text/plain": [
       "['vimal', 'harry', 'pop', 'eric']"
      ]
     },
     "execution_count": 11,
     "metadata": {},
     "output_type": "execute_result"
    }
   ],
   "source": [
    "names"
   ]
  },
  {
   "cell_type": "code",
   "execution_count": 16,
   "id": "514b362a",
   "metadata": {},
   "outputs": [],
   "source": [
    "a = [1,2,3,4]  #a just stores the memory address  #b=a they are just copying the memory address #not copyimg the data"
   ]
  },
  {
   "cell_type": "code",
   "execution_count": 17,
   "id": "c9627d1b",
   "metadata": {},
   "outputs": [
    {
     "data": {
      "text/plain": [
       "[1, 2, 3, 4]"
      ]
     },
     "execution_count": 17,
     "metadata": {},
     "output_type": "execute_result"
    }
   ],
   "source": [
    "a"
   ]
  },
  {
   "cell_type": "code",
   "execution_count": 18,
   "id": "96995ea9",
   "metadata": {},
   "outputs": [
    {
     "data": {
      "text/plain": [
       "1639306421120"
      ]
     },
     "execution_count": 18,
     "metadata": {},
     "output_type": "execute_result"
    }
   ],
   "source": [
    "id(a)"
   ]
  },
  {
   "cell_type": "code",
   "execution_count": 19,
   "id": "0115e93e",
   "metadata": {},
   "outputs": [],
   "source": [
    "b = [1,2,3,4]"
   ]
  },
  {
   "cell_type": "code",
   "execution_count": 20,
   "id": "3d021d4e",
   "metadata": {},
   "outputs": [
    {
     "data": {
      "text/plain": [
       "[1, 2, 3, 4]"
      ]
     },
     "execution_count": 20,
     "metadata": {},
     "output_type": "execute_result"
    }
   ],
   "source": [
    "b"
   ]
  },
  {
   "cell_type": "code",
   "execution_count": 21,
   "id": "e8cd2692",
   "metadata": {},
   "outputs": [
    {
     "data": {
      "text/plain": [
       "1639307074560"
      ]
     },
     "execution_count": 21,
     "metadata": {},
     "output_type": "execute_result"
    }
   ],
   "source": [
    "id(b)"
   ]
  },
  {
   "cell_type": "code",
   "execution_count": 22,
   "id": "dfddee7d",
   "metadata": {},
   "outputs": [],
   "source": [
    "b[2]=3333"
   ]
  },
  {
   "cell_type": "code",
   "execution_count": 23,
   "id": "1aa8cdf7",
   "metadata": {},
   "outputs": [
    {
     "data": {
      "text/plain": [
       "[1, 2, 3333, 4]"
      ]
     },
     "execution_count": 23,
     "metadata": {},
     "output_type": "execute_result"
    }
   ],
   "source": [
    "b"
   ]
  },
  {
   "cell_type": "code",
   "execution_count": 26,
   "id": "2a52fa02",
   "metadata": {},
   "outputs": [],
   "source": [
    "a=b"
   ]
  },
  {
   "cell_type": "code",
   "execution_count": 27,
   "id": "3480f540",
   "metadata": {},
   "outputs": [
    {
     "data": {
      "text/plain": [
       "[1, 2, 3333, 4]"
      ]
     },
     "execution_count": 27,
     "metadata": {},
     "output_type": "execute_result"
    }
   ],
   "source": [
    "a"
   ]
  },
  {
   "cell_type": "code",
   "execution_count": 28,
   "id": "4a8e7c27",
   "metadata": {},
   "outputs": [
    {
     "data": {
      "text/plain": [
       "1639307074560"
      ]
     },
     "execution_count": 28,
     "metadata": {},
     "output_type": "execute_result"
    }
   ],
   "source": [
    "id(b)"
   ]
  },
  {
   "cell_type": "code",
   "execution_count": 29,
   "id": "137698ae",
   "metadata": {},
   "outputs": [
    {
     "data": {
      "text/plain": [
       "1639307074560"
      ]
     },
     "execution_count": 29,
     "metadata": {},
     "output_type": "execute_result"
    }
   ],
   "source": [
    "id(a)"
   ]
  },
  {
   "cell_type": "code",
   "execution_count": 32,
   "id": "b559277f",
   "metadata": {},
   "outputs": [],
   "source": [
    "a =[1,2,3,4]"
   ]
  },
  {
   "cell_type": "code",
   "execution_count": 33,
   "id": "cf4fd891",
   "metadata": {},
   "outputs": [
    {
     "data": {
      "text/plain": [
       "[1, 2, 3, 4]"
      ]
     },
     "execution_count": 33,
     "metadata": {},
     "output_type": "execute_result"
    }
   ],
   "source": [
    "a"
   ]
  },
  {
   "cell_type": "code",
   "execution_count": 34,
   "id": "9ee3deaa",
   "metadata": {},
   "outputs": [],
   "source": [
    "b=a"
   ]
  },
  {
   "cell_type": "code",
   "execution_count": 35,
   "id": "284da1bc",
   "metadata": {},
   "outputs": [
    {
     "data": {
      "text/plain": [
       "1639335366016"
      ]
     },
     "execution_count": 35,
     "metadata": {},
     "output_type": "execute_result"
    }
   ],
   "source": [
    "id(b)"
   ]
  },
  {
   "cell_type": "code",
   "execution_count": 36,
   "id": "cc82ab81",
   "metadata": {},
   "outputs": [
    {
     "data": {
      "text/plain": [
       "[1, 2, 3, 4]"
      ]
     },
     "execution_count": 36,
     "metadata": {},
     "output_type": "execute_result"
    }
   ],
   "source": [
    "a[:]"
   ]
  },
  {
   "cell_type": "code",
   "execution_count": 37,
   "id": "307020b3",
   "metadata": {},
   "outputs": [],
   "source": [
    "b=a[:]\n"
   ]
  },
  {
   "cell_type": "code",
   "execution_count": 38,
   "id": "1b7424e8",
   "metadata": {},
   "outputs": [
    {
     "data": {
      "text/plain": [
       "[1, 2, 3, 4]"
      ]
     },
     "execution_count": 38,
     "metadata": {},
     "output_type": "execute_result"
    }
   ],
   "source": [
    "b"
   ]
  },
  {
   "cell_type": "code",
   "execution_count": 39,
   "id": "a927dd37",
   "metadata": {},
   "outputs": [
    {
     "data": {
      "text/plain": [
       "1639306662400"
      ]
     },
     "execution_count": 39,
     "metadata": {},
     "output_type": "execute_result"
    }
   ],
   "source": [
    "id(b)"
   ]
  },
  {
   "cell_type": "code",
   "execution_count": 40,
   "id": "ef853a55",
   "metadata": {},
   "outputs": [
    {
     "data": {
      "text/plain": [
       "[1, 2, 3, 4]"
      ]
     },
     "execution_count": 40,
     "metadata": {},
     "output_type": "execute_result"
    }
   ],
   "source": [
    "a"
   ]
  },
  {
   "cell_type": "code",
   "execution_count": 42,
   "id": "62ed8298",
   "metadata": {},
   "outputs": [],
   "source": [
    "import copy #2nd way "
   ]
  },
  {
   "cell_type": "code",
   "execution_count": 43,
   "id": "186e0c4b",
   "metadata": {},
   "outputs": [],
   "source": [
    "d=copy.copy(a)"
   ]
  },
  {
   "cell_type": "code",
   "execution_count": 44,
   "id": "e13dbeb5",
   "metadata": {},
   "outputs": [
    {
     "data": {
      "text/plain": [
       "1639335366016"
      ]
     },
     "execution_count": 44,
     "metadata": {},
     "output_type": "execute_result"
    }
   ],
   "source": [
    "id(a)"
   ]
  },
  {
   "cell_type": "code",
   "execution_count": 45,
   "id": "49975363",
   "metadata": {},
   "outputs": [
    {
     "data": {
      "text/plain": [
       "1639335327744"
      ]
     },
     "execution_count": 45,
     "metadata": {},
     "output_type": "execute_result"
    }
   ],
   "source": [
    "id(d)"
   ]
  },
  {
   "cell_type": "code",
   "execution_count": 133,
   "id": "c2085626",
   "metadata": {},
   "outputs": [],
   "source": [
    "d[1]=1111       #d change does not change a"
   ]
  },
  {
   "cell_type": "code",
   "execution_count": 47,
   "id": "7bf1cbef",
   "metadata": {},
   "outputs": [
    {
     "data": {
      "text/plain": [
       "[1, 1111, 3, 4]"
      ]
     },
     "execution_count": 47,
     "metadata": {},
     "output_type": "execute_result"
    }
   ],
   "source": [
    "d"
   ]
  },
  {
   "cell_type": "code",
   "execution_count": 58,
   "id": "678a1fb2",
   "metadata": {},
   "outputs": [],
   "source": [
    "db= [1,\"vimal\",[98234,11111]]     #not copying the inner list just copying the address"
   ]
  },
  {
   "cell_type": "code",
   "execution_count": 59,
   "id": "744542b3",
   "metadata": {},
   "outputs": [
    {
     "data": {
      "text/plain": [
       "[1, 'vimal', [98234, 11111]]"
      ]
     },
     "execution_count": 59,
     "metadata": {},
     "output_type": "execute_result"
    }
   ],
   "source": [
    "db"
   ]
  },
  {
   "cell_type": "code",
   "execution_count": 60,
   "id": "b97ab72b",
   "metadata": {},
   "outputs": [
    {
     "data": {
      "text/plain": [
       "3"
      ]
     },
     "execution_count": 60,
     "metadata": {},
     "output_type": "execute_result"
    }
   ],
   "source": [
    "len(db)"
   ]
  },
  {
   "cell_type": "code",
   "execution_count": 61,
   "id": "bf35bd62",
   "metadata": {},
   "outputs": [
    {
     "data": {
      "text/plain": [
       "[98234, 11111]"
      ]
     },
     "execution_count": 61,
     "metadata": {},
     "output_type": "execute_result"
    }
   ],
   "source": [
    "db[2]"
   ]
  },
  {
   "cell_type": "code",
   "execution_count": 62,
   "id": "0a921f04",
   "metadata": {},
   "outputs": [
    {
     "data": {
      "text/plain": [
       "98234"
      ]
     },
     "execution_count": 62,
     "metadata": {},
     "output_type": "execute_result"
    }
   ],
   "source": [
    "db[2][0]"
   ]
  },
  {
   "cell_type": "code",
   "execution_count": 80,
   "id": "4314f5da",
   "metadata": {},
   "outputs": [],
   "source": [
    "#to copy db equal to not used for copy #shallow copy\n",
    "lwdb= copy.copy(db)"
   ]
  },
  {
   "cell_type": "code",
   "execution_count": 64,
   "id": "b11f4078",
   "metadata": {},
   "outputs": [
    {
     "data": {
      "text/plain": [
       "[1, 'vimal', [98234, 11111]]"
      ]
     },
     "execution_count": 64,
     "metadata": {},
     "output_type": "execute_result"
    }
   ],
   "source": [
    "lwdb"
   ]
  },
  {
   "cell_type": "code",
   "execution_count": 65,
   "id": "19c10242",
   "metadata": {},
   "outputs": [],
   "source": [
    "lwdb[0] = 1111"
   ]
  },
  {
   "cell_type": "code",
   "execution_count": 66,
   "id": "38bf456c",
   "metadata": {},
   "outputs": [
    {
     "data": {
      "text/plain": [
       "[1111, 'vimal', [98234, 11111]]"
      ]
     },
     "execution_count": 66,
     "metadata": {},
     "output_type": "execute_result"
    }
   ],
   "source": [
    "lwdb"
   ]
  },
  {
   "cell_type": "code",
   "execution_count": 67,
   "id": "de0073d0",
   "metadata": {},
   "outputs": [
    {
     "data": {
      "text/plain": [
       "[1, 'vimal', [98234, 11111]]"
      ]
     },
     "execution_count": 67,
     "metadata": {},
     "output_type": "execute_result"
    }
   ],
   "source": [
    "db"
   ]
  },
  {
   "cell_type": "code",
   "execution_count": 68,
   "id": "cd0cabb9",
   "metadata": {},
   "outputs": [
    {
     "data": {
      "text/plain": [
       "1639335092416"
      ]
     },
     "execution_count": 68,
     "metadata": {},
     "output_type": "execute_result"
    }
   ],
   "source": [
    "id(lwdb)"
   ]
  },
  {
   "cell_type": "code",
   "execution_count": 69,
   "id": "3880b5a1",
   "metadata": {},
   "outputs": [
    {
     "data": {
      "text/plain": [
       "1639307072896"
      ]
     },
     "execution_count": 69,
     "metadata": {},
     "output_type": "execute_result"
    }
   ],
   "source": [
    "id(db)"
   ]
  },
  {
   "cell_type": "code",
   "execution_count": 72,
   "id": "a5fbf06a",
   "metadata": {},
   "outputs": [],
   "source": [
    "lwdb[2][0] = 34567"
   ]
  },
  {
   "cell_type": "code",
   "execution_count": 73,
   "id": "40c66beb",
   "metadata": {},
   "outputs": [
    {
     "data": {
      "text/plain": [
       "[1111, 'vimal', [34567, 11111]]"
      ]
     },
     "execution_count": 73,
     "metadata": {},
     "output_type": "execute_result"
    }
   ],
   "source": [
    "lwdb"
   ]
  },
  {
   "cell_type": "code",
   "execution_count": 74,
   "id": "388621a5",
   "metadata": {},
   "outputs": [
    {
     "data": {
      "text/plain": [
       "[1, 'vimal', [34567, 11111]]"
      ]
     },
     "execution_count": 74,
     "metadata": {},
     "output_type": "execute_result"
    }
   ],
   "source": [
    "db"
   ]
  },
  {
   "cell_type": "code",
   "execution_count": 75,
   "id": "f21c4ad5",
   "metadata": {},
   "outputs": [],
   "source": [
    "vimaldb = copy.deepcopy(db) "
   ]
  },
  {
   "cell_type": "code",
   "execution_count": 76,
   "id": "e693ee3a",
   "metadata": {},
   "outputs": [
    {
     "data": {
      "text/plain": [
       "[1, 'vimal', [34567, 11111]]"
      ]
     },
     "execution_count": 76,
     "metadata": {},
     "output_type": "execute_result"
    }
   ],
   "source": [
    "vimaldb"
   ]
  },
  {
   "cell_type": "code",
   "execution_count": 79,
   "id": "6307d301",
   "metadata": {},
   "outputs": [],
   "source": [
    "vimaldb[2][0] =66666"
   ]
  },
  {
   "cell_type": "code",
   "execution_count": 81,
   "id": "4de033ac",
   "metadata": {},
   "outputs": [
    {
     "data": {
      "text/plain": [
       "[1, 'vimal', [66666, 11111]]"
      ]
     },
     "execution_count": 81,
     "metadata": {},
     "output_type": "execute_result"
    }
   ],
   "source": [
    "vimaldb"
   ]
  },
  {
   "cell_type": "code",
   "execution_count": 82,
   "id": "1a4d2b38",
   "metadata": {},
   "outputs": [
    {
     "data": {
      "text/plain": [
       "[1, 'vimal', [34567, 11111]]"
      ]
     },
     "execution_count": 82,
     "metadata": {},
     "output_type": "execute_result"
    }
   ],
   "source": [
    "db"
   ]
  },
  {
   "cell_type": "code",
   "execution_count": 84,
   "id": "b1ed77f6",
   "metadata": {},
   "outputs": [
    {
     "name": "stdout",
     "output_type": "stream",
     "text": [
      "5\n",
      "11\n"
     ]
    }
   ],
   "source": [
    "x=5\n",
    "print (x)\n",
    "z=x+6\n",
    "print(z)"
   ]
  },
  {
   "cell_type": "code",
   "execution_count": 86,
   "id": "ac7d6280",
   "metadata": {},
   "outputs": [],
   "source": [
    "def lw():#function lw()   #in python we use def in place pf function and we dont put code in curly braces and we put colon \n",
    " x=5\n",
    " print (x)      #we use indentation in place of curly braces to represent a block of code\n",
    " z=x+6 \n",
    " print(z)\n"
   ]
  },
  {
   "cell_type": "code",
   "execution_count": 87,
   "id": "12c9e47f",
   "metadata": {},
   "outputs": [
    {
     "name": "stdout",
     "output_type": "stream",
     "text": [
      "5\n",
      "11\n"
     ]
    }
   ],
   "source": [
    "lw() #fun call"
   ]
  },
  {
   "cell_type": "code",
   "execution_count": 89,
   "id": "5bb89a36",
   "metadata": {},
   "outputs": [],
   "source": [
    "def my():\n",
    "    print(\"i m anjali\")  #equal intendation\n",
    "    print(\"hi\")"
   ]
  },
  {
   "cell_type": "code",
   "execution_count": 90,
   "id": "28f0211f",
   "metadata": {},
   "outputs": [
    {
     "data": {
      "text/plain": [
       "<function __main__.my()>"
      ]
     },
     "execution_count": 90,
     "metadata": {},
     "output_type": "execute_result"
    }
   ],
   "source": [
    "my   #address"
   ]
  },
  {
   "cell_type": "code",
   "execution_count": 91,
   "id": "41a9883e",
   "metadata": {},
   "outputs": [],
   "source": [
    "hello = my #fun is more like variables  so we assign"
   ]
  },
  {
   "cell_type": "code",
   "execution_count": 92,
   "id": "d859b561",
   "metadata": {},
   "outputs": [
    {
     "name": "stdout",
     "output_type": "stream",
     "text": [
      "i m anjali\n",
      "hi\n"
     ]
    }
   ],
   "source": [
    "my()"
   ]
  },
  {
   "cell_type": "code",
   "execution_count": 93,
   "id": "683cdea1",
   "metadata": {},
   "outputs": [
    {
     "name": "stdout",
     "output_type": "stream",
     "text": [
      "i m anjali\n",
      "hi\n"
     ]
    }
   ],
   "source": [
    "hello()"
   ]
  },
  {
   "cell_type": "code",
   "execution_count": 100,
   "id": "1fcfc50e",
   "metadata": {},
   "outputs": [],
   "source": [
    "def lw():\n",
    "    print(\"jack\") #fun is not giving data  or not returning so cant store in variable#print not give way to store variable so return"
   ]
  },
  {
   "cell_type": "code",
   "execution_count": 101,
   "id": "ba500a8a",
   "metadata": {},
   "outputs": [
    {
     "name": "stdout",
     "output_type": "stream",
     "text": [
      "jack\n"
     ]
    }
   ],
   "source": [
    "lw()"
   ]
  },
  {
   "cell_type": "code",
   "execution_count": 105,
   "id": "0b53b97e",
   "metadata": {},
   "outputs": [],
   "source": [
    "#i want to store output\n",
    "y = lw()"
   ]
  },
  {
   "cell_type": "code",
   "execution_count": 103,
   "id": "9b5c37e6",
   "metadata": {},
   "outputs": [],
   "source": [
    "y"
   ]
  },
  {
   "cell_type": "code",
   "execution_count": 104,
   "id": "c14dc2b7",
   "metadata": {},
   "outputs": [],
   "source": [
    "def lw():\n",
    "    return(\"jack\")"
   ]
  },
  {
   "cell_type": "code",
   "execution_count": 106,
   "id": "dbde3e99",
   "metadata": {},
   "outputs": [
    {
     "data": {
      "text/plain": [
       "'jack'"
      ]
     },
     "execution_count": 106,
     "metadata": {},
     "output_type": "execute_result"
    }
   ],
   "source": [
    "y"
   ]
  },
  {
   "cell_type": "code",
   "execution_count": 107,
   "id": "81f65f36",
   "metadata": {},
   "outputs": [],
   "source": [
    "def lw():\n",
    "    return(\"hello jack\") #hardcored"
   ]
  },
  {
   "cell_type": "code",
   "execution_count": 108,
   "id": "5b3ba42a",
   "metadata": {},
   "outputs": [
    {
     "data": {
      "text/plain": [
       "'jack'"
      ]
     },
     "execution_count": 108,
     "metadata": {},
     "output_type": "execute_result"
    }
   ],
   "source": [
    "y"
   ]
  },
  {
   "cell_type": "code",
   "execution_count": 109,
   "id": "c79f5056",
   "metadata": {},
   "outputs": [],
   "source": [
    "def lw(x):\n",
    "    return(\"hello jack\")"
   ]
  },
  {
   "cell_type": "code",
   "execution_count": 110,
   "id": "fb271dbb",
   "metadata": {},
   "outputs": [
    {
     "data": {
      "text/plain": [
       "'hello jack'"
      ]
     },
     "execution_count": 110,
     "metadata": {},
     "output_type": "execute_result"
    }
   ],
   "source": [
    "lw(\"pop\")"
   ]
  },
  {
   "cell_type": "code",
   "execution_count": 116,
   "id": "31cbd768",
   "metadata": {},
   "outputs": [],
   "source": [
    "y=5"
   ]
  },
  {
   "cell_type": "code",
   "execution_count": 112,
   "id": "9a80e6b1",
   "metadata": {},
   "outputs": [
    {
     "name": "stdout",
     "output_type": "stream",
     "text": [
      "hi y\n"
     ]
    }
   ],
   "source": [
    "print('hi y')"
   ]
  },
  {
   "cell_type": "code",
   "execution_count": 113,
   "id": "78d638dd",
   "metadata": {},
   "outputs": [
    {
     "name": "stdout",
     "output_type": "stream",
     "text": [
      "hi 5\n"
     ]
    }
   ],
   "source": [
    "print(\"hi\",y)"
   ]
  },
  {
   "cell_type": "code",
   "execution_count": 125,
   "id": "ad861fc7",
   "metadata": {},
   "outputs": [],
   "source": [
    "def mysum(x,y,z):   #xyz  arguments we have to pass #return k baad print not do anything before return print(\"hi\")\n",
    "    p=x+y+z\n",
    "    return p"
   ]
  },
  {
   "cell_type": "code",
   "execution_count": 126,
   "id": "8a9aac87",
   "metadata": {},
   "outputs": [],
   "source": [
    "h = mysum(1,2,3)"
   ]
  },
  {
   "cell_type": "code",
   "execution_count": 128,
   "id": "17b2760d",
   "metadata": {},
   "outputs": [
    {
     "data": {
      "text/plain": [
       "6"
      ]
     },
     "execution_count": 128,
     "metadata": {},
     "output_type": "execute_result"
    }
   ],
   "source": [
    "h"
   ]
  },
  {
   "cell_type": "code",
   "execution_count": 130,
   "id": "aa7fc574",
   "metadata": {},
   "outputs": [],
   "source": [
    "mob = [1111,2222,3333,4444]  #iteration pick one do smthng then till it finish"
   ]
  },
  {
   "cell_type": "code",
   "execution_count": 132,
   "id": "427de7c4",
   "metadata": {},
   "outputs": [
    {
     "name": "stdout",
     "output_type": "stream",
     "text": [
      "1111\n",
      "2222\n",
      "3333\n",
      "4444\n"
     ]
    }
   ],
   "source": [
    "for x in mob:\n",
    "  print(x)"
   ]
  },
  {
   "cell_type": "code",
   "execution_count": null,
   "id": "321b0da4",
   "metadata": {},
   "outputs": [],
   "source": []
  }
 ],
 "metadata": {
  "kernelspec": {
   "display_name": "Python 3 (ipykernel)",
   "language": "python",
   "name": "python3"
  },
  "language_info": {
   "codemirror_mode": {
    "name": "ipython",
    "version": 3
   },
   "file_extension": ".py",
   "mimetype": "text/x-python",
   "name": "python",
   "nbconvert_exporter": "python",
   "pygments_lexer": "ipython3",
   "version": "3.10.9"
  }
 },
 "nbformat": 4,
 "nbformat_minor": 5
}
