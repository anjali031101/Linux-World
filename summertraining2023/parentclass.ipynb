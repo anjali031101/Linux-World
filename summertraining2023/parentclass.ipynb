{
 "cells": [
  {
   "cell_type": "code",
   "execution_count": 2,
   "id": "9c19f9fc",
   "metadata": {},
   "outputs": [],
   "source": [
    "class JobForm:\n",
    "   name=None\n",
    "   mob=None\n",
    "   exp=None"
   ]
  },
  {
   "cell_type": "code",
   "execution_count": 3,
   "id": "9429a9ae",
   "metadata": {},
   "outputs": [],
   "source": [
    "class StudentForm:\n",
    "   name=None\n",
    "   mob=None\n",
    "   query=None"
   ]
  },
  {
   "cell_type": "code",
   "execution_count": 4,
   "id": "41581847",
   "metadata": {},
   "outputs": [],
   "source": [
    "class CommonForm: #parent class having two subclass here\n",
    "    name=None\n",
    "    mob=None"
   ]
  },
  {
   "cell_type": "code",
   "execution_count": 5,
   "id": "1deb12e3",
   "metadata": {},
   "outputs": [],
   "source": [
    "class JobForm(CommonForm): #subclass common info store once for saving memory and organise properly\n",
    "    exp=None"
   ]
  },
  {
   "cell_type": "code",
   "execution_count": 6,
   "id": "f316d9d6",
   "metadata": {},
   "outputs": [],
   "source": [
    "class StudentForm(CommonForm): #subclass or child class\n",
    "    query=None"
   ]
  },
  {
   "cell_type": "code",
   "execution_count": 15,
   "id": "285c0b82",
   "metadata": {},
   "outputs": [],
   "source": [
    "class CommonForm: \n",
    "    name=None\n",
    "    mob=None\n",
    "    #country\n",
    "    def my(self):        \n",
    "        print(\"i m parent\")\n",
    "        "
   ]
  },
  {
   "cell_type": "code",
   "execution_count": 16,
   "id": "9649fcc0",
   "metadata": {},
   "outputs": [],
   "source": [
    "class StudentForm(CommonForm): #subclass or child class\n",
    "    query=None"
   ]
  },
  {
   "cell_type": "code",
   "execution_count": 17,
   "id": "f568550f",
   "metadata": {},
   "outputs": [],
   "source": [
    "tom = StudentForm()   #object created or var"
   ]
  },
  {
   "cell_type": "code",
   "execution_count": 18,
   "id": "75ccb06a",
   "metadata": {},
   "outputs": [
    {
     "data": {
      "text/plain": [
       "['__class__',\n",
       " '__delattr__',\n",
       " '__dict__',\n",
       " '__dir__',\n",
       " '__doc__',\n",
       " '__eq__',\n",
       " '__format__',\n",
       " '__ge__',\n",
       " '__getattribute__',\n",
       " '__gt__',\n",
       " '__hash__',\n",
       " '__init__',\n",
       " '__init_subclass__',\n",
       " '__le__',\n",
       " '__lt__',\n",
       " '__module__',\n",
       " '__ne__',\n",
       " '__new__',\n",
       " '__reduce__',\n",
       " '__reduce_ex__',\n",
       " '__repr__',\n",
       " '__setattr__',\n",
       " '__sizeof__',\n",
       " '__str__',\n",
       " '__subclasshook__',\n",
       " '__weakref__',\n",
       " 'mob',\n",
       " 'my',\n",
       " 'name',\n",
       " 'query']"
      ]
     },
     "execution_count": 18,
     "metadata": {},
     "output_type": "execute_result"
    }
   ],
   "source": [
    "dir(tom)"
   ]
  },
  {
   "cell_type": "code",
   "execution_count": 19,
   "id": "76e89263",
   "metadata": {},
   "outputs": [
    {
     "name": "stdout",
     "output_type": "stream",
     "text": [
      "i m parent\n"
     ]
    }
   ],
   "source": [
    "tom.my()"
   ]
  },
  {
   "cell_type": "code",
   "execution_count": 20,
   "id": "4b8c1f38",
   "metadata": {},
   "outputs": [],
   "source": [
    "tom.query =\"QC course\""
   ]
  },
  {
   "cell_type": "code",
   "execution_count": 21,
   "id": "3c1b682e",
   "metadata": {},
   "outputs": [
    {
     "data": {
      "text/plain": [
       "{'query': 'QC course'}"
      ]
     },
     "execution_count": 21,
     "metadata": {},
     "output_type": "execute_result"
    }
   ],
   "source": [
    "tom.__dict__"
   ]
  },
  {
   "cell_type": "code",
   "execution_count": 22,
   "id": "677d47cd",
   "metadata": {},
   "outputs": [],
   "source": [
    "tom.name=\"tom k\""
   ]
  },
  {
   "cell_type": "code",
   "execution_count": 23,
   "id": "a7058fc3",
   "metadata": {},
   "outputs": [],
   "source": [
    "tom.mob=1234"
   ]
  },
  {
   "cell_type": "code",
   "execution_count": 28,
   "id": "acbf0d52",
   "metadata": {},
   "outputs": [],
   "source": [
    "class StudentForm(CommonForm): #subclass or child class\n",
    "    query=None\n",
    "    \n",
    "    def __init__(self,q,n,m):\n",
    "        self.query=q\n",
    "        self.name=n\n",
    "        self.mob=n"
   ]
  },
  {
   "cell_type": "code",
   "execution_count": 29,
   "id": "877697c1",
   "metadata": {},
   "outputs": [],
   "source": [
    "tom = StudentForm(\"QC corse\",\"tom k\",9999)"
   ]
  },
  {
   "cell_type": "code",
   "execution_count": 30,
   "id": "b2e3cc6e",
   "metadata": {},
   "outputs": [
    {
     "data": {
      "text/plain": [
       "{'query': 'QC corse', 'name': 'tom k', 'mob': 'tom k'}"
      ]
     },
     "execution_count": 30,
     "metadata": {},
     "output_type": "execute_result"
    }
   ],
   "source": [
    "tom.__dict__"
   ]
  },
  {
   "cell_type": "code",
   "execution_count": 32,
   "id": "33894196",
   "metadata": {},
   "outputs": [],
   "source": [
    "class StudentForm(CommonForm): #subclass or child class\n",
    "    query=None\n",
    "    \n",
    "    def __init__(self,q,n,m,c):#python is flexible so property can be created that is on the fly u can add not good for planning\n",
    "        self.query=q\n",
    "        self.name=n\n",
    "        self.mob=n\n",
    "        self.city=c"
   ]
  },
  {
   "cell_type": "code",
   "execution_count": 33,
   "id": "afac6649",
   "metadata": {},
   "outputs": [],
   "source": [
    "tom = StudentForm(\"QC corse\",\"tom k\",9999,\"jaipur\")    #positional argument passed or parameters"
   ]
  },
  {
   "cell_type": "code",
   "execution_count": 34,
   "id": "2ab380bd",
   "metadata": {},
   "outputs": [
    {
     "data": {
      "text/plain": [
       "{'query': 'QC corse', 'name': 'tom k', 'mob': 'tom k', 'city': 'jaipur'}"
      ]
     },
     "execution_count": 34,
     "metadata": {},
     "output_type": "execute_result"
    }
   ],
   "source": [
    "tom.__dict__"
   ]
  },
  {
   "cell_type": "code",
   "execution_count": 37,
   "id": "2b57bb0e",
   "metadata": {},
   "outputs": [],
   "source": [
    "class StudentForm(CommonForm):\n",
    "    query=None\n",
    "    \n",
    "    def __init__(self,myquery,myname,mymob  #,mycountry=\"India\"):  #india default parameter set \n",
    "                                                                    #if anyone want to change then can change\n",
    "        self.query=myquery\n",
    "        self.name=myname\n",
    "        self.mob=mymob\n",
    "        #self.country=mycountry"
   ]
  },
  {
   "cell_type": "code",
   "execution_count": 38,
   "id": "5026bb62",
   "metadata": {},
   "outputs": [],
   "source": [
    "rahul = StudentForm(\n",
    "                     myquery=\"Meta course\",      #named argument passed\n",
    "                     myname=\"rahul k\",\n",
    "                     mymob=\"8888\"\n",
    "                    )"
   ]
  },
  {
   "cell_type": "code",
   "execution_count": 40,
   "id": "f3b49ffc",
   "metadata": {},
   "outputs": [
    {
     "data": {
      "text/plain": [
       "{'query': 'Meta course', 'name': 'rahul k', 'mob': '8888'}"
      ]
     },
     "execution_count": 40,
     "metadata": {},
     "output_type": "execute_result"
    }
   ],
   "source": [
    "rahul.__dict__"
   ]
  },
  {
   "cell_type": "code",
   "execution_count": 42,
   "id": "c719bb49",
   "metadata": {},
   "outputs": [],
   "source": [
    "class CommonForm: \n",
    "    name=None\n",
    "    mob=None\n",
    "    country=None\n",
    "    def my(self):        \n",
    "        print(\"i m parent\")\n",
    "        "
   ]
  },
  {
   "cell_type": "code",
   "execution_count": 43,
   "id": "250c25ca",
   "metadata": {},
   "outputs": [],
   "source": [
    "class StudentForm(CommonForm):\n",
    "    query=None\n",
    "    \n",
    "    def __init__(self,myquery,myname,mymob,mycountry=\"India\"):  #india default parameter set \n",
    "                                                                    #if anyone want to change then can change\n",
    "        self.query=myquery\n",
    "        self.name=myname\n",
    "        self.mob=mymob\n",
    "        self.country=mycountry"
   ]
  },
  {
   "cell_type": "code",
   "execution_count": 44,
   "id": "d2ae4672",
   "metadata": {},
   "outputs": [],
   "source": [
    "rahul = StudentForm(\n",
    "                     myquery=\"Meta course\",   \n",
    "                     myname=\"rahul k\",\n",
    "                     mymob=\"8888\"\n",
    "                    )"
   ]
  },
  {
   "cell_type": "code",
   "execution_count": 45,
   "id": "42f6893f",
   "metadata": {},
   "outputs": [
    {
     "data": {
      "text/plain": [
       "{'query': 'Meta course', 'name': 'rahul k', 'mob': '8888', 'country': 'India'}"
      ]
     },
     "execution_count": 45,
     "metadata": {},
     "output_type": "execute_result"
    }
   ],
   "source": [
    "rahul.__dict__                                   #country by default printed"
   ]
  },
  {
   "cell_type": "code",
   "execution_count": 47,
   "id": "497bc1c4",
   "metadata": {},
   "outputs": [],
   "source": [
    "rahul = StudentForm(\n",
    "                     myquery=\"Meta course\",                #wanna change default name of country so can change\n",
    "                     myname=\"rahul k\",\n",
    "                     mymob=\"8888\",\n",
    "                     mycountry=\"US\"\n",
    "                    )"
   ]
  },
  {
   "cell_type": "code",
   "execution_count": 49,
   "id": "812f189d",
   "metadata": {},
   "outputs": [
    {
     "data": {
      "text/plain": [
       "{'query': 'Meta course', 'name': 'rahul k', 'mob': '8888', 'country': 'US'}"
      ]
     },
     "execution_count": 49,
     "metadata": {},
     "output_type": "execute_result"
    }
   ],
   "source": [
    "rahul.__dict__                                 "
   ]
  },
  {
   "cell_type": "code",
   "execution_count": 52,
   "id": "c3872a0e",
   "metadata": {},
   "outputs": [],
   "source": [
    "#python is flexible but this is the right way of code\n",
    "#right practice\n",
    "class CommonForm: \n",
    "    name=None\n",
    "    mob=None\n",
    "    \n",
    "    def __init__(self,n,m,c):\n",
    "        self.name=n\n",
    "        self.mob=m\n",
    "        self.country=c\n",
    "        \n",
    "    def my(self):        \n",
    "        print(\"i m parent\")\n",
    "        "
   ]
  },
  {
   "cell_type": "code",
   "execution_count": 53,
   "id": "ee598cea",
   "metadata": {},
   "outputs": [],
   "source": [
    "#func call which is in parent class\n",
    "class StudentForm(CommonForm):    #extended from common form #parent data will sent to super\n",
    "    query=None\n",
    "    \n",
    "    def __init__(self,myquery,myname,mymob,mycountry=\"India\"):  \n",
    "                                                                    \n",
    "        self.query=myquery\n",
    "        super().__init__ (myname,mymob,mycountry)     #super().my()     \n",
    "        #parent should only set name jha bnaya h wahi set krega we are setting thru constructor\n",
    "        "
   ]
  },
  {
   "cell_type": "code",
   "execution_count": 54,
   "id": "e0b54292",
   "metadata": {},
   "outputs": [],
   "source": [
    "tom = StudentForm(\"QC corse\",\"tom k\",9999,\"India\")"
   ]
  },
  {
   "cell_type": "code",
   "execution_count": 56,
   "id": "8e961ece",
   "metadata": {},
   "outputs": [
    {
     "data": {
      "text/plain": [
       "{'query': 'QC corse', 'name': 'tom k', 'mob': 9999, 'country': 'India'}"
      ]
     },
     "execution_count": 56,
     "metadata": {},
     "output_type": "execute_result"
    }
   ],
   "source": [
    "tom.__dict__"
   ]
  },
  {
   "cell_type": "code",
   "execution_count": 57,
   "id": "877e5ae0",
   "metadata": {},
   "outputs": [],
   "source": [
    "#func call which is in parent class\n",
    "class StudentForm(CommonForm):    #extended from common form #parent data will sent to super\n",
    "    query=None\n",
    "    \n",
    "    def __init__(self,myquery,myname,mymob,mycountry=\"India\"):  #constructor of parent class created\n",
    "                                                                    \n",
    "        self.query=myquery\n",
    "        super().__init__ (myname,mymob,mycountry)     \n",
    "        super().my()     \n",
    "        \n",
    "        "
   ]
  },
  {
   "cell_type": "code",
   "execution_count": 58,
   "id": "d13bdb0e",
   "metadata": {},
   "outputs": [
    {
     "name": "stdout",
     "output_type": "stream",
     "text": [
      "i m parent\n"
     ]
    }
   ],
   "source": [
    "tom = StudentForm(\"QC corse\",\"tom k\",9999,\"India\")"
   ]
  },
  {
   "cell_type": "code",
   "execution_count": 59,
   "id": "412b7e63",
   "metadata": {},
   "outputs": [
    {
     "data": {
      "text/plain": [
       "{'query': 'QC corse', 'name': 'tom k', 'mob': 9999, 'country': 'India'}"
      ]
     },
     "execution_count": 59,
     "metadata": {},
     "output_type": "execute_result"
    }
   ],
   "source": [
    "tom.__dict__"
   ]
  },
  {
   "cell_type": "code",
   "execution_count": null,
   "id": "1d769662",
   "metadata": {},
   "outputs": [],
   "source": []
  }
 ],
 "metadata": {
  "kernelspec": {
   "display_name": "Python 3 (ipykernel)",
   "language": "python",
   "name": "python3"
  },
  "language_info": {
   "codemirror_mode": {
    "name": "ipython",
    "version": 3
   },
   "file_extension": ".py",
   "mimetype": "text/x-python",
   "name": "python",
   "nbconvert_exporter": "python",
   "pygments_lexer": "ipython3",
   "version": "3.10.9"
  }
 },
 "nbformat": 4,
 "nbformat_minor": 5
}
