{
 "cells": [
  {
   "cell_type": "code",
   "execution_count": 1,
   "id": "3b119477",
   "metadata": {},
   "outputs": [],
   "source": [
    "#cpu should run parallely  a b threading both func should run parallel"
   ]
  },
  {
   "cell_type": "code",
   "execution_count": null,
   "id": "2cfae60b",
   "metadata": {},
   "outputs": [],
   "source": []
  }
 ],
 "metadata": {
  "kernelspec": {
   "display_name": "Python 3 (ipykernel)",
   "language": "python",
   "name": "python3"
  },
  "language_info": {
   "codemirror_mode": {
    "name": "ipython",
    "version": 3
   },
   "file_extension": ".py",
   "mimetype": "text/x-python",
   "name": "python",
   "nbconvert_exporter": "python",
   "pygments_lexer": "ipython3",
   "version": "3.10.9"
  }
 },
 "nbformat": 4,
 "nbformat_minor": 5
}
