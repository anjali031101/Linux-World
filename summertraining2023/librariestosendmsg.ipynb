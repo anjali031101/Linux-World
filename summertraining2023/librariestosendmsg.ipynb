{
 "cells": [
  {
   "cell_type": "code",
   "execution_count": 3,
   "id": "d5d709a0",
   "metadata": {},
   "outputs": [],
   "source": [
    "import pywhatkit"
   ]
  },
  {
   "cell_type": "code",
   "execution_count": 4,
   "id": "2c7ce93e",
   "metadata": {},
   "outputs": [
    {
     "name": "stdout",
     "output_type": "stream",
     "text": [
      "In 4 Seconds WhatsApp will open and after 15 Seconds Message will be Delivered!\n"
     ]
    }
   ],
   "source": [
    "pywhatkit.sendwhatmsg(\"+917597541721\",\"you are a bitch\",9,22)"
   ]
  },
  {
   "cell_type": "code",
   "execution_count": 6,
   "id": "6ce742bd",
   "metadata": {},
   "outputs": [
    {
     "name": "stdout",
     "output_type": "stream",
     "text": [
      "In 35 Seconds WhatsApp will open and after 15 Seconds Message will be Delivered!\n"
     ]
    }
   ],
   "source": [
    "pywhatkit.sendwhatmsg(\"+917597541721\",\"khushi is a beautiful soul but shagun u are cute\",9,34)"
   ]
  }
 ],
 "metadata": {
  "kernelspec": {
   "display_name": "Python 3 (ipykernel)",
   "language": "python",
   "name": "python3"
  },
  "language_info": {
   "codemirror_mode": {
    "name": "ipython",
    "version": 3
   },
   "file_extension": ".py",
   "mimetype": "text/x-python",
   "name": "python",
   "nbconvert_exporter": "python",
   "pygments_lexer": "ipython3",
   "version": "3.10.9"
  }
 },
 "nbformat": 4,
 "nbformat_minor": 5
}
