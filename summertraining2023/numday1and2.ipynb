{
 "cells": [
  {
   "cell_type": "code",
   "execution_count": 1,
   "id": "895966cb",
   "metadata": {},
   "outputs": [
    {
     "ename": "NameError",
     "evalue": "name 'student' is not defined",
     "output_type": "error",
     "traceback": [
      "\u001b[1;31m---------------------------------------------------------------------------\u001b[0m",
      "\u001b[1;31mNameError\u001b[0m                                 Traceback (most recent call last)",
      "Cell \u001b[1;32mIn[1], line 1\u001b[0m\n\u001b[1;32m----> 1\u001b[0m \u001b[43mstudent\u001b[49m[\u001b[38;5;124m\"\u001b[39m\u001b[38;5;124mvimal\u001b[39m\u001b[38;5;124m\"\u001b[39m,\u001b[38;5;124m\"\u001b[39m\u001b[38;5;124mjack\u001b[39m\u001b[38;5;124m\"\u001b[39m,\u001b[38;5;124m\"\u001b[39m\u001b[38;5;124meric\u001b[39m\u001b[38;5;124m\"\u001b[39m,\u001b[38;5;124m\"\u001b[39m\u001b[38;5;124mtom\u001b[39m\u001b[38;5;124m\"\u001b[39m]\n",
      "\u001b[1;31mNameError\u001b[0m: name 'student' is not defined"
     ]
    }
   ],
   "source": [
    "student[\"vimal\",\"jack\",\"eric\",\"tom\"]\n"
   ]
  },
  {
   "cell_type": "code",
   "execution_count": 2,
   "id": "1a1fb455",
   "metadata": {},
   "outputs": [],
   "source": [
    "student = [\"vimal\",\"jack\",\"eric\",\"tom\"]"
   ]
  },
  {
   "cell_type": "code",
   "execution_count": 3,
   "id": "16dd7102",
   "metadata": {},
   "outputs": [
    {
     "data": {
      "text/plain": [
       "['vimal', 'jack', 'eric', 'tom']"
      ]
     },
     "execution_count": 3,
     "metadata": {},
     "output_type": "execute_result"
    }
   ],
   "source": [
    "student"
   ]
  },
  {
   "cell_type": "code",
   "execution_count": 4,
   "id": "82b7c588",
   "metadata": {},
   "outputs": [],
   "source": [
    "student = [\n",
    "           [\"vimal\",1111,\"ok\"],\n",
    "           [\"jack\",2222,\"good\"],\n",
    "           [\"eric\",3333,\"vgood\"],\n",
    "           [\"tom\",4444,\"ok\"]\n",
    "          ]"
   ]
  },
  {
   "cell_type": "code",
   "execution_count": 5,
   "id": "770d46a4",
   "metadata": {},
   "outputs": [
    {
     "data": {
      "text/plain": [
       "[['vimal', 1111, 'ok'],\n",
       " ['jack', 2222, 'good'],\n",
       " ['eric', 3333, 'vgood'],\n",
       " ['tom', 4444, 'ok']]"
      ]
     },
     "execution_count": 5,
     "metadata": {},
     "output_type": "execute_result"
    }
   ],
   "source": [
    "student"
   ]
  },
  {
   "cell_type": "code",
   "execution_count": 6,
   "id": "ee70c46c",
   "metadata": {},
   "outputs": [
    {
     "data": {
      "text/plain": [
       "list"
      ]
     },
     "execution_count": 6,
     "metadata": {},
     "output_type": "execute_result"
    }
   ],
   "source": [
    "type(student)"
   ]
  },
  {
   "cell_type": "code",
   "execution_count": 7,
   "id": "2b054f9e",
   "metadata": {},
   "outputs": [
    {
     "data": {
      "text/plain": [
       "4"
      ]
     },
     "execution_count": 7,
     "metadata": {},
     "output_type": "execute_result"
    }
   ],
   "source": [
    "len(student)"
   ]
  },
  {
   "cell_type": "code",
   "execution_count": 8,
   "id": "e53f145c",
   "metadata": {},
   "outputs": [
    {
     "data": {
      "text/plain": [
       "['eric', 3333, 'vgood']"
      ]
     },
     "execution_count": 8,
     "metadata": {},
     "output_type": "execute_result"
    }
   ],
   "source": [
    "student[2]"
   ]
  },
  {
   "cell_type": "code",
   "execution_count": 9,
   "id": "ae36b481",
   "metadata": {},
   "outputs": [
    {
     "data": {
      "text/plain": [
       "3333"
      ]
     },
     "execution_count": 9,
     "metadata": {},
     "output_type": "execute_result"
    }
   ],
   "source": [
    "student[2][1]"
   ]
  },
  {
   "cell_type": "code",
   "execution_count": 10,
   "id": "8e72a99a",
   "metadata": {},
   "outputs": [
    {
     "data": {
      "text/plain": [
       "[['jack', 2222, 'good'], ['eric', 3333, 'vgood'], ['tom', 4444, 'ok']]"
      ]
     },
     "execution_count": 10,
     "metadata": {},
     "output_type": "execute_result"
    }
   ],
   "source": [
    "student[1:4]"
   ]
  },
  {
   "cell_type": "code",
   "execution_count": 11,
   "id": "183c0bd1",
   "metadata": {},
   "outputs": [],
   "source": [
    "import  numpy"
   ]
  },
  {
   "cell_type": "code",
   "execution_count": 12,
   "id": "89ad7273",
   "metadata": {},
   "outputs": [],
   "source": [
    "b = numpy.array(student)"
   ]
  },
  {
   "cell_type": "code",
   "execution_count": 13,
   "id": "b16e83dd",
   "metadata": {},
   "outputs": [
    {
     "data": {
      "text/plain": [
       "numpy.ndarray"
      ]
     },
     "execution_count": 13,
     "metadata": {},
     "output_type": "execute_result"
    }
   ],
   "source": [
    "type(b)"
   ]
  },
  {
   "cell_type": "code",
   "execution_count": 14,
   "id": "e92834bc",
   "metadata": {},
   "outputs": [
    {
     "data": {
      "text/plain": [
       "array([['vimal', '1111', 'ok'],\n",
       "       ['jack', '2222', 'good'],\n",
       "       ['eric', '3333', 'vgood'],\n",
       "       ['tom', '4444', 'ok']], dtype='<U11')"
      ]
     },
     "execution_count": 14,
     "metadata": {},
     "output_type": "execute_result"
    }
   ],
   "source": [
    "b"
   ]
  },
  {
   "cell_type": "code",
   "execution_count": 15,
   "id": "596f2c78",
   "metadata": {},
   "outputs": [
    {
     "data": {
      "text/plain": [
       "2"
      ]
     },
     "execution_count": 15,
     "metadata": {},
     "output_type": "execute_result"
    }
   ],
   "source": [
    "b.ndim"
   ]
  },
  {
   "cell_type": "code",
   "execution_count": 16,
   "id": "f164b160",
   "metadata": {},
   "outputs": [
    {
     "data": {
      "text/plain": [
       "(4, 3)"
      ]
     },
     "execution_count": 16,
     "metadata": {},
     "output_type": "execute_result"
    }
   ],
   "source": [
    "b.shape"
   ]
  },
  {
   "cell_type": "code",
   "execution_count": 17,
   "id": "fb941bc0",
   "metadata": {},
   "outputs": [
    {
     "data": {
      "text/plain": [
       "array(['jack', '2222', 'good'], dtype='<U11')"
      ]
     },
     "execution_count": 17,
     "metadata": {},
     "output_type": "execute_result"
    }
   ],
   "source": [
    "b[1]"
   ]
  },
  {
   "cell_type": "code",
   "execution_count": 18,
   "id": "09a234d5",
   "metadata": {},
   "outputs": [
    {
     "data": {
      "text/plain": [
       "array([['vimal', '1111', 'ok'],\n",
       "       ['jack', '2222', 'good'],\n",
       "       ['eric', '3333', 'vgood'],\n",
       "       ['tom', '4444', 'ok']], dtype='<U11')"
      ]
     },
     "execution_count": 18,
     "metadata": {},
     "output_type": "execute_result"
    }
   ],
   "source": [
    "b[:]"
   ]
  },
  {
   "cell_type": "code",
   "execution_count": null,
   "id": "e78e28ca",
   "metadata": {},
   "outputs": [],
   "source": []
  },
  {
   "cell_type": "code",
   "execution_count": 19,
   "id": "bfe3f8dd",
   "metadata": {},
   "outputs": [
    {
     "data": {
      "text/plain": [
       "array(['1111', '2222', '3333', '4444'], dtype='<U11')"
      ]
     },
     "execution_count": 19,
     "metadata": {},
     "output_type": "execute_result"
    }
   ],
   "source": [
    "b[:,1]"
   ]
  },
  {
   "cell_type": "code",
   "execution_count": 20,
   "id": "9cc80f31",
   "metadata": {},
   "outputs": [
    {
     "data": {
      "text/plain": [
       "array(['ok', 'good', 'vgood', 'ok'], dtype='<U11')"
      ]
     },
     "execution_count": 20,
     "metadata": {},
     "output_type": "execute_result"
    }
   ],
   "source": [
    "b[:,2]"
   ]
  },
  {
   "cell_type": "code",
   "execution_count": 21,
   "id": "6583973a",
   "metadata": {},
   "outputs": [
    {
     "data": {
      "text/plain": [
       "array([['1111', 'ok'],\n",
       "       ['2222', 'good'],\n",
       "       ['3333', 'vgood'],\n",
       "       ['4444', 'ok']], dtype='<U11')"
      ]
     },
     "execution_count": 21,
     "metadata": {},
     "output_type": "execute_result"
    }
   ],
   "source": [
    "b[:,1:3]"
   ]
  },
  {
   "cell_type": "code",
   "execution_count": 22,
   "id": "3c1b930c",
   "metadata": {},
   "outputs": [
    {
     "data": {
      "text/plain": [
       "array([['2222', 'good'],\n",
       "       ['3333', 'vgood']], dtype='<U11')"
      ]
     },
     "execution_count": 22,
     "metadata": {},
     "output_type": "execute_result"
    }
   ],
   "source": [
    "b[1:3,1:3]"
   ]
  },
  {
   "cell_type": "code",
   "execution_count": 26,
   "id": "dce74475",
   "metadata": {},
   "outputs": [],
   "source": [
    "db = numpy.array(['raghav','shagun','khushi','anjali','jatin','jyoti'])"
   ]
  },
  {
   "cell_type": "code",
   "execution_count": 24,
   "id": "015fe1a4",
   "metadata": {},
   "outputs": [
    {
     "data": {
      "text/plain": [
       "(5,)"
      ]
     },
     "execution_count": 24,
     "metadata": {},
     "output_type": "execute_result"
    }
   ],
   "source": [
    "db.shape"
   ]
  },
  {
   "cell_type": "code",
   "execution_count": 25,
   "id": "5c4b17d7",
   "metadata": {},
   "outputs": [
    {
     "data": {
      "text/plain": [
       "array(['raghav', 'shagun', 'khushi', 'anjali', 'jatin  '], dtype='<U7')"
      ]
     },
     "execution_count": 25,
     "metadata": {},
     "output_type": "execute_result"
    }
   ],
   "source": [
    "db"
   ]
  },
  {
   "cell_type": "code",
   "execution_count": 27,
   "id": "c40a5d35",
   "metadata": {},
   "outputs": [
    {
     "data": {
      "text/plain": [
       "array(['raghav', 'shagun', 'khushi', 'anjali', 'jatin', 'jyoti'],\n",
       "      dtype='<U6')"
      ]
     },
     "execution_count": 27,
     "metadata": {},
     "output_type": "execute_result"
    }
   ],
   "source": [
    "db"
   ]
  },
  {
   "cell_type": "code",
   "execution_count": 28,
   "id": "1a56538d",
   "metadata": {},
   "outputs": [
    {
     "data": {
      "text/plain": [
       "array([['raghav', 'shagun'],\n",
       "       ['khushi', 'anjali'],\n",
       "       ['jatin', 'jyoti']], dtype='<U6')"
      ]
     },
     "execution_count": 28,
     "metadata": {},
     "output_type": "execute_result"
    }
   ],
   "source": [
    "db.reshape(3,2)"
   ]
  },
  {
   "cell_type": "code",
   "execution_count": 29,
   "id": "8d6ef6df",
   "metadata": {},
   "outputs": [],
   "source": [
    "myteam = db.reshape(3,2)"
   ]
  },
  {
   "cell_type": "code",
   "execution_count": 30,
   "id": "1656dc26",
   "metadata": {},
   "outputs": [
    {
     "data": {
      "text/plain": [
       "array([['raghav', 'shagun'],\n",
       "       ['khushi', 'anjali'],\n",
       "       ['jatin', 'jyoti']], dtype='<U6')"
      ]
     },
     "execution_count": 30,
     "metadata": {},
     "output_type": "execute_result"
    }
   ],
   "source": [
    "myteam"
   ]
  },
  {
   "cell_type": "code",
   "execution_count": 31,
   "id": "377c2ec1",
   "metadata": {},
   "outputs": [
    {
     "data": {
      "text/plain": [
       "2"
      ]
     },
     "execution_count": 31,
     "metadata": {},
     "output_type": "execute_result"
    }
   ],
   "source": [
    "myteam.ndim"
   ]
  },
  {
   "cell_type": "code",
   "execution_count": 32,
   "id": "4258f574",
   "metadata": {},
   "outputs": [],
   "source": [
    "myteam2=numpy.append(myteam[0],'liza')"
   ]
  },
  {
   "cell_type": "code",
   "execution_count": 33,
   "id": "6665b513",
   "metadata": {},
   "outputs": [
    {
     "data": {
      "text/plain": [
       "array(['raghav', 'shagun', 'liza'], dtype='<U6')"
      ]
     },
     "execution_count": 33,
     "metadata": {},
     "output_type": "execute_result"
    }
   ],
   "source": [
    "myteam2"
   ]
  },
  {
   "cell_type": "code",
   "execution_count": 34,
   "id": "561542fd",
   "metadata": {},
   "outputs": [
    {
     "data": {
      "text/plain": [
       "array(['raghav', 'shagun', 'khushi', 'anjali', 'jatin', 'jyoti'],\n",
       "      dtype='<U6')"
      ]
     },
     "execution_count": 34,
     "metadata": {},
     "output_type": "execute_result"
    }
   ],
   "source": [
    "myteam.flatten()"
   ]
  },
  {
   "cell_type": "code",
   "execution_count": 35,
   "id": "5fdec62f",
   "metadata": {},
   "outputs": [
    {
     "data": {
      "text/plain": [
       "1"
      ]
     },
     "execution_count": 35,
     "metadata": {},
     "output_type": "execute_result"
    }
   ],
   "source": [
    "myteam.flatten().ndim"
   ]
  },
  {
   "cell_type": "code",
   "execution_count": 36,
   "id": "a11858af",
   "metadata": {},
   "outputs": [],
   "source": [
    "score = numpy.array([23,45,67,21,8,9,34])"
   ]
  },
  {
   "cell_type": "code",
   "execution_count": 37,
   "id": "f270bf8f",
   "metadata": {},
   "outputs": [
    {
     "data": {
      "text/plain": [
       "array([False,  True,  True, False, False, False,  True])"
      ]
     },
     "execution_count": 37,
     "metadata": {},
     "output_type": "execute_result"
    }
   ],
   "source": [
    "score>30"
   ]
  },
  {
   "cell_type": "code",
   "execution_count": 38,
   "id": "34dd469c",
   "metadata": {},
   "outputs": [],
   "source": [
    "x=5"
   ]
  },
  {
   "cell_type": "code",
   "execution_count": 39,
   "id": "94dd833f",
   "metadata": {},
   "outputs": [],
   "source": [
    "y=5"
   ]
  },
  {
   "cell_type": "code",
   "execution_count": 40,
   "id": "44b9d4af",
   "metadata": {},
   "outputs": [
    {
     "data": {
      "text/plain": [
       "1518640890224"
      ]
     },
     "execution_count": 40,
     "metadata": {},
     "output_type": "execute_result"
    }
   ],
   "source": [
    "id(x)"
   ]
  },
  {
   "cell_type": "code",
   "execution_count": 41,
   "id": "c0480326",
   "metadata": {},
   "outputs": [
    {
     "data": {
      "text/plain": [
       "1518640890224"
      ]
     },
     "execution_count": 41,
     "metadata": {},
     "output_type": "execute_result"
    }
   ],
   "source": [
    "id(y)"
   ]
  },
  {
   "cell_type": "code",
   "execution_count": null,
   "id": "e71087b9",
   "metadata": {},
   "outputs": [],
   "source": [
    " "
   ]
  }
 ],
 "metadata": {
  "kernelspec": {
   "display_name": "Python 3 (ipykernel)",
   "language": "python",
   "name": "python3"
  },
  "language_info": {
   "codemirror_mode": {
    "name": "ipython",
    "version": 3
   },
   "file_extension": ".py",
   "mimetype": "text/x-python",
   "name": "python",
   "nbconvert_exporter": "python",
   "pygments_lexer": "ipython3",
   "version": "3.10.9"
  }
 },
 "nbformat": 4,
 "nbformat_minor": 5
}
