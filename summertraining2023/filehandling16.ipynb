{
 "cells": [
  {
   "cell_type": "code",
   "execution_count": 32,
   "id": "888db650",
   "metadata": {},
   "outputs": [],
   "source": [
    "myfile = open(\"hella.txt\", mode='r')"
   ]
  },
  {
   "cell_type": "code",
   "execution_count": 33,
   "id": "3ae78bb0",
   "metadata": {},
   "outputs": [
    {
     "data": {
      "text/plain": [
       "<_io.TextIOWrapper name='hella.txt' mode='r' encoding='cp1252'>"
      ]
     },
     "execution_count": 33,
     "metadata": {},
     "output_type": "execute_result"
    }
   ],
   "source": [
    "myfile"
   ]
  },
  {
   "cell_type": "code",
   "execution_count": 34,
   "id": "7faabe10",
   "metadata": {},
   "outputs": [],
   "source": [
    "data = myfile.read()"
   ]
  },
  {
   "cell_type": "code",
   "execution_count": 35,
   "id": "7d71c769",
   "metadata": {},
   "outputs": [
    {
     "data": {
      "text/plain": [
       "'hi hello\\njjgghftrd\\nmkjhug\\njuguyt\\ncsrsd\\nmkjiu\\n'"
      ]
     },
     "execution_count": 35,
     "metadata": {},
     "output_type": "execute_result"
    }
   ],
   "source": [
    "data"
   ]
  },
  {
   "cell_type": "code",
   "execution_count": 36,
   "id": "35790619",
   "metadata": {},
   "outputs": [
    {
     "data": {
      "text/plain": [
       "51"
      ]
     },
     "execution_count": 36,
     "metadata": {},
     "output_type": "execute_result"
    }
   ],
   "source": [
    "myfile.tell()"
   ]
  },
  {
   "cell_type": "code",
   "execution_count": 15,
   "id": "50bb9919",
   "metadata": {},
   "outputs": [
    {
     "data": {
      "text/plain": [
       "''"
      ]
     },
     "execution_count": 15,
     "metadata": {},
     "output_type": "execute_result"
    }
   ],
   "source": [
    "myfile.read(4)"
   ]
  },
  {
   "cell_type": "code",
   "execution_count": 5,
   "id": "77e8da4c",
   "metadata": {},
   "outputs": [],
   "source": [
    "myfile1 = open(\"hella.txt\", mode='r') #myfile1 var store address of file, file will have last add of var"
   ]
  },
  {
   "cell_type": "code",
   "execution_count": 9,
   "id": "2be8a83c",
   "metadata": {},
   "outputs": [
    {
     "data": {
      "text/plain": [
       "51"
      ]
     },
     "execution_count": 9,
     "metadata": {},
     "output_type": "execute_result"
    }
   ],
   "source": [
    "myfile1.tell()"
   ]
  },
  {
   "cell_type": "code",
   "execution_count": 41,
   "id": "6b17575d",
   "metadata": {},
   "outputs": [
    {
     "data": {
      "text/plain": [
       "''"
      ]
     },
     "execution_count": 41,
     "metadata": {},
     "output_type": "execute_result"
    }
   ],
   "source": [
    "myfile.read(4)"
   ]
  },
  {
   "cell_type": "code",
   "execution_count": 46,
   "id": "47b1533c",
   "metadata": {},
   "outputs": [
    {
     "data": {
      "text/plain": [
       "51"
      ]
     },
     "execution_count": 46,
     "metadata": {},
     "output_type": "execute_result"
    }
   ],
   "source": [
    "myfile.tell() #myfile1.close()"
   ]
  },
  {
   "cell_type": "code",
   "execution_count": 18,
   "id": "e66a8a1f",
   "metadata": {},
   "outputs": [
    {
     "ename": "ValueError",
     "evalue": "I/O operation on closed file.",
     "output_type": "error",
     "traceback": [
      "\u001b[1;31m---------------------------------------------------------------------------\u001b[0m",
      "\u001b[1;31mValueError\u001b[0m                                Traceback (most recent call last)",
      "Cell \u001b[1;32mIn[18], line 1\u001b[0m\n\u001b[1;32m----> 1\u001b[0m \u001b[43mmyfile1\u001b[49m\u001b[38;5;241;43m.\u001b[39;49m\u001b[43mread\u001b[49m\u001b[43m(\u001b[49m\u001b[43m)\u001b[49m\n",
      "\u001b[1;31mValueError\u001b[0m: I/O operation on closed file."
     ]
    }
   ],
   "source": [
    "myfile1.read()"
   ]
  },
  {
   "cell_type": "code",
   "execution_count": 6,
   "id": "57773b68",
   "metadata": {},
   "outputs": [
    {
     "data": {
      "text/plain": [
       "'hi hello\\njjgghftrd\\nmkjhug\\njuguyt\\ncsrsd\\nmkjiu\\n'"
      ]
     },
     "execution_count": 6,
     "metadata": {},
     "output_type": "execute_result"
    }
   ],
   "source": [
    "myfile1.read()  #in hard disk it stores like a string \\n end of line char"
   ]
  },
  {
   "cell_type": "code",
   "execution_count": 7,
   "id": "f5f634e9",
   "metadata": {},
   "outputs": [
    {
     "name": "stdout",
     "output_type": "stream",
     "text": [
      "hi hello\n",
      "jjgghftrd\n",
      "mkjhug\n",
      "juguyt\n",
      "csrsd\n",
      "mkjiu\n",
      "\n"
     ]
    }
   ],
   "source": [
    "print(data)"
   ]
  },
  {
   "cell_type": "code",
   "execution_count": 40,
   "id": "52cb6131",
   "metadata": {},
   "outputs": [
    {
     "ename": "SyntaxError",
     "evalue": "invalid syntax (1893091294.py, line 1)",
     "output_type": "error",
     "traceback": [
      "\u001b[1;36m  Cell \u001b[1;32mIn[40], line 1\u001b[1;36m\u001b[0m\n\u001b[1;33m    myfile1.read() end of file reached so it will not open so perform seek operation seek go back\u001b[0m\n\u001b[1;37m                   ^\u001b[0m\n\u001b[1;31mSyntaxError\u001b[0m\u001b[1;31m:\u001b[0m invalid syntax\n"
     ]
    }
   ],
   "source": [
    "myfile1.read() end of file reached so it will not open so perform seek operation seek go back"
   ]
  },
  {
   "cell_type": "code",
   "execution_count": null,
   "id": "b55641bf",
   "metadata": {},
   "outputs": [],
   "source": []
  }
 ],
 "metadata": {
  "kernelspec": {
   "display_name": "Python 3 (ipykernel)",
   "language": "python",
   "name": "python3"
  },
  "language_info": {
   "codemirror_mode": {
    "name": "ipython",
    "version": 3
   },
   "file_extension": ".py",
   "mimetype": "text/x-python",
   "name": "python",
   "nbconvert_exporter": "python",
   "pygments_lexer": "ipython3",
   "version": "3.10.9"
  }
 },
 "nbformat": 4,
 "nbformat_minor": 5
}
