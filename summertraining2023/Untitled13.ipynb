{
 "cells": [
  {
   "cell_type": "code",
   "execution_count": 1,
   "id": "9ee41bb0",
   "metadata": {},
   "outputs": [],
   "source": [
    "a= [1,2,3]"
   ]
  },
  {
   "cell_type": "code",
   "execution_count": 3,
   "id": "35a5bbaf",
   "metadata": {},
   "outputs": [
    {
     "name": "stdout",
     "output_type": "stream",
     "text": [
      "1\n",
      "2\n",
      "3\n"
     ]
    }
   ],
   "source": [
    "for i in a:\n",
    "    print(i)"
   ]
  },
  {
   "cell_type": "code",
   "execution_count": 5,
   "id": "57a4aa3d",
   "metadata": {},
   "outputs": [
    {
     "data": {
      "text/plain": [
       "[10,\n",
       " 11,\n",
       " 12,\n",
       " 13,\n",
       " 14,\n",
       " 15,\n",
       " 16,\n",
       " 17,\n",
       " 18,\n",
       " 19,\n",
       " 20,\n",
       " 21,\n",
       " 22,\n",
       " 23,\n",
       " 24,\n",
       " 25,\n",
       " 26,\n",
       " 27,\n",
       " 28,\n",
       " 29,\n",
       " 30,\n",
       " 31,\n",
       " 32,\n",
       " 33,\n",
       " 34,\n",
       " 35,\n",
       " 36,\n",
       " 37,\n",
       " 38,\n",
       " 39,\n",
       " 40,\n",
       " 41,\n",
       " 42,\n",
       " 43,\n",
       " 44,\n",
       " 45,\n",
       " 46,\n",
       " 47,\n",
       " 48,\n",
       " 49]"
      ]
     },
     "execution_count": 5,
     "metadata": {},
     "output_type": "execute_result"
    }
   ],
   "source": [
    "list(range(10,50)) #lowerbound or lowerlimit and upperbound"
   ]
  },
  {
   "cell_type": "code",
   "execution_count": 6,
   "id": "ec127ee0",
   "metadata": {},
   "outputs": [
    {
     "data": {
      "text/plain": [
       "[10, 13, 16, 19, 22, 25, 28, 31, 34, 37, 40, 43, 46, 49]"
      ]
     },
     "execution_count": 6,
     "metadata": {},
     "output_type": "execute_result"
    }
   ],
   "source": [
    "list(range(10,50,3))"
   ]
  },
  {
   "cell_type": "code",
   "execution_count": 9,
   "id": "6260254b",
   "metadata": {},
   "outputs": [
    {
     "name": "stdout",
     "output_type": "stream",
     "text": [
      "2\n",
      "4\n",
      "6\n",
      "8\n",
      "10\n",
      "12\n",
      "14\n",
      "16\n",
      "18\n",
      "20\n"
     ]
    }
   ],
   "source": [
    "for i in range(1,11):  #2 table\n",
    "    print(i*2)"
   ]
  },
  {
   "cell_type": "code",
   "execution_count": 11,
   "id": "96d6cd9d",
   "metadata": {},
   "outputs": [],
   "source": [
    "def lw():\n",
    "    for i in range(1,6):\n",
    "        print(i)"
   ]
  },
  {
   "cell_type": "code",
   "execution_count": 12,
   "id": "67592dc7",
   "metadata": {},
   "outputs": [
    {
     "name": "stdout",
     "output_type": "stream",
     "text": [
      "1\n",
      "2\n",
      "3\n",
      "4\n",
      "5\n"
     ]
    }
   ],
   "source": [
    "lw()"
   ]
  },
  {
   "cell_type": "code",
   "execution_count": 13,
   "id": "cc13e638",
   "metadata": {},
   "outputs": [],
   "source": [
    "def lw():\n",
    "    for i in range(1,6):\n",
    "        return(1)"
   ]
  },
  {
   "cell_type": "code",
   "execution_count": 15,
   "id": "9c8f0e7a",
   "metadata": {},
   "outputs": [
    {
     "data": {
      "text/plain": [
       "1"
      ]
     },
     "execution_count": 15,
     "metadata": {},
     "output_type": "execute_result"
    }
   ],
   "source": [
    "lw()"
   ]
  },
  {
   "cell_type": "code",
   "execution_count": 16,
   "id": "b354a794",
   "metadata": {},
   "outputs": [],
   "source": [
    "def lw():\n",
    "    #range:mob - 1 2 3 4 5\n",
    "    for i in range(1,6):\n",
    "        return(1)"
   ]
  },
  {
   "cell_type": "code",
   "execution_count": 19,
   "id": "c623d0cd",
   "metadata": {},
   "outputs": [],
   "source": [
    "def hello():\n",
    "    x=5\n",
    "    print(\"hi\")\n",
    "    print(x)\n",
    "    return 5"
   ]
  },
  {
   "cell_type": "code",
   "execution_count": 20,
   "id": "f0a26b87",
   "metadata": {},
   "outputs": [
    {
     "name": "stdout",
     "output_type": "stream",
     "text": [
      "hi\n",
      "5\n"
     ]
    },
    {
     "data": {
      "text/plain": [
       "5"
      ]
     },
     "execution_count": 20,
     "metadata": {},
     "output_type": "execute_result"
    }
   ],
   "source": [
    "hello()"
   ]
  },
  {
   "cell_type": "code",
   "execution_count": 21,
   "id": "425f4fcd",
   "metadata": {},
   "outputs": [
    {
     "ename": "NameError",
     "evalue": "name 'x' is not defined",
     "output_type": "error",
     "traceback": [
      "\u001b[1;31m---------------------------------------------------------------------------\u001b[0m",
      "\u001b[1;31mNameError\u001b[0m                                 Traceback (most recent call last)",
      "Cell \u001b[1;32mIn[21], line 1\u001b[0m\n\u001b[1;32m----> 1\u001b[0m \u001b[43mx\u001b[49m\n",
      "\u001b[1;31mNameError\u001b[0m: name 'x' is not defined"
     ]
    }
   ],
   "source": [
    "x  var used in func are local var only gives value until only the fumction is activated(stack mem and activation record)"
   ]
  },
  {
   "cell_type": "code",
   "execution_count": null,
   "id": "6006ea8b",
   "metadata": {},
   "outputs": [],
   "source": [
    "def lw():\n",
    "    #range:mob - 1 2 3 4 5\n",
    "    for i in range(1111,2222,3333,4444):\n",
    "        mob send msg               #after return ur program is terminated\n",
    "        return(1)"
   ]
  },
  {
   "cell_type": "code",
   "execution_count": 45,
   "id": "ae0640a0",
   "metadata": {},
   "outputs": [],
   "source": [
    "#stateful keyword used in place of return\n",
    "def lw():\n",
    "    #range:mob - 1 2 3 4 5\n",
    "    for i in range(1,5):\n",
    "        #mob send msg               \n",
    "        yield(i)"
   ]
  },
  {
   "cell_type": "code",
   "execution_count": 46,
   "id": "bcaca174",
   "metadata": {},
   "outputs": [
    {
     "data": {
      "text/plain": [
       "<generator object lw at 0x0000021C0FC80B30>"
      ]
     },
     "execution_count": 46,
     "metadata": {},
     "output_type": "execute_result"
    }
   ],
   "source": [
    "lw()"
   ]
  },
  {
   "cell_type": "code",
   "execution_count": 47,
   "id": "d7bc79cf",
   "metadata": {},
   "outputs": [],
   "source": [
    "b =lw()"
   ]
  },
  {
   "cell_type": "code",
   "execution_count": 48,
   "id": "cf1eb108",
   "metadata": {},
   "outputs": [
    {
     "data": {
      "text/plain": [
       "1"
      ]
     },
     "execution_count": 48,
     "metadata": {},
     "output_type": "execute_result"
    }
   ],
   "source": [
    "next(b)"
   ]
  },
  {
   "cell_type": "code",
   "execution_count": 49,
   "id": "95a7af75",
   "metadata": {},
   "outputs": [
    {
     "data": {
      "text/plain": [
       "2"
      ]
     },
     "execution_count": 49,
     "metadata": {},
     "output_type": "execute_result"
    }
   ],
   "source": [
    "next(b)"
   ]
  },
  {
   "cell_type": "code",
   "execution_count": 50,
   "id": "6fa913cb",
   "metadata": {},
   "outputs": [
    {
     "data": {
      "text/plain": [
       "3"
      ]
     },
     "execution_count": 50,
     "metadata": {},
     "output_type": "execute_result"
    }
   ],
   "source": [
    "next(b)"
   ]
  },
  {
   "cell_type": "code",
   "execution_count": 51,
   "id": "ff2cb681",
   "metadata": {},
   "outputs": [
    {
     "data": {
      "text/plain": [
       "4"
      ]
     },
     "execution_count": 51,
     "metadata": {},
     "output_type": "execute_result"
    }
   ],
   "source": [
    "next(b)"
   ]
  },
  {
   "cell_type": "code",
   "execution_count": 52,
   "id": "992599db",
   "metadata": {},
   "outputs": [
    {
     "ename": "StopIteration",
     "evalue": "",
     "output_type": "error",
     "traceback": [
      "\u001b[1;31m---------------------------------------------------------------------------\u001b[0m",
      "\u001b[1;31mStopIteration\u001b[0m                             Traceback (most recent call last)",
      "Cell \u001b[1;32mIn[52], line 1\u001b[0m\n\u001b[1;32m----> 1\u001b[0m \u001b[38;5;28;43mnext\u001b[39;49m\u001b[43m(\u001b[49m\u001b[43mb\u001b[49m\u001b[43m)\u001b[49m\n",
      "\u001b[1;31mStopIteration\u001b[0m: "
     ]
    }
   ],
   "source": [
    "next(b)"
   ]
  },
  {
   "cell_type": "code",
   "execution_count": 53,
   "id": "007a53ab",
   "metadata": {},
   "outputs": [],
   "source": [
    "a =[]"
   ]
  },
  {
   "cell_type": "code",
   "execution_count": 54,
   "id": "6f98b9e2",
   "metadata": {},
   "outputs": [],
   "source": [
    "a.append(\"anjali\")"
   ]
  },
  {
   "cell_type": "code",
   "execution_count": 55,
   "id": "bc7c702b",
   "metadata": {},
   "outputs": [],
   "source": [
    "a.append(\"cutie\")"
   ]
  },
  {
   "cell_type": "code",
   "execution_count": 56,
   "id": "d3fe4229",
   "metadata": {},
   "outputs": [
    {
     "data": {
      "text/plain": [
       "['anjali', 'cutie']"
      ]
     },
     "execution_count": 56,
     "metadata": {},
     "output_type": "execute_result"
    }
   ],
   "source": [
    "a"
   ]
  },
  {
   "cell_type": "code",
   "execution_count": 64,
   "id": "6ea183db",
   "metadata": {},
   "outputs": [
    {
     "data": {
      "text/plain": [
       "[0, 2, 4, 6, 8]"
      ]
     },
     "execution_count": 64,
     "metadata": {},
     "output_type": "execute_result"
    }
   ],
   "source": [
    "a=[]\n",
    "for i in range(5):\n",
    "  a.append(i*2)\n",
    "a"
   ]
  },
  {
   "cell_type": "code",
   "execution_count": 65,
   "id": "cd7b7daa",
   "metadata": {},
   "outputs": [],
   "source": [
    "#list comprehension\n",
    "a= [i*2 for i in range(5)]       #single line code of upper code"
   ]
  },
  {
   "cell_type": "code",
   "execution_count": 58,
   "id": "6f1e1a57",
   "metadata": {},
   "outputs": [
    {
     "data": {
      "text/plain": [
       "[0, 2, 4, 6, 8]"
      ]
     },
     "execution_count": 58,
     "metadata": {},
     "output_type": "execute_result"
    }
   ],
   "source": [
    "a"
   ]
  },
  {
   "cell_type": "code",
   "execution_count": 74,
   "id": "9a5fd064",
   "metadata": {},
   "outputs": [
    {
     "data": {
      "text/plain": [
       "[0, 2, 4, 8]"
      ]
     },
     "execution_count": 74,
     "metadata": {},
     "output_type": "execute_result"
    }
   ],
   "source": [
    "a=[]\n",
    "for i in range(5):\n",
    " if i != 3:\n",
    "    a.append(i*2)\n",
    "a"
   ]
  },
  {
   "cell_type": "code",
   "execution_count": 70,
   "id": "b0878805",
   "metadata": {},
   "outputs": [],
   "source": [
    "#list comprehension\n",
    "a= [i*2 for i in range(5) if i != 3]       "
   ]
  },
  {
   "cell_type": "code",
   "execution_count": 71,
   "id": "7d84f390",
   "metadata": {},
   "outputs": [
    {
     "data": {
      "text/plain": [
       "[0, 2, 4, 8]"
      ]
     },
     "execution_count": 71,
     "metadata": {},
     "output_type": "execute_result"
    }
   ],
   "source": [
    "a"
   ]
  },
  {
   "cell_type": "code",
   "execution_count": 75,
   "id": "a92eb525",
   "metadata": {},
   "outputs": [],
   "source": [
    "e = [i+ \"@gmail.com\" for i in [\"harry\",\"vimal\",\"pop\"]]"
   ]
  },
  {
   "cell_type": "code",
   "execution_count": 76,
   "id": "9377ae46",
   "metadata": {},
   "outputs": [
    {
     "data": {
      "text/plain": [
       "['harry@gmail.com', 'vimal@gmail.com', 'pop@gmail.com']"
      ]
     },
     "execution_count": 76,
     "metadata": {},
     "output_type": "execute_result"
    }
   ],
   "source": [
    "e"
   ]
  },
  {
   "cell_type": "code",
   "execution_count": 78,
   "id": "219582bb",
   "metadata": {},
   "outputs": [],
   "source": [
    "exp = 5\n",
    "if exp >= 5:\n",
    "    job=\"ok\"\n",
    "else:\n",
    "    job=\"not ok\""
   ]
  },
  {
   "cell_type": "code",
   "execution_count": 79,
   "id": "06a4c60b",
   "metadata": {},
   "outputs": [
    {
     "data": {
      "text/plain": [
       "'ok'"
      ]
     },
     "execution_count": 79,
     "metadata": {},
     "output_type": "execute_result"
    }
   ],
   "source": [
    "job"
   ]
  },
  {
   "cell_type": "code",
   "execution_count": 82,
   "id": "323d65e6",
   "metadata": {},
   "outputs": [],
   "source": [
    "job = \"ok\" if exp >= 5 else \"not ok\""
   ]
  },
  {
   "cell_type": "code",
   "execution_count": 83,
   "id": "a03d13a9",
   "metadata": {},
   "outputs": [
    {
     "data": {
      "text/plain": [
       "'ok'"
      ]
     },
     "execution_count": 83,
     "metadata": {},
     "output_type": "execute_result"
    }
   ],
   "source": [
    "job"
   ]
  },
  {
   "cell_type": "code",
   "execution_count": null,
   "id": "e5790a3d",
   "metadata": {},
   "outputs": [],
   "source": []
  },
  {
   "cell_type": "code",
   "execution_count": null,
   "id": "cda10de0",
   "metadata": {},
   "outputs": [],
   "source": []
  }
 ],
 "metadata": {
  "kernelspec": {
   "display_name": "Python 3 (ipykernel)",
   "language": "python",
   "name": "python3"
  },
  "language_info": {
   "codemirror_mode": {
    "name": "ipython",
    "version": 3
   },
   "file_extension": ".py",
   "mimetype": "text/x-python",
   "name": "python",
   "nbconvert_exporter": "python",
   "pygments_lexer": "ipython3",
   "version": "3.10.9"
  }
 },
 "nbformat": 4,
 "nbformat_minor": 5
}
