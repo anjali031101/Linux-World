{
 "cells": [
  {
   "cell_type": "code",
   "execution_count": 9,
   "id": "d986c07e",
   "metadata": {},
   "outputs": [],
   "source": [
    "student =[\n",
    "          [\"sumit\",8002345671,\"pilani\"],\n",
    "          [\"anjali\",7002345163,\"jaipur\"],\n",
    "          [\"khushi\",4563782902,\"delhi\"],\n",
    "          [\"viheet\",4572977221,\"goa\"],\n",
    "          [\"suzi\",4536789291,\"mumbai\"]\n",
    "]"
   ]
  },
  {
   "cell_type": "code",
   "execution_count": 10,
   "id": "343f05ad",
   "metadata": {},
   "outputs": [
    {
     "data": {
      "text/plain": [
       "[['sumit', 8002345671, 'pilani'],\n",
       " ['anjali', 7002345163, 'jaipur'],\n",
       " ['khushi', 4563782902, 'delhi'],\n",
       " ['viheet', 4572977221, 'goa'],\n",
       " ['suzi', 4536789291, 'mumbai']]"
      ]
     },
     "execution_count": 10,
     "metadata": {},
     "output_type": "execute_result"
    }
   ],
   "source": [
    "student"
   ]
  },
  {
   "cell_type": "code",
   "execution_count": 11,
   "id": "fc2b60d8",
   "metadata": {},
   "outputs": [],
   "source": [
    "import numpy"
   ]
  },
  {
   "cell_type": "code",
   "execution_count": 12,
   "id": "411c5771",
   "metadata": {},
   "outputs": [],
   "source": [
    "b = numpy.array(student)"
   ]
  },
  {
   "cell_type": "code",
   "execution_count": 13,
   "id": "3564ea5c",
   "metadata": {},
   "outputs": [
    {
     "data": {
      "text/plain": [
       "array([['sumit', '8002345671', 'pilani'],\n",
       "       ['anjali', '7002345163', 'jaipur'],\n",
       "       ['khushi', '4563782902', 'delhi'],\n",
       "       ['viheet', '4572977221', 'goa'],\n",
       "       ['suzi', '4536789291', 'mumbai']], dtype='<U21')"
      ]
     },
     "execution_count": 13,
     "metadata": {},
     "output_type": "execute_result"
    }
   ],
   "source": [
    "b"
   ]
  },
  {
   "cell_type": "code",
   "execution_count": 14,
   "id": "369f848a",
   "metadata": {},
   "outputs": [
    {
     "data": {
      "text/plain": [
       "array(['8002345671', '7002345163', '4563782902', '4572977221',\n",
       "       '4536789291'], dtype='<U21')"
      ]
     },
     "execution_count": 14,
     "metadata": {},
     "output_type": "execute_result"
    }
   ],
   "source": [
    "b[:,1]"
   ]
  },
  {
   "cell_type": "code",
   "execution_count": null,
   "id": "17351323",
   "metadata": {},
   "outputs": [],
   "source": []
  }
 ],
 "metadata": {
  "kernelspec": {
   "display_name": "Python 3 (ipykernel)",
   "language": "python",
   "name": "python3"
  },
  "language_info": {
   "codemirror_mode": {
    "name": "ipython",
    "version": 3
   },
   "file_extension": ".py",
   "mimetype": "text/x-python",
   "name": "python",
   "nbconvert_exporter": "python",
   "pygments_lexer": "ipython3",
   "version": "3.10.9"
  }
 },
 "nbformat": 4,
 "nbformat_minor": 5
}
